{
 "cells": [
  {
   "cell_type": "markdown",
   "id": "9a5af0b5-db3a-4efa-b661-03b0fb6612cf",
   "metadata": {},
   "source": [
    "# Intro to Data Cleaning"
   ]
  },
  {
   "cell_type": "markdown",
   "id": "e2ce03d5-cfe5-44b5-a31b-c0b15db1c819",
   "metadata": {},
   "source": [
    "**Data cleaning** is a _4 step process_:\n",
    "\n",
    "> finding missing data\n",
    "\n",
    "> fix missing data\n",
    "\n",
    "> clean not null and invalid values\n",
    "\n",
    ">visualize  "
   ]
  },
  {
   "cell_type": "code",
   "execution_count": null,
   "id": "34092aa6-b828-4c16-af10-6459f3893eb1",
   "metadata": {},
   "outputs": [],
   "source": []
  }
 ],
 "metadata": {
  "kernelspec": {
   "display_name": "Python 3 (ipykernel)",
   "language": "python",
   "name": "python3"
  },
  "language_info": {
   "codemirror_mode": {
    "name": "ipython",
    "version": 3
   },
   "file_extension": ".py",
   "mimetype": "text/x-python",
   "name": "python",
   "nbconvert_exporter": "python",
   "pygments_lexer": "ipython3",
   "version": "3.11.7"
  }
 },
 "nbformat": 4,
 "nbformat_minor": 5
}

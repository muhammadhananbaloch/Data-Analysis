{
 "cells": [
  {
   "cell_type": "code",
   "execution_count": 2,
   "id": "c9c4d729-0136-42c9-b4be-757d9abac4a4",
   "metadata": {},
   "outputs": [],
   "source": [
    "import sys\n",
    "import numpy as np"
   ]
  },
  {
   "cell_type": "code",
   "execution_count": 3,
   "id": "61d949f8-d9f1-4462-a2b9-8cb1abad7b82",
   "metadata": {},
   "outputs": [
    {
     "data": {
      "text/plain": [
       "array([1, 2, 3, 4])"
      ]
     },
     "execution_count": 3,
     "metadata": {},
     "output_type": "execute_result"
    }
   ],
   "source": [
    "np.array([1, 2, 3, 4])"
   ]
  },
  {
   "cell_type": "code",
   "execution_count": 4,
   "id": "f292ef5b-2ea6-49f3-a2c9-8ae89da49830",
   "metadata": {},
   "outputs": [],
   "source": [
    "a = np.array([1, 2, 3, 4])"
   ]
  },
  {
   "cell_type": "code",
   "execution_count": 5,
   "id": "93aacc99-2679-4687-b44a-34a3a864c7bf",
   "metadata": {},
   "outputs": [],
   "source": [
    "b = np.array([0, .5, 1, 1.5, 2])"
   ]
  },
  {
   "cell_type": "code",
   "execution_count": 6,
   "id": "8c56f230-7963-4ac6-9567-74a1b6ab9d01",
   "metadata": {},
   "outputs": [
    {
     "data": {
      "text/plain": [
       "(1, 2)"
      ]
     },
     "execution_count": 6,
     "metadata": {},
     "output_type": "execute_result"
    }
   ],
   "source": [
    "a[0], a[1]"
   ]
  },
  {
   "cell_type": "code",
   "execution_count": 7,
   "id": "5b1451ce-0539-4783-a0af-97dd27b9a9a1",
   "metadata": {},
   "outputs": [
    {
     "data": {
      "text/plain": [
       "array([1, 2, 3, 4])"
      ]
     },
     "execution_count": 7,
     "metadata": {},
     "output_type": "execute_result"
    }
   ],
   "source": [
    "a[0:]"
   ]
  },
  {
   "cell_type": "code",
   "execution_count": 8,
   "id": "d6f970bf-93db-4fbe-b629-0cba3b30cde1",
   "metadata": {},
   "outputs": [
    {
     "data": {
      "text/plain": [
       "array([2, 3])"
      ]
     },
     "execution_count": 8,
     "metadata": {},
     "output_type": "execute_result"
    }
   ],
   "source": [
    "a[1:3]"
   ]
  },
  {
   "cell_type": "code",
   "execution_count": 9,
   "id": "48659fd5-ea84-452c-bf3c-ebabe4946ef3",
   "metadata": {},
   "outputs": [
    {
     "data": {
      "text/plain": [
       "array([2, 3])"
      ]
     },
     "execution_count": 9,
     "metadata": {},
     "output_type": "execute_result"
    }
   ],
   "source": [
    "a[1:-1]"
   ]
  },
  {
   "cell_type": "code",
   "execution_count": 10,
   "id": "0ebfc7d4-49aa-4d1d-9c8a-48237c23ff44",
   "metadata": {},
   "outputs": [
    {
     "data": {
      "text/plain": [
       "array([1, 3])"
      ]
     },
     "execution_count": 10,
     "metadata": {},
     "output_type": "execute_result"
    }
   ],
   "source": [
    "a[::2]"
   ]
  },
  {
   "cell_type": "markdown",
   "id": "f3cd6641-4875-46cd-918a-b332281148b2",
   "metadata": {},
   "source": [
    "*multiindexing*"
   ]
  },
  {
   "cell_type": "code",
   "execution_count": 11,
   "id": "31a8d713-12d0-4e83-b7ff-1f9372aeaa4a",
   "metadata": {},
   "outputs": [
    {
     "data": {
      "text/plain": [
       "(0.0, 1.0, 2.0)"
      ]
     },
     "execution_count": 11,
     "metadata": {},
     "output_type": "execute_result"
    }
   ],
   "source": [
    "b[0], b[2], b[-1]"
   ]
  },
  {
   "cell_type": "code",
   "execution_count": 12,
   "id": "2b665f4f-335a-4c4d-b3a3-48daa5bff99d",
   "metadata": {},
   "outputs": [
    {
     "data": {
      "text/plain": [
       "array([0., 1., 2.])"
      ]
     },
     "execution_count": 12,
     "metadata": {},
     "output_type": "execute_result"
    }
   ],
   "source": [
    "b[[0, 2, -1]]"
   ]
  },
  {
   "cell_type": "markdown",
   "id": "47ff2ff8-d5ca-4c32-8b8e-f4a9217e1886",
   "metadata": {},
   "source": [
    "## Array Types"
   ]
  },
  {
   "cell_type": "code",
   "execution_count": 13,
   "id": "76a29b0f-bc63-4faf-9aeb-56c073cc4fde",
   "metadata": {},
   "outputs": [
    {
     "data": {
      "text/plain": [
       "array([1, 2, 3, 4])"
      ]
     },
     "execution_count": 13,
     "metadata": {},
     "output_type": "execute_result"
    }
   ],
   "source": [
    "a"
   ]
  },
  {
   "cell_type": "code",
   "execution_count": 14,
   "id": "fe2a8529-6372-42e9-bd52-433f34825267",
   "metadata": {},
   "outputs": [
    {
     "data": {
      "text/plain": [
       "dtype('int32')"
      ]
     },
     "execution_count": 14,
     "metadata": {},
     "output_type": "execute_result"
    }
   ],
   "source": [
    "a.dtype"
   ]
  },
  {
   "cell_type": "code",
   "execution_count": 15,
   "id": "773aa7a1-3c8c-4fb3-a703-b1fad2a83c18",
   "metadata": {},
   "outputs": [
    {
     "data": {
      "text/plain": [
       "array([0. , 0.5, 1. , 1.5, 2. ])"
      ]
     },
     "execution_count": 15,
     "metadata": {},
     "output_type": "execute_result"
    }
   ],
   "source": [
    "b"
   ]
  },
  {
   "cell_type": "code",
   "execution_count": 16,
   "id": "98d68733-ce0c-4216-9808-cefd2b0b3eef",
   "metadata": {},
   "outputs": [
    {
     "data": {
      "text/plain": [
       "dtype('float64')"
      ]
     },
     "execution_count": 16,
     "metadata": {},
     "output_type": "execute_result"
    }
   ],
   "source": [
    "b.dtype"
   ]
  },
  {
   "cell_type": "code",
   "execution_count": 17,
   "id": "c6a6a61b-c5bf-4d76-97d3-bd3ae922098c",
   "metadata": {},
   "outputs": [
    {
     "data": {
      "text/plain": [
       "array([1., 2., 3., 4.])"
      ]
     },
     "execution_count": 17,
     "metadata": {},
     "output_type": "execute_result"
    }
   ],
   "source": [
    "np.array([1, 2, 3, 4], dtype=\"float\")"
   ]
  },
  {
   "cell_type": "code",
   "execution_count": 18,
   "id": "debe3ef6-aa6b-4425-af40-a140b70acc6b",
   "metadata": {},
   "outputs": [
    {
     "data": {
      "text/plain": [
       "array([1, 2, 3, 4], dtype=int8)"
      ]
     },
     "execution_count": 18,
     "metadata": {},
     "output_type": "execute_result"
    }
   ],
   "source": [
    "np.array([1, 2, 3, 4], dtype=np.int8)"
   ]
  },
  {
   "cell_type": "code",
   "execution_count": 19,
   "id": "719a9f5e-7537-4f58-9d68-029011ec6753",
   "metadata": {},
   "outputs": [],
   "source": [
    "c = np.array(['a', 'b', 'c'])"
   ]
  },
  {
   "cell_type": "code",
   "execution_count": 20,
   "id": "7f05a3fc-ad1c-40d4-bf7b-d89ed528c6d8",
   "metadata": {},
   "outputs": [
    {
     "data": {
      "text/plain": [
       "dtype('<U1')"
      ]
     },
     "execution_count": 20,
     "metadata": {},
     "output_type": "execute_result"
    }
   ],
   "source": [
    "c.dtype"
   ]
  },
  {
   "cell_type": "code",
   "execution_count": 21,
   "id": "435c8c21-5ab1-4cc6-b15c-9694307e5c50",
   "metadata": {},
   "outputs": [],
   "source": [
    "d = np.array([{'a':1}, sys])"
   ]
  },
  {
   "cell_type": "code",
   "execution_count": 22,
   "id": "6c620c9c-c3be-46c3-b740-182728832b20",
   "metadata": {},
   "outputs": [
    {
     "data": {
      "text/plain": [
       "dtype('O')"
      ]
     },
     "execution_count": 22,
     "metadata": {},
     "output_type": "execute_result"
    }
   ],
   "source": [
    "d.dtype"
   ]
  },
  {
   "cell_type": "markdown",
   "id": "1ba0ff98-43cb-421f-b0b2-1f99b9f79d5e",
   "metadata": {},
   "source": [
    "## Dimensions and Shapes"
   ]
  },
  {
   "cell_type": "code",
   "execution_count": 23,
   "id": "61cd6f64-feef-494e-b054-52282542d0d4",
   "metadata": {},
   "outputs": [],
   "source": [
    "A = np.array([\n",
    "    [1, 2, 3],\n",
    "    [4, 5, 6]\n",
    "])"
   ]
  },
  {
   "cell_type": "code",
   "execution_count": 24,
   "id": "f1953c68-865c-46af-a4c8-72d926d2322d",
   "metadata": {},
   "outputs": [
    {
     "data": {
      "text/plain": [
       "(2, 3)"
      ]
     },
     "execution_count": 24,
     "metadata": {},
     "output_type": "execute_result"
    }
   ],
   "source": [
    "A.shape"
   ]
  },
  {
   "cell_type": "code",
   "execution_count": 25,
   "id": "76152f02-b43a-4f78-ae2a-087721233aa6",
   "metadata": {},
   "outputs": [
    {
     "data": {
      "text/plain": [
       "2"
      ]
     },
     "execution_count": 25,
     "metadata": {},
     "output_type": "execute_result"
    }
   ],
   "source": [
    "A.ndim"
   ]
  },
  {
   "cell_type": "code",
   "execution_count": 26,
   "id": "042a94db-ac7c-4af7-a74e-af9bc24344ab",
   "metadata": {},
   "outputs": [
    {
     "data": {
      "text/plain": [
       "6"
      ]
     },
     "execution_count": 26,
     "metadata": {},
     "output_type": "execute_result"
    }
   ],
   "source": [
    "A.size"
   ]
  },
  {
   "cell_type": "code",
   "execution_count": 27,
   "id": "26614e5e-606a-412a-abb0-a4511df30776",
   "metadata": {},
   "outputs": [],
   "source": [
    "B = np.array([\n",
    "    [\n",
    "        [12, 11, 10],\n",
    "        [9, 8, 7],\n",
    "    ],\n",
    "    [\n",
    "        [6, 5, 4],\n",
    "        [3, 2, 1]\n",
    "    ]\n",
    "])\n",
    "             \n",
    "    "
   ]
  },
  {
   "cell_type": "code",
   "execution_count": 28,
   "id": "6a36c07a-5cea-48e2-8f7e-4c459ce88af2",
   "metadata": {},
   "outputs": [
    {
     "data": {
      "text/plain": [
       "array([[[12, 11, 10],\n",
       "        [ 9,  8,  7]],\n",
       "\n",
       "       [[ 6,  5,  4],\n",
       "        [ 3,  2,  1]]])"
      ]
     },
     "execution_count": 28,
     "metadata": {},
     "output_type": "execute_result"
    }
   ],
   "source": [
    "B"
   ]
  },
  {
   "cell_type": "code",
   "execution_count": 29,
   "id": "d0849c3d-4f40-4d06-85a9-5e26db737888",
   "metadata": {},
   "outputs": [
    {
     "data": {
      "text/plain": [
       "(2, 2, 3)"
      ]
     },
     "execution_count": 29,
     "metadata": {},
     "output_type": "execute_result"
    }
   ],
   "source": [
    "B.shape"
   ]
  },
  {
   "cell_type": "code",
   "execution_count": 30,
   "id": "6c54fabf-42e0-4b15-9204-1bd869f7416e",
   "metadata": {},
   "outputs": [
    {
     "data": {
      "text/plain": [
       "3"
      ]
     },
     "execution_count": 30,
     "metadata": {},
     "output_type": "execute_result"
    }
   ],
   "source": [
    "B.ndim"
   ]
  },
  {
   "cell_type": "code",
   "execution_count": 31,
   "id": "ab41acc8-612f-4947-9366-80128e4b4791",
   "metadata": {},
   "outputs": [
    {
     "data": {
      "text/plain": [
       "12"
      ]
     },
     "execution_count": 31,
     "metadata": {},
     "output_type": "execute_result"
    }
   ],
   "source": [
    "B.size"
   ]
  },
  {
   "cell_type": "code",
   "execution_count": 32,
   "id": "2ba430ba-aeb1-499f-bfe7-3e7002d41124",
   "metadata": {},
   "outputs": [
    {
     "data": {
      "text/plain": [
       "dtype('int32')"
      ]
     },
     "execution_count": 32,
     "metadata": {},
     "output_type": "execute_result"
    }
   ],
   "source": [
    "B.dtype"
   ]
  },
  {
   "cell_type": "markdown",
   "id": "ff40c520-091a-443c-8fac-2e3d237cc38c",
   "metadata": {},
   "source": [
    "If the shape isn't consistent, it'll jst fall back to regular Python Objects:"
   ]
  },
  {
   "cell_type": "code",
   "execution_count": 33,
   "id": "e9cc5f19-889d-4bbf-8c68-ef18b32dfc56",
   "metadata": {},
   "outputs": [
    {
     "ename": "ValueError",
     "evalue": "setting an array element with a sequence. The requested array has an inhomogeneous shape after 1 dimensions. The detected shape was (2,) + inhomogeneous part.",
     "output_type": "error",
     "traceback": [
      "\u001b[1;31m---------------------------------------------------------------------------\u001b[0m",
      "\u001b[1;31mValueError\u001b[0m                                Traceback (most recent call last)",
      "Cell \u001b[1;32mIn[33], line 1\u001b[0m\n\u001b[1;32m----> 1\u001b[0m C \u001b[38;5;241m=\u001b[39m np\u001b[38;5;241m.\u001b[39marray([\n\u001b[0;32m      2\u001b[0m     [\n\u001b[0;32m      3\u001b[0m         [\u001b[38;5;241m12\u001b[39m, \u001b[38;5;241m11\u001b[39m, \u001b[38;5;241m10\u001b[39m],\n\u001b[0;32m      4\u001b[0m         [\u001b[38;5;241m9\u001b[39m, \u001b[38;5;241m8\u001b[39m, \u001b[38;5;241m7\u001b[39m],\n\u001b[0;32m      5\u001b[0m     ],\n\u001b[0;32m      6\u001b[0m     [\n\u001b[0;32m      7\u001b[0m         [\u001b[38;5;241m6\u001b[39m, \u001b[38;5;241m5\u001b[39m, \u001b[38;5;241m4\u001b[39m]\n\u001b[0;32m      8\u001b[0m     ]\n\u001b[0;32m      9\u001b[0m ])\n",
      "\u001b[1;31mValueError\u001b[0m: setting an array element with a sequence. The requested array has an inhomogeneous shape after 1 dimensions. The detected shape was (2,) + inhomogeneous part."
     ]
    }
   ],
   "source": [
    "C = np.array([\n",
    "    [\n",
    "        [12, 11, 10],\n",
    "        [9, 8, 7],\n",
    "    ],\n",
    "    [\n",
    "        [6, 5, 4]\n",
    "    ]\n",
    "])"
   ]
  },
  {
   "cell_type": "code",
   "execution_count": null,
   "id": "320ccd5c-9e2e-4fde-ba55-74cd86174a68",
   "metadata": {},
   "outputs": [],
   "source": [
    "C.dtype"
   ]
  },
  {
   "cell_type": "code",
   "execution_count": null,
   "id": "a672983a-5a11-423e-a048-02577850862e",
   "metadata": {},
   "outputs": [],
   "source": [
    "C.size"
   ]
  },
  {
   "cell_type": "markdown",
   "id": "579cd1da-e09b-47e0-b689-c243383a15ff",
   "metadata": {},
   "source": [
    "## Indexing and Slicing of Matrices"
   ]
  },
  {
   "cell_type": "code",
   "execution_count": 128,
   "id": "9025c5ba-eb1e-459f-a2a3-a488dd148cdc",
   "metadata": {},
   "outputs": [],
   "source": [
    "# Square Matrix\n",
    "A = np.array([\n",
    "#    0. 1. 2\n",
    "    [1, 2, 3], #0\n",
    "    [4, 5, 6], #1\n",
    "    [7, 8, 9]  #2\n",
    "])"
   ]
  },
  {
   "cell_type": "code",
   "execution_count": 129,
   "id": "f0223f92-df67-436e-a1fe-d3bf7ce3b46c",
   "metadata": {},
   "outputs": [
    {
     "data": {
      "text/plain": [
       "array([4, 5, 6])"
      ]
     },
     "execution_count": 129,
     "metadata": {},
     "output_type": "execute_result"
    }
   ],
   "source": [
    "A[1]"
   ]
  },
  {
   "cell_type": "code",
   "execution_count": 130,
   "id": "f19f80b3-d824-493e-b85a-0d324d5cce6b",
   "metadata": {},
   "outputs": [
    {
     "data": {
      "text/plain": [
       "4"
      ]
     },
     "execution_count": 130,
     "metadata": {},
     "output_type": "execute_result"
    }
   ],
   "source": [
    "A[1][0]"
   ]
  },
  {
   "cell_type": "code",
   "execution_count": 131,
   "id": "174eec75-c99f-428d-8c80-f81f2b08820a",
   "metadata": {},
   "outputs": [],
   "source": [
    "# A[d1, d2, d3, d4]"
   ]
  },
  {
   "cell_type": "code",
   "execution_count": 132,
   "id": "468d96ca-0ce9-4133-8a52-b151d479edbf",
   "metadata": {},
   "outputs": [
    {
     "data": {
      "text/plain": [
       "4"
      ]
     },
     "execution_count": 132,
     "metadata": {},
     "output_type": "execute_result"
    }
   ],
   "source": [
    "A[1, 0]"
   ]
  },
  {
   "cell_type": "code",
   "execution_count": 133,
   "id": "283e0700-9e26-4d0e-853f-e6007680f037",
   "metadata": {},
   "outputs": [
    {
     "data": {
      "text/plain": [
       "array([[1, 2, 3],\n",
       "       [4, 5, 6]])"
      ]
     },
     "execution_count": 133,
     "metadata": {},
     "output_type": "execute_result"
    }
   ],
   "source": [
    "A[0:2]"
   ]
  },
  {
   "cell_type": "code",
   "execution_count": 134,
   "id": "8760f1bf-38b4-4af7-84c2-f81ad09c1cf4",
   "metadata": {},
   "outputs": [
    {
     "data": {
      "text/plain": [
       "array([[1, 2],\n",
       "       [4, 5],\n",
       "       [7, 8]])"
      ]
     },
     "execution_count": 134,
     "metadata": {},
     "output_type": "execute_result"
    }
   ],
   "source": [
    "A[:, :2]"
   ]
  },
  {
   "cell_type": "code",
   "execution_count": 138,
   "id": "113a1f8e-8c4f-4327-8a34-b875e7fd6404",
   "metadata": {},
   "outputs": [
    {
     "data": {
      "text/plain": [
       "array([[1, 2],\n",
       "       [4, 5]])"
      ]
     },
     "execution_count": 138,
     "metadata": {},
     "output_type": "execute_result"
    }
   ],
   "source": [
    "A[:2, :2]"
   ]
  },
  {
   "cell_type": "code",
   "execution_count": 136,
   "id": "c7cb6b16-6955-4976-9d12-f31e0508f4ef",
   "metadata": {},
   "outputs": [
    {
     "data": {
      "text/plain": [
       "array([[1, 2, 3],\n",
       "       [4, 5, 6],\n",
       "       [7, 8, 9]])"
      ]
     },
     "execution_count": 136,
     "metadata": {},
     "output_type": "execute_result"
    }
   ],
   "source": [
    "A"
   ]
  },
  {
   "cell_type": "markdown",
   "id": "97430931-f325-4997-860d-1c4151c63471",
   "metadata": {},
   "source": [
    "modifying array:"
   ]
  },
  {
   "cell_type": "code",
   "execution_count": null,
   "id": "9fa376e7-5af5-402d-97e4-94fdd78842d7",
   "metadata": {},
   "outputs": [],
   "source": [
    "A[1] = np.array([10, 10, 10])"
   ]
  },
  {
   "cell_type": "code",
   "execution_count": null,
   "id": "96405b00-0cf9-4249-b780-1ebe613a29cf",
   "metadata": {},
   "outputs": [],
   "source": [
    "A"
   ]
  },
  {
   "cell_type": "code",
   "execution_count": null,
   "id": "c2fbe634-5b7f-4d62-aa18-7fffbfc06914",
   "metadata": {},
   "outputs": [],
   "source": [
    "#expand operation\n",
    "A[2] = 99\n"
   ]
  },
  {
   "cell_type": "code",
   "execution_count": null,
   "id": "494bdbf3-8176-45cd-a9b9-7cfe0e96ae22",
   "metadata": {},
   "outputs": [],
   "source": [
    "A"
   ]
  },
  {
   "cell_type": "markdown",
   "id": "73b303e8-6493-447f-8c0b-a6482cfd4f1b",
   "metadata": {},
   "source": [
    "## Summary Statistics"
   ]
  },
  {
   "cell_type": "code",
   "execution_count": null,
   "id": "45412ae3-e955-400c-a427-d3886514eb6e",
   "metadata": {},
   "outputs": [],
   "source": [
    "a = np.array([1, 2, 3, 4])"
   ]
  },
  {
   "cell_type": "code",
   "execution_count": null,
   "id": "cfda2481-28d4-43d8-9d33-3b9e6df5ddc7",
   "metadata": {},
   "outputs": [],
   "source": [
    "a.sum()"
   ]
  },
  {
   "cell_type": "code",
   "execution_count": null,
   "id": "f249917b-d7c9-464b-bb85-1d3dcd35bc25",
   "metadata": {},
   "outputs": [],
   "source": [
    "a.mean()"
   ]
  },
  {
   "cell_type": "code",
   "execution_count": null,
   "id": "9118291f-03dd-4c2e-ae64-8df7bb8cb148",
   "metadata": {},
   "outputs": [],
   "source": [
    "a.std()"
   ]
  },
  {
   "cell_type": "code",
   "execution_count": null,
   "id": "f8176ee2-45f2-4860-b976-960cc87a7922",
   "metadata": {},
   "outputs": [],
   "source": [
    "a.var()"
   ]
  },
  {
   "cell_type": "code",
   "execution_count": null,
   "id": "e28a4a96-bf57-4a61-86a5-7db4a25a7929",
   "metadata": {},
   "outputs": [],
   "source": [
    "A = np.array([\n",
    "    [1, 2, 3],\n",
    "    [4, 5, 6],\n",
    "    [7, 8, 9]\n",
    "])"
   ]
  },
  {
   "cell_type": "code",
   "execution_count": null,
   "id": "19c4204b-bcbb-4085-9f63-31b4e8105c18",
   "metadata": {},
   "outputs": [],
   "source": [
    "A.sum()"
   ]
  },
  {
   "cell_type": "code",
   "execution_count": null,
   "id": "086aa5dd-6b16-4d7a-97ef-af161534eab9",
   "metadata": {},
   "outputs": [],
   "source": [
    "A.mean()"
   ]
  },
  {
   "cell_type": "code",
   "execution_count": null,
   "id": "33badbdd-8f4d-4592-a0c4-eb87dc5c32cd",
   "metadata": {},
   "outputs": [],
   "source": [
    "A.std()"
   ]
  },
  {
   "cell_type": "code",
   "execution_count": null,
   "id": "29007710-5566-4a92-b05f-8ff1334d48f4",
   "metadata": {},
   "outputs": [],
   "source": [
    "A.sum(axis=0)"
   ]
  },
  {
   "cell_type": "code",
   "execution_count": null,
   "id": "001f7cd2-1148-496a-b1b2-43be632767e4",
   "metadata": {},
   "outputs": [],
   "source": [
    "A.sum(axis=1)"
   ]
  },
  {
   "cell_type": "code",
   "execution_count": null,
   "id": "412eb19c-ffd3-43bd-9972-cadbe85ecf6c",
   "metadata": {},
   "outputs": [],
   "source": [
    "A.mean(axis=0)"
   ]
  },
  {
   "cell_type": "code",
   "execution_count": null,
   "id": "95f63382-09f5-4b52-be01-5ab6f15c8761",
   "metadata": {},
   "outputs": [],
   "source": [
    "A.mean(axis=1)"
   ]
  },
  {
   "cell_type": "code",
   "execution_count": null,
   "id": "0a2563ae-4477-45a0-bf2a-3ac8df9d46f7",
   "metadata": {},
   "outputs": [],
   "source": [
    "A.std(axis=0)"
   ]
  },
  {
   "cell_type": "code",
   "execution_count": null,
   "id": "14ce6cab-6ae8-4e42-8487-df2e6aa71245",
   "metadata": {
    "scrolled": true
   },
   "outputs": [],
   "source": [
    "A.std(axis=1)"
   ]
  },
  {
   "cell_type": "markdown",
   "id": "6a352518-2a26-4f6b-ab6b-f516ca563714",
   "metadata": {},
   "source": [
    "## Broadcasting and Vectorized operations"
   ]
  },
  {
   "cell_type": "code",
   "execution_count": null,
   "id": "04333e5e-1650-4f4b-945e-23e5dd8979b1",
   "metadata": {},
   "outputs": [],
   "source": [
    "a = np.arange(4)"
   ]
  },
  {
   "cell_type": "code",
   "execution_count": null,
   "id": "f6958ac7-535a-4854-97d7-44746f82a709",
   "metadata": {},
   "outputs": [],
   "source": [
    "a"
   ]
  },
  {
   "cell_type": "code",
   "execution_count": null,
   "id": "406719df-bbcf-4b7a-bb77-54d10e97b4e7",
   "metadata": {},
   "outputs": [],
   "source": [
    "a + 10"
   ]
  },
  {
   "cell_type": "code",
   "execution_count": null,
   "id": "d884a3c1-78fe-438c-a536-e306b301fac0",
   "metadata": {},
   "outputs": [],
   "source": [
    "a * 10"
   ]
  },
  {
   "cell_type": "code",
   "execution_count": null,
   "id": "c25e5cc1-9991-4bb4-9142-d913856344e4",
   "metadata": {},
   "outputs": [],
   "source": [
    "a"
   ]
  },
  {
   "cell_type": "code",
   "execution_count": null,
   "id": "991f10cc-9d31-4da4-88b6-0ae94044d485",
   "metadata": {},
   "outputs": [],
   "source": [
    "a += 100"
   ]
  },
  {
   "cell_type": "code",
   "execution_count": null,
   "id": "e10bed00-52b7-4fd4-8d44-a13c9254f049",
   "metadata": {},
   "outputs": [],
   "source": [
    "a"
   ]
  },
  {
   "cell_type": "code",
   "execution_count": null,
   "id": "46bdc253-e48e-4800-9395-3465ec26dd18",
   "metadata": {},
   "outputs": [],
   "source": [
    "l = [0, 1, 2, 3]"
   ]
  },
  {
   "cell_type": "code",
   "execution_count": null,
   "id": "766970b6-c04c-442b-a34d-2a94d7db3ec6",
   "metadata": {},
   "outputs": [],
   "source": [
    "[i * 10 for i in l]"
   ]
  },
  {
   "cell_type": "code",
   "execution_count": null,
   "id": "8a806c56-c9c2-40bc-9d97-4430de4249e2",
   "metadata": {},
   "outputs": [],
   "source": [
    "a = np.arange(4)"
   ]
  },
  {
   "cell_type": "code",
   "execution_count": null,
   "id": "c307c650-ce49-4abb-8293-5e638a8f5095",
   "metadata": {},
   "outputs": [],
   "source": [
    "a"
   ]
  },
  {
   "cell_type": "code",
   "execution_count": null,
   "id": "c4b394ec-1f98-44d8-91e0-9d0d879c553b",
   "metadata": {},
   "outputs": [],
   "source": [
    "b = np.array([10, 10, 10, 10])"
   ]
  },
  {
   "cell_type": "code",
   "execution_count": null,
   "id": "e35a6c74-ec45-490a-9e7d-44b4e999528f",
   "metadata": {},
   "outputs": [],
   "source": [
    "b"
   ]
  },
  {
   "cell_type": "code",
   "execution_count": null,
   "id": "5eae825c-0130-4a1c-9aa7-72b75f5b0ba2",
   "metadata": {},
   "outputs": [],
   "source": [
    "a + b"
   ]
  },
  {
   "cell_type": "markdown",
   "id": "d6c6564f-3290-44b1-a476-f1e48be7ac23",
   "metadata": {},
   "source": [
    "## Boolean Arrays\n",
    "\n",
    "_(Also called masks)_"
   ]
  },
  {
   "cell_type": "code",
   "execution_count": null,
   "id": "bfba44d5-0dab-4a62-a7d4-0f9befbadfad",
   "metadata": {},
   "outputs": [],
   "source": [
    "a = np.arange(4)"
   ]
  },
  {
   "cell_type": "code",
   "execution_count": null,
   "id": "1a030315-e4f1-410c-9f03-2f976d1dca90",
   "metadata": {},
   "outputs": [],
   "source": [
    "a"
   ]
  },
  {
   "cell_type": "code",
   "execution_count": null,
   "id": "edcc4f5e-0e96-4a6e-acf4-6bcf86831ddf",
   "metadata": {},
   "outputs": [],
   "source": [
    "a[[0,-1]]"
   ]
  },
  {
   "cell_type": "code",
   "execution_count": null,
   "id": "d40e72d8-fe5b-4494-83e8-6885f9b9cc7e",
   "metadata": {},
   "outputs": [],
   "source": [
    "a[0], a[-1]"
   ]
  },
  {
   "cell_type": "code",
   "execution_count": null,
   "id": "10d90223-b1de-4a2d-b202-0a51b8d072ef",
   "metadata": {},
   "outputs": [],
   "source": [
    "a[[True, False, False, True]]"
   ]
  },
  {
   "cell_type": "code",
   "execution_count": null,
   "id": "0021696c-3b9b-45d9-822b-884e6bcfe225",
   "metadata": {},
   "outputs": [],
   "source": [
    "a * 10"
   ]
  },
  {
   "cell_type": "code",
   "execution_count": null,
   "id": "4f4d4a3b-5750-4aa0-b093-b746f671faa0",
   "metadata": {},
   "outputs": [],
   "source": [
    "a"
   ]
  },
  {
   "cell_type": "code",
   "execution_count": null,
   "id": "fbb1b4fc-7349-4d8b-9a5a-afb74d5e8010",
   "metadata": {},
   "outputs": [],
   "source": [
    "a >= 2"
   ]
  },
  {
   "cell_type": "code",
   "execution_count": null,
   "id": "355ed809-3ad9-40c1-80c5-607a61401210",
   "metadata": {},
   "outputs": [],
   "source": [
    "a[a >= 2]"
   ]
  },
  {
   "cell_type": "code",
   "execution_count": null,
   "id": "3354a2fe-0491-4834-b25b-1846dbfd1783",
   "metadata": {},
   "outputs": [],
   "source": [
    "a.mean()"
   ]
  },
  {
   "cell_type": "code",
   "execution_count": null,
   "id": "d0070c3d-918f-40c2-a115-5a456586c0ac",
   "metadata": {},
   "outputs": [],
   "source": [
    "a[a > a.mean()]"
   ]
  },
  {
   "cell_type": "code",
   "execution_count": null,
   "id": "b3561d94-e3b6-4fff-aee5-f9dc41d1c0eb",
   "metadata": {},
   "outputs": [],
   "source": [
    "a[~(a > a.mean())]"
   ]
  },
  {
   "cell_type": "code",
   "execution_count": null,
   "id": "fee6aa37-d677-4e08-a642-4060a30f1d9f",
   "metadata": {},
   "outputs": [],
   "source": [
    "a[(a == 0) | (a == 1)]"
   ]
  },
  {
   "cell_type": "code",
   "execution_count": null,
   "id": "d3f44abb-747a-425f-b71d-b90876aef63c",
   "metadata": {},
   "outputs": [],
   "source": [
    "a[(a <= 2) & (a % 2 == 0)]"
   ]
  },
  {
   "cell_type": "code",
   "execution_count": null,
   "id": "d6180372-7cd6-4794-8d5b-380b7c90452a",
   "metadata": {},
   "outputs": [],
   "source": [
    "A = np.random.randint(100, size=(3, 3))"
   ]
  },
  {
   "cell_type": "code",
   "execution_count": null,
   "id": "7f61bca8-872b-45ec-9812-0ec2e5dc8711",
   "metadata": {},
   "outputs": [],
   "source": [
    "A"
   ]
  },
  {
   "cell_type": "code",
   "execution_count": null,
   "id": "e98593b8-94ce-44b0-b2e4-0cfeebf4c863",
   "metadata": {},
   "outputs": [],
   "source": [
    "A[np.array([\n",
    "    [True, False, True],\n",
    "    [False, True, False],\n",
    "    [True, False, True]\n",
    "])]"
   ]
  },
  {
   "cell_type": "code",
   "execution_count": null,
   "id": "a0985272-6b6b-49e6-8c2c-7a08f298168c",
   "metadata": {},
   "outputs": [],
   "source": [
    "A"
   ]
  },
  {
   "cell_type": "code",
   "execution_count": null,
   "id": "34c5b387-d6fe-4064-bde6-7e16277a229a",
   "metadata": {},
   "outputs": [],
   "source": [
    "A > 30"
   ]
  },
  {
   "cell_type": "code",
   "execution_count": null,
   "id": "e98356ea-a362-4ac7-8f8c-78eebc849d68",
   "metadata": {},
   "outputs": [],
   "source": [
    "A[A > 30]"
   ]
  },
  {
   "cell_type": "markdown",
   "id": "ed5c25be-09aa-45d8-bfb2-765e7d5c0cd1",
   "metadata": {},
   "source": [
    "## Linear Algebra"
   ]
  },
  {
   "cell_type": "code",
   "execution_count": null,
   "id": "ee69a169-4c8d-43f2-a292-c77f103047b4",
   "metadata": {},
   "outputs": [],
   "source": [
    "A = np.array([\n",
    "    [1, 2, 3],\n",
    "    [4, 5, 6],\n",
    "    [7, 8, 9]\n",
    "])"
   ]
  },
  {
   "cell_type": "code",
   "execution_count": null,
   "id": "6345e985-53cb-4f51-a9f7-8b93a0334b0f",
   "metadata": {},
   "outputs": [],
   "source": [
    "B = np.array([\n",
    "    [6, 5],\n",
    "    [4, 3],\n",
    "    [2, 1]\n",
    "])"
   ]
  },
  {
   "cell_type": "code",
   "execution_count": null,
   "id": "5b508b13-1cab-4304-bb59-644a6ad9c5d9",
   "metadata": {},
   "outputs": [],
   "source": [
    "A.dot(B)"
   ]
  },
  {
   "cell_type": "code",
   "execution_count": null,
   "id": "cb47f14e-9deb-43a7-a7e8-72e5405f00ff",
   "metadata": {},
   "outputs": [],
   "source": [
    "A.dot(B) #dot product"
   ]
  },
  {
   "cell_type": "code",
   "execution_count": null,
   "id": "2d82a2e7-f48e-4964-a118-bde71a5566b7",
   "metadata": {},
   "outputs": [],
   "source": [
    "A @ B #cross product"
   ]
  },
  {
   "cell_type": "code",
   "execution_count": null,
   "id": "7c786258-4b9a-4f1b-bb9a-7d3cd709122c",
   "metadata": {},
   "outputs": [],
   "source": [
    "B.T #Transpose"
   ]
  },
  {
   "cell_type": "code",
   "execution_count": null,
   "id": "ca8aaa37-fe66-4650-9777-356a33189713",
   "metadata": {},
   "outputs": [],
   "source": [
    "B.T @ A"
   ]
  },
  {
   "cell_type": "markdown",
   "id": "212ccb20-de54-4cc4-b2d6-0623f4955880",
   "metadata": {},
   "source": [
    "## Size of Objects in Memory"
   ]
  },
  {
   "cell_type": "markdown",
   "id": "48d2d63d-d251-4f32-919b-6dd528381e37",
   "metadata": {},
   "source": [
    "### Int, Floats"
   ]
  },
  {
   "cell_type": "code",
   "execution_count": 34,
   "id": "f96103ce-45e1-4a39-8bae-6e07ae4aafd1",
   "metadata": {},
   "outputs": [
    {
     "data": {
      "text/plain": [
       "28"
      ]
     },
     "execution_count": 34,
     "metadata": {},
     "output_type": "execute_result"
    }
   ],
   "source": [
    "# An integer in Python is > 24bytes\n",
    "sys.getsizeof(1)"
   ]
  },
  {
   "cell_type": "code",
   "execution_count": 35,
   "id": "e2bfeee4-cb0d-4f9a-9190-c19ad15ecd8d",
   "metadata": {},
   "outputs": [
    {
     "data": {
      "text/plain": [
       "72"
      ]
     },
     "execution_count": 35,
     "metadata": {},
     "output_type": "execute_result"
    }
   ],
   "source": [
    "# Longs are even larger\n",
    "sys.getsizeof(10**100)"
   ]
  },
  {
   "cell_type": "code",
   "execution_count": 40,
   "id": "93ba6981-21ba-49e0-9723-9d866d5d8278",
   "metadata": {},
   "outputs": [
    {
     "data": {
      "text/plain": [
       "4"
      ]
     },
     "execution_count": 40,
     "metadata": {},
     "output_type": "execute_result"
    }
   ],
   "source": [
    "# Numpy size is much smaller\n",
    "np.dtype(int).itemsize"
   ]
  },
  {
   "cell_type": "code",
   "execution_count": 41,
   "id": "3a1cb288-d272-47a4-8bae-83cc65eba2d0",
   "metadata": {},
   "outputs": [
    {
     "data": {
      "text/plain": [
       "1"
      ]
     },
     "execution_count": 41,
     "metadata": {},
     "output_type": "execute_result"
    }
   ],
   "source": [
    "np.dtype(np.int8).itemsize"
   ]
  },
  {
   "cell_type": "code",
   "execution_count": 42,
   "id": "0097d25b-57b3-42b6-bc7a-d917c389c11c",
   "metadata": {},
   "outputs": [
    {
     "data": {
      "text/plain": [
       "8"
      ]
     },
     "execution_count": 42,
     "metadata": {},
     "output_type": "execute_result"
    }
   ],
   "source": [
    "np.dtype(float).itemsize"
   ]
  },
  {
   "cell_type": "markdown",
   "id": "802d5142-570c-49ca-be1b-effb0cffb5e3",
   "metadata": {},
   "source": [
    "### Lists are even larger"
   ]
  },
  {
   "cell_type": "code",
   "execution_count": 43,
   "id": "16394155-c2b4-4db9-b592-350c1ce6f1b4",
   "metadata": {},
   "outputs": [
    {
     "data": {
      "text/plain": [
       "64"
      ]
     },
     "execution_count": 43,
     "metadata": {},
     "output_type": "execute_result"
    }
   ],
   "source": [
    "# A one-element list\n",
    "sys.getsizeof([1])"
   ]
  },
  {
   "cell_type": "code",
   "execution_count": 116,
   "id": "25f35fcd-c319-436f-b38c-1f7c6aef2f41",
   "metadata": {},
   "outputs": [
    {
     "data": {
      "text/plain": [
       "4"
      ]
     },
     "execution_count": 116,
     "metadata": {},
     "output_type": "execute_result"
    }
   ],
   "source": [
    "np.array([1]).nbytes"
   ]
  },
  {
   "cell_type": "markdown",
   "id": "db55b149-a368-40e7-b20b-fdc40a26acc9",
   "metadata": {},
   "source": [
    "### And performance is also important"
   ]
  },
  {
   "cell_type": "code",
   "execution_count": 55,
   "id": "76b1a903-f010-4649-90dc-907ba1fbee9d",
   "metadata": {},
   "outputs": [],
   "source": [
    "l = list(range(100000))"
   ]
  },
  {
   "cell_type": "code",
   "execution_count": 56,
   "id": "bb63917a-8789-4711-af35-9114afd935e8",
   "metadata": {},
   "outputs": [],
   "source": [
    "a = np.arange(100000)"
   ]
  },
  {
   "cell_type": "code",
   "execution_count": 57,
   "id": "77f581c4-1f4b-492d-ace2-fef6ec06a7ef",
   "metadata": {},
   "outputs": [
    {
     "name": "stdout",
     "output_type": "stream",
     "text": [
      "CPU times: total: 0 ns\n",
      "Wall time: 955 µs\n"
     ]
    },
    {
     "data": {
      "text/plain": [
       "216474736"
      ]
     },
     "execution_count": 57,
     "metadata": {},
     "output_type": "execute_result"
    }
   ],
   "source": [
    "%time np.sum(a ** 2)"
   ]
  },
  {
   "cell_type": "code",
   "execution_count": 58,
   "id": "083be399-c5c4-4483-b5cb-865afe4e42c7",
   "metadata": {},
   "outputs": [
    {
     "name": "stdout",
     "output_type": "stream",
     "text": [
      "CPU times: total: 15.6 ms\n",
      "Wall time: 15.4 ms\n"
     ]
    },
    {
     "data": {
      "text/plain": [
       "333328333350000"
      ]
     },
     "execution_count": 58,
     "metadata": {},
     "output_type": "execute_result"
    }
   ],
   "source": [
    "%time sum([x ** 2 for x in l])"
   ]
  },
  {
   "cell_type": "markdown",
   "id": "1c210d2f-4b3d-4383-bab0-3ba9b9ab270c",
   "metadata": {},
   "source": [
    "## Use Numpy Functions"
   ]
  },
  {
   "cell_type": "markdown",
   "id": "98b38feb-34bd-485b-834c-fa77d05ef347",
   "metadata": {},
   "source": [
    "### random"
   ]
  },
  {
   "cell_type": "code",
   "execution_count": 61,
   "id": "b4a2fcaa-62c5-489c-992b-7348b6d6e4f1",
   "metadata": {},
   "outputs": [
    {
     "data": {
      "text/plain": [
       "array([0.25475786, 0.92758673])"
      ]
     },
     "execution_count": 61,
     "metadata": {},
     "output_type": "execute_result"
    }
   ],
   "source": [
    "np.random.random(size=2)"
   ]
  },
  {
   "cell_type": "code",
   "execution_count": 62,
   "id": "9b37dfe8-fb9c-487e-9db2-44a58d08db15",
   "metadata": {},
   "outputs": [
    {
     "data": {
      "text/plain": [
       "array([-0.21587439,  0.10657389])"
      ]
     },
     "execution_count": 62,
     "metadata": {},
     "output_type": "execute_result"
    }
   ],
   "source": [
    "np.random.normal(size=2)"
   ]
  },
  {
   "cell_type": "code",
   "execution_count": 63,
   "id": "c3d36822-8bc1-4caf-8e08-82c73e88a39a",
   "metadata": {},
   "outputs": [
    {
     "data": {
      "text/plain": [
       "array([[0.38356155, 0.98468608, 0.1357572 , 0.36078046],\n",
       "       [0.25815228, 0.86031647, 0.7110232 , 0.17227182]])"
      ]
     },
     "execution_count": 63,
     "metadata": {},
     "output_type": "execute_result"
    }
   ],
   "source": [
    "np.random.rand(2, 4)"
   ]
  },
  {
   "cell_type": "markdown",
   "id": "74085f51-7a40-45ad-9b89-5de19d8bb925",
   "metadata": {},
   "source": [
    "### arange"
   ]
  },
  {
   "cell_type": "code",
   "execution_count": 64,
   "id": "9dd9c569-b660-4aaf-9fbe-78b28cd8389d",
   "metadata": {},
   "outputs": [
    {
     "data": {
      "text/plain": [
       "array([0, 1, 2, 3, 4, 5, 6, 7, 8, 9])"
      ]
     },
     "execution_count": 64,
     "metadata": {},
     "output_type": "execute_result"
    }
   ],
   "source": [
    "np.arange(10)"
   ]
  },
  {
   "cell_type": "code",
   "execution_count": 65,
   "id": "8cd3dac7-07cd-438c-accb-83d0c98cf16f",
   "metadata": {},
   "outputs": [
    {
     "data": {
      "text/plain": [
       "array([5, 6, 7, 8, 9])"
      ]
     },
     "execution_count": 65,
     "metadata": {},
     "output_type": "execute_result"
    }
   ],
   "source": [
    "np.arange(5, 10)"
   ]
  },
  {
   "cell_type": "code",
   "execution_count": 66,
   "id": "a9449446-f6a5-4693-a9cc-81dacc52e0d0",
   "metadata": {},
   "outputs": [
    {
     "data": {
      "text/plain": [
       "array([0. , 0.1, 0.2, 0.3, 0.4, 0.5, 0.6, 0.7, 0.8, 0.9])"
      ]
     },
     "execution_count": 66,
     "metadata": {},
     "output_type": "execute_result"
    }
   ],
   "source": [
    "np.arange(0, 1, .1)"
   ]
  },
  {
   "cell_type": "markdown",
   "id": "e4e31837-c531-496c-90df-485b45166bae",
   "metadata": {},
   "source": [
    "### reshape"
   ]
  },
  {
   "cell_type": "code",
   "execution_count": 67,
   "id": "07ac407a-132e-49b6-a038-b8ec99df3b9a",
   "metadata": {},
   "outputs": [
    {
     "data": {
      "text/plain": [
       "array([[0, 1, 2, 3, 4],\n",
       "       [5, 6, 7, 8, 9]])"
      ]
     },
     "execution_count": 67,
     "metadata": {},
     "output_type": "execute_result"
    }
   ],
   "source": [
    "np.arange(10).reshape(2, 5)"
   ]
  },
  {
   "cell_type": "code",
   "execution_count": 68,
   "id": "c0d90ab9-dd95-4092-8622-eca2a5589fdd",
   "metadata": {},
   "outputs": [
    {
     "data": {
      "text/plain": [
       "array([[0, 1],\n",
       "       [2, 3],\n",
       "       [4, 5],\n",
       "       [6, 7],\n",
       "       [8, 9]])"
      ]
     },
     "execution_count": 68,
     "metadata": {},
     "output_type": "execute_result"
    }
   ],
   "source": [
    "np.arange(10).reshape(5, 2)"
   ]
  },
  {
   "cell_type": "markdown",
   "id": "60ec67f3-36c9-4976-b883-7d2e5a6bbe71",
   "metadata": {},
   "source": [
    "### linspace"
   ]
  },
  {
   "cell_type": "code",
   "execution_count": 70,
   "id": "90c1eed2-a87f-4c9e-aee4-1f37439b6203",
   "metadata": {},
   "outputs": [
    {
     "data": {
      "text/plain": [
       "array([0.  , 0.25, 0.5 , 0.75, 1.  ])"
      ]
     },
     "execution_count": 70,
     "metadata": {},
     "output_type": "execute_result"
    }
   ],
   "source": [
    "np.linspace(0, 1, 5)"
   ]
  },
  {
   "cell_type": "code",
   "execution_count": 71,
   "id": "2ad24ae5-6aaf-4d92-b1bb-38c4d2bfc469",
   "metadata": {},
   "outputs": [
    {
     "data": {
      "text/plain": [
       "array([0.        , 0.05263158, 0.10526316, 0.15789474, 0.21052632,\n",
       "       0.26315789, 0.31578947, 0.36842105, 0.42105263, 0.47368421,\n",
       "       0.52631579, 0.57894737, 0.63157895, 0.68421053, 0.73684211,\n",
       "       0.78947368, 0.84210526, 0.89473684, 0.94736842, 1.        ])"
      ]
     },
     "execution_count": 71,
     "metadata": {},
     "output_type": "execute_result"
    }
   ],
   "source": [
    "np.linspace(0, 1, 20)"
   ]
  },
  {
   "cell_type": "code",
   "execution_count": 72,
   "id": "0f1f1c5f-f64d-4bb2-8a19-dbc7930f5b2e",
   "metadata": {},
   "outputs": [
    {
     "data": {
      "text/plain": [
       "array([0.  , 0.05, 0.1 , 0.15, 0.2 , 0.25, 0.3 , 0.35, 0.4 , 0.45, 0.5 ,\n",
       "       0.55, 0.6 , 0.65, 0.7 , 0.75, 0.8 , 0.85, 0.9 , 0.95])"
      ]
     },
     "execution_count": 72,
     "metadata": {},
     "output_type": "execute_result"
    }
   ],
   "source": [
    "np.linspace(0, 1, 20, False)"
   ]
  },
  {
   "cell_type": "markdown",
   "id": "283f41ca-7910-41e3-87b5-a04ebff8d83e",
   "metadata": {},
   "source": [
    "### zeros, ones, empty"
   ]
  },
  {
   "cell_type": "code",
   "execution_count": 75,
   "id": "1ac396ee-47b0-404e-8ada-24ee3bd345ab",
   "metadata": {},
   "outputs": [
    {
     "data": {
      "text/plain": [
       "array([0., 0., 0., 0., 0.])"
      ]
     },
     "execution_count": 75,
     "metadata": {},
     "output_type": "execute_result"
    }
   ],
   "source": [
    "np.zeros(5)"
   ]
  },
  {
   "cell_type": "code",
   "execution_count": 76,
   "id": "727f19de-ffe3-438e-b0f2-aeac428de8d6",
   "metadata": {},
   "outputs": [
    {
     "data": {
      "text/plain": [
       "array([[0., 0., 0.],\n",
       "       [0., 0., 0.],\n",
       "       [0., 0., 0.]])"
      ]
     },
     "execution_count": 76,
     "metadata": {},
     "output_type": "execute_result"
    }
   ],
   "source": [
    "np.zeros((3,3))"
   ]
  },
  {
   "cell_type": "code",
   "execution_count": 99,
   "id": "1db460a2-32d1-470b-8fa2-638dfbeeebf1",
   "metadata": {},
   "outputs": [
    {
     "data": {
      "text/plain": [
       "array([[0, 0, 0],\n",
       "       [0, 0, 0],\n",
       "       [0, 0, 0]])"
      ]
     },
     "execution_count": 99,
     "metadata": {},
     "output_type": "execute_result"
    }
   ],
   "source": [
    "np.zeros((3,3), dtype=np.int32)"
   ]
  },
  {
   "cell_type": "code",
   "execution_count": 100,
   "id": "84fdcb6d-69ff-4631-8355-18dee5e75dab",
   "metadata": {},
   "outputs": [
    {
     "data": {
      "text/plain": [
       "array([1., 1., 1., 1., 1.])"
      ]
     },
     "execution_count": 100,
     "metadata": {},
     "output_type": "execute_result"
    }
   ],
   "source": [
    "np.ones(5)"
   ]
  },
  {
   "cell_type": "code",
   "execution_count": 101,
   "id": "d7326ddf-b74c-4b1a-ad06-fc67b56639f3",
   "metadata": {},
   "outputs": [
    {
     "data": {
      "text/plain": [
       "array([[1., 1., 1.],\n",
       "       [1., 1., 1.],\n",
       "       [1., 1., 1.]])"
      ]
     },
     "execution_count": 101,
     "metadata": {},
     "output_type": "execute_result"
    }
   ],
   "source": [
    "np.ones((3, 3))"
   ]
  },
  {
   "cell_type": "code",
   "execution_count": 102,
   "id": "8401b392-cb84-42eb-b5a3-b1732680ea1c",
   "metadata": {},
   "outputs": [
    {
     "data": {
      "text/plain": [
       "array([1., 1., 1., 1., 1.])"
      ]
     },
     "execution_count": 102,
     "metadata": {},
     "output_type": "execute_result"
    }
   ],
   "source": [
    "np.empty(5)"
   ]
  },
  {
   "cell_type": "code",
   "execution_count": 103,
   "id": "9c889099-9738-4367-90a2-a59ae1cf9b96",
   "metadata": {},
   "outputs": [
    {
     "data": {
      "text/plain": [
       "array([[0.25, 0.5 ],\n",
       "       [0.75, 1.  ]])"
      ]
     },
     "execution_count": 103,
     "metadata": {},
     "output_type": "execute_result"
    }
   ],
   "source": [
    "np.empty((2, 2))"
   ]
  },
  {
   "cell_type": "markdown",
   "id": "b48bf557-ef37-4326-973a-2c1f91ea02c0",
   "metadata": {},
   "source": [
    "### identity and eye"
   ]
  },
  {
   "cell_type": "code",
   "execution_count": 107,
   "id": "064372b2-9d18-4e4c-a19b-c9d592aefc32",
   "metadata": {},
   "outputs": [
    {
     "data": {
      "text/plain": [
       "array([[1., 0., 0.],\n",
       "       [0., 1., 0.],\n",
       "       [0., 0., 1.]])"
      ]
     },
     "execution_count": 107,
     "metadata": {},
     "output_type": "execute_result"
    }
   ],
   "source": [
    "np.identity(3)"
   ]
  },
  {
   "cell_type": "code",
   "execution_count": 108,
   "id": "877a25b1-9490-4cd3-b8ea-655e095055ef",
   "metadata": {},
   "outputs": [
    {
     "data": {
      "text/plain": [
       "array([[1., 0., 0.],\n",
       "       [0., 1., 0.],\n",
       "       [0., 0., 1.]])"
      ]
     },
     "execution_count": 108,
     "metadata": {},
     "output_type": "execute_result"
    }
   ],
   "source": [
    "np.eye(3, 3)"
   ]
  },
  {
   "cell_type": "code",
   "execution_count": 109,
   "id": "5209598a-4658-47dc-8cea-de71b11e29fa",
   "metadata": {},
   "outputs": [
    {
     "data": {
      "text/plain": [
       "array([[1., 0., 0., 0.],\n",
       "       [0., 1., 0., 0.],\n",
       "       [0., 0., 1., 0.],\n",
       "       [0., 0., 0., 1.],\n",
       "       [0., 0., 0., 0.],\n",
       "       [0., 0., 0., 0.],\n",
       "       [0., 0., 0., 0.],\n",
       "       [0., 0., 0., 0.]])"
      ]
     },
     "execution_count": 109,
     "metadata": {},
     "output_type": "execute_result"
    }
   ],
   "source": [
    "np.eye(8, 4)"
   ]
  },
  {
   "cell_type": "code",
   "execution_count": 110,
   "id": "60ac8c38-de0a-4296-81ba-04b71101177e",
   "metadata": {},
   "outputs": [
    {
     "data": {
      "text/plain": [
       "array([[0., 1., 0., 0.],\n",
       "       [0., 0., 1., 0.],\n",
       "       [0., 0., 0., 1.],\n",
       "       [0., 0., 0., 0.],\n",
       "       [0., 0., 0., 0.],\n",
       "       [0., 0., 0., 0.],\n",
       "       [0., 0., 0., 0.],\n",
       "       [0., 0., 0., 0.]])"
      ]
     },
     "execution_count": 110,
     "metadata": {},
     "output_type": "execute_result"
    }
   ],
   "source": [
    "np.eye(8, 4, k=1)"
   ]
  }
 ],
 "metadata": {
  "kernelspec": {
   "display_name": "Python 3 (ipykernel)",
   "language": "python",
   "name": "python3"
  },
  "language_info": {
   "codemirror_mode": {
    "name": "ipython",
    "version": 3
   },
   "file_extension": ".py",
   "mimetype": "text/x-python",
   "name": "python",
   "nbconvert_exporter": "python",
   "pygments_lexer": "ipython3",
   "version": "3.11.7"
  }
 },
 "nbformat": 4,
 "nbformat_minor": 5
}

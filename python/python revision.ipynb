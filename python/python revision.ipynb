{
 "cells": [
  {
   "cell_type": "markdown",
   "id": "09848589-047d-4bd7-b728-957ca51c788f",
   "metadata": {},
   "source": [
    "![rmotr](https://user-images.githubusercontent.com/7065401/52071918-bda15380-2562-11e9-828c-7f95297e4a82.png)\n",
    "<hr style=\"margin-bottom: 40px;\">\n",
    "\n",
    "<img src=\"https://user-images.githubusercontent.com/7065401/55025843-7d99a280-4fe0-11e9-938a-4879d95c4130.png\"\n",
    "    style=\"width:150px; float: right; margin: 0 40px 40px 40px;\"></img>\n",
    "\n",
    "# Python in under 10 minutes\n",
    "\n",
    "Ok, so this will techincally take us more than 10 minutes, but you get the idea: this is a very high level overview of the Python programming language. Specially for those of you that already know some other programming language (R, Javascript, Ruby, etc) and want to do the switch to Python.\n",
    "\n",
    "![purple-divider](https://user-images.githubusercontent.com/7065401/52071927-c1cd7100-2562-11e9-908a-dde91ba14e59.png)"
   ]
  },
  {
   "cell_type": "markdown",
   "id": "b5c14b1e-bc06-4c91-95ee-cebe8218a814",
   "metadata": {},
   "source": [
    "### The high level\n",
    "\n",
    "[Python](https://en.wikipedia.org/wiki/Python_%28programming_language%29) is a interpreted, high level programming language created by Dutch programmer [Guido van Rossum](https://en.wikipedia.org/wiki/Guido_van_Rossum) and released in 1991.\n",
    "\n",
    "As I always say, Python *is old*. It gained a lot of traction around 2006, with its popularity being driven its beauty and simplicity to do Web Development (its main Web Development Framework, [Django](https://www.djangoproject.com/), was released in 2006). From there, it took off as one of the most popular scripting languages.\n",
    "\n",
    "Python is multi-paradigm: you can write code using Object Oriented, Functional and/or Imperative programming. Python is interpreted and uses a dynamic type system, although considered _strongly typed_.\n",
    "\n",
    "It has an extensive builtin standard library with features that ranges from time management, to http servers, concurrency and async programming.\n",
    "\n",
    "Python is Open Source and is managed by a non-profit organization: the [Python Software Foundation](https://en.wikipedia.org/wiki/Python_Software_Foundation).\n",
    "\n",
    "![green-divider](https://user-images.githubusercontent.com/7065401/52071924-c003ad80-2562-11e9-8297-1c6595f8a7ff.png)\n",
    "\n",
    "## Python 3 vs Python 2\n",
    "\n",
    "You might have heard that there are two main versions of Python around: _Python 2_ and _Python 3_. Well, I'll keep it simple for you:\n",
    "\n",
    "### 👍 Python 3: YES!\n",
    "### 🙅 Python 2: NO!\n",
    "\n",
    "Python 2 [will be deprecated in 2020](https://pythonclock.org/). So **stick to Python 3**, it's the present and the future of the language (at least until we start planning Python 4 😅, just kidding).\n",
    "\n",
    "## A quick note about different \"implementations\"\n",
    "\n",
    "Finally, all what I'm saying here technically applies to \"CPython\", Python's main _implementation_. Don't worry if this doesn't make sense. It's just for the curious ones. If you're interested, we've written an entire post about it: [A quick guide about Python implementations](https://blog.rmotr.com/a-quick-guide-about-python-implementations-aa224109f321).\n",
    "\n",
    "![green-divider](https://user-images.githubusercontent.com/7065401/52071924-c003ad80-2562-11e9-8297-1c6595f8a7ff.png)\n",
    "\n",
    "# Syntax Overview\n",
    "\n",
    "The following paragraphs will be dedicated to Python's syntax and technical details. There are more to Python than just syntax, as its community, events, email lists, etc. But after all, this is just a technical introduction.\n",
    "\n",
    "### Indentation based\n",
    "\n",
    "This might feel weird at first, but in Python we do NOT use curly braces to denote blocks of code. We use _\"indentation\"_ instead. This is similar to Ruby. For example, this is a very simple `add_numbers` function in javascript:\n",
    "\n",
    "```javascript\n",
    "function add_numbers(x, y){\n",
    "    return x + y\n",
    "}\n",
    "```\n",
    "\n",
    "In Python, we'd write it in this way:"
   ]
  },
  {
   "cell_type": "code",
   "execution_count": 1,
   "id": "a70cf949-2db9-4f78-a7c6-190f0e475e14",
   "metadata": {},
   "outputs": [],
   "source": [
    "def add_numbers(x, y):\n",
    "    return x + y"
   ]
  },
  {
   "cell_type": "markdown",
   "id": "a9f19b38-2c84-49ae-9af3-1c3c1430a4de",
   "metadata": {},
   "source": [
    "An `if-else` block in Javascript:\n",
    "\n",
    "```javascript\n",
    "let language = \"Python\"\n",
    "\n",
    "if (language === \"Python\"){\n",
    "    console.log(\"Let the fun begin\");\n",
    "} else {\n",
    "    console.log(\"You sure?\");\n",
    "}\n",
    "```\n",
    "\n",
    "In Python:"
   ]
  },
  {
   "cell_type": "code",
   "execution_count": 4,
   "id": "2c9d394c-23e0-463d-94b8-51ce4e8ae154",
   "metadata": {},
   "outputs": [
    {
     "name": "stdout",
     "output_type": "stream",
     "text": [
      "kese mizaaj hain apkay?\n"
     ]
    }
   ],
   "source": [
    "language = 'urdu'\n",
    "\n",
    "if language == 'urdu':\n",
    "    print('kese mizaaj hain apkay?')\n",
    "else:\n",
    "    print('You good bro?')"
   ]
  },
  {
   "cell_type": "markdown",
   "id": "c7f6af64-e10d-4d56-9839-e7aee3235cae",
   "metadata": {},
   "source": [
    "![green-divider](https://user-images.githubusercontent.com/7065401/52071924-c003ad80-2562-11e9-8297-1c6595f8a7ff.png)\n",
    "\n",
    "### Comments"
   ]
  },
  {
   "cell_type": "code",
   "execution_count": 6,
   "id": "545122d2-7fb4-46b8-9b7d-be32d0d9c3ca",
   "metadata": {},
   "outputs": [],
   "source": [
    "# this is a comment"
   ]
  },
  {
   "cell_type": "code",
   "execution_count": 7,
   "id": "98811f86-1295-4df9-a0d2-62e704345713",
   "metadata": {},
   "outputs": [],
   "source": [
    "# koi output nahi dega"
   ]
  },
  {
   "cell_type": "code",
   "execution_count": 8,
   "id": "b3e14496-6dd4-4935-97a5-437fa567b327",
   "metadata": {},
   "outputs": [
    {
     "name": "stdout",
     "output_type": "stream",
     "text": [
      "assalamualaikum dunya\n"
     ]
    }
   ],
   "source": [
    "# can be above\n",
    "print('assalamualaikum dunya') # sath bhi hosakta hai\n",
    "# neeche bhi hosakta hai"
   ]
  },
  {
   "cell_type": "markdown",
   "id": "ccd778ce-51e8-4ee9-bc67-f16f42c5b961",
   "metadata": {},
   "source": [
    "![green-divider](https://user-images.githubusercontent.com/7065401/52071924-c003ad80-2562-11e9-8297-1c6595f8a7ff.png)\n",
    "\n",
    "### Variables\n",
    "\n",
    "We've defined a variable `language` in one of our previous examples. In Python, you can set a variable at any time, in any block of code, by just assigning a valid name to any value you want:"
   ]
  },
  {
   "cell_type": "code",
   "execution_count": 9,
   "id": "4ba7b5cb-8ef7-4ae9-96d0-11091010e83f",
   "metadata": {},
   "outputs": [
    {
     "name": "stdout",
     "output_type": "stream",
     "text": [
      "shakoor\n"
     ]
    }
   ],
   "source": [
    "name = 'shakoor'\n",
    "print(name)"
   ]
  },
  {
   "cell_type": "code",
   "execution_count": 10,
   "id": "2247b2e5-3c58-476d-bb6d-28b7d212d5ad",
   "metadata": {},
   "outputs": [
    {
     "name": "stdout",
     "output_type": "stream",
     "text": [
      "300\n"
     ]
    }
   ],
   "source": [
    "age = 300\n",
    "print(age)"
   ]
  },
  {
   "cell_type": "markdown",
   "id": "5976e808-7702-42b2-89fc-e0b04081fcb4",
   "metadata": {},
   "source": [
    "Variables, once set, will be preserved:"
   ]
  },
  {
   "cell_type": "code",
   "execution_count": 11,
   "id": "15ddeb4f-14e7-4321-ab64-74345857e249",
   "metadata": {},
   "outputs": [
    {
     "name": "stdout",
     "output_type": "stream",
     "text": [
      "shakoor is 300 years old.\n"
     ]
    }
   ],
   "source": [
    "print(name, 'is', age, 'years old.')"
   ]
  },
  {
   "cell_type": "code",
   "execution_count": null,
   "id": "d3316a93-3caa-42f4-98bc-52b72303990c",
   "metadata": {},
   "outputs": [],
   "source": []
  }
 ],
 "metadata": {
  "kernelspec": {
   "display_name": "Python 3 (ipykernel)",
   "language": "python",
   "name": "python3"
  },
  "language_info": {
   "codemirror_mode": {
    "name": "ipython",
    "version": 3
   },
   "file_extension": ".py",
   "mimetype": "text/x-python",
   "name": "python",
   "nbconvert_exporter": "python",
   "pygments_lexer": "ipython3",
   "version": "3.11.7"
  }
 },
 "nbformat": 4,
 "nbformat_minor": 5
}

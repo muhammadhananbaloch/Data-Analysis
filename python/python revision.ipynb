{
 "cells": [
  {
   "cell_type": "markdown",
   "id": "09848589-047d-4bd7-b728-957ca51c788f",
   "metadata": {},
   "source": [
    "![rmotr](https://user-images.githubusercontent.com/7065401/52071918-bda15380-2562-11e9-828c-7f95297e4a82.png)\n",
    "<hr style=\"margin-bottom: 40px;\">\n",
    "\n",
    "<img src=\"https://user-images.githubusercontent.com/7065401/55025843-7d99a280-4fe0-11e9-938a-4879d95c4130.png\"\n",
    "    style=\"width:150px; float: right; margin: 0 40px 40px 40px;\"></img>\n",
    "\n",
    "# Python in under 10 minutes\n",
    "\n",
    "Ok, so this will techincally take us more than 10 minutes, but you get the idea: this is a very high level overview of the Python programming language. Specially for those of you that already know some other programming language (R, Javascript, Ruby, etc) and want to do the switch to Python.\n",
    "\n",
    "![purple-divider](https://user-images.githubusercontent.com/7065401/52071927-c1cd7100-2562-11e9-908a-dde91ba14e59.png)"
   ]
  },
  {
   "cell_type": "markdown",
   "id": "b5c14b1e-bc06-4c91-95ee-cebe8218a814",
   "metadata": {},
   "source": [
    "### The high level\n",
    "\n",
    "[Python](https://en.wikipedia.org/wiki/Python_%28programming_language%29) is a interpreted, high level programming language created by Dutch programmer [Guido van Rossum](https://en.wikipedia.org/wiki/Guido_van_Rossum) and released in 1991.\n",
    "\n",
    "As I always say, Python *is old*. It gained a lot of traction around 2006, with its popularity being driven its beauty and simplicity to do Web Development (its main Web Development Framework, [Django](https://www.djangoproject.com/), was released in 2006). From there, it took off as one of the most popular scripting languages.\n",
    "\n",
    "Python is multi-paradigm: you can write code using Object Oriented, Functional and/or Imperative programming. Python is interpreted and uses a dynamic type system, although considered _strongly typed_.\n",
    "\n",
    "It has an extensive builtin standard library with features that ranges from time management, to http servers, concurrency and async programming.\n",
    "\n",
    "Python is Open Source and is managed by a non-profit organization: the [Python Software Foundation](https://en.wikipedia.org/wiki/Python_Software_Foundation).\n",
    "\n",
    "![green-divider](https://user-images.githubusercontent.com/7065401/52071924-c003ad80-2562-11e9-8297-1c6595f8a7ff.png)\n",
    "\n",
    "## Python 3 vs Python 2\n",
    "\n",
    "You might have heard that there are two main versions of Python around: _Python 2_ and _Python 3_. Well, I'll keep it simple for you:\n",
    "\n",
    "### 👍 Python 3: YES!\n",
    "### 🙅 Python 2: NO!\n",
    "\n",
    "Python 2 [will be deprecated in 2020](https://pythonclock.org/). So **stick to Python 3**, it's the present and the future of the language (at least until we start planning Python 4 😅, just kidding).\n",
    "\n",
    "## A quick note about different \"implementations\"\n",
    "\n",
    "Finally, all what I'm saying here technically applies to \"CPython\", Python's main _implementation_. Don't worry if this doesn't make sense. It's just for the curious ones. If you're interested, we've written an entire post about it: [A quick guide about Python implementations](https://blog.rmotr.com/a-quick-guide-about-python-implementations-aa224109f321).\n",
    "\n",
    "![green-divider](https://user-images.githubusercontent.com/7065401/52071924-c003ad80-2562-11e9-8297-1c6595f8a7ff.png)\n",
    "\n",
    "# Syntax Overview\n",
    "\n",
    "The following paragraphs will be dedicated to Python's syntax and technical details. There are more to Python than just syntax, as its community, events, email lists, etc. But after all, this is just a technical introduction.\n",
    "\n",
    "### Indentation based\n",
    "\n",
    "This might feel weird at first, but in Python we do NOT use curly braces to denote blocks of code. We use _\"indentation\"_ instead. This is similar to Ruby. For example, this is a very simple `add_numbers` function in javascript:\n",
    "\n",
    "```javascript\n",
    "function add_numbers(x, y){\n",
    "    return x + y\n",
    "}\n",
    "```\n",
    "\n",
    "In Python, we'd write it in this way:"
   ]
  },
  {
   "cell_type": "code",
   "execution_count": 1,
   "id": "a70cf949-2db9-4f78-a7c6-190f0e475e14",
   "metadata": {},
   "outputs": [],
   "source": [
    "def add_numbers(x, y):\n",
    "    return x + y"
   ]
  },
  {
   "cell_type": "markdown",
   "id": "a9f19b38-2c84-49ae-9af3-1c3c1430a4de",
   "metadata": {},
   "source": [
    "An `if-else` block in Javascript:\n",
    "\n",
    "```javascript\n",
    "let language = \"Python\"\n",
    "\n",
    "if (language === \"Python\"){\n",
    "    console.log(\"Let the fun begin\");\n",
    "} else {\n",
    "    console.log(\"You sure?\");\n",
    "}\n",
    "```\n",
    "\n",
    "In Python:"
   ]
  },
  {
   "cell_type": "code",
   "execution_count": 4,
   "id": "2c9d394c-23e0-463d-94b8-51ce4e8ae154",
   "metadata": {},
   "outputs": [
    {
     "name": "stdout",
     "output_type": "stream",
     "text": [
      "kese mizaaj hain apkay?\n"
     ]
    }
   ],
   "source": [
    "language = 'urdu'\n",
    "\n",
    "if language == 'urdu':\n",
    "    print('kese mizaaj hain apkay?')\n",
    "else:\n",
    "    print('You good bro?')"
   ]
  },
  {
   "cell_type": "markdown",
   "id": "c7f6af64-e10d-4d56-9839-e7aee3235cae",
   "metadata": {},
   "source": [
    "![green-divider](https://user-images.githubusercontent.com/7065401/52071924-c003ad80-2562-11e9-8297-1c6595f8a7ff.png)\n",
    "\n",
    "### Comments"
   ]
  },
  {
   "cell_type": "code",
   "execution_count": 6,
   "id": "545122d2-7fb4-46b8-9b7d-be32d0d9c3ca",
   "metadata": {},
   "outputs": [],
   "source": [
    "# this is a comment"
   ]
  },
  {
   "cell_type": "code",
   "execution_count": 7,
   "id": "98811f86-1295-4df9-a0d2-62e704345713",
   "metadata": {},
   "outputs": [],
   "source": [
    "# koi output nahi dega"
   ]
  },
  {
   "cell_type": "code",
   "execution_count": 8,
   "id": "b3e14496-6dd4-4935-97a5-437fa567b327",
   "metadata": {},
   "outputs": [
    {
     "name": "stdout",
     "output_type": "stream",
     "text": [
      "assalamualaikum dunya\n"
     ]
    }
   ],
   "source": [
    "# can be above\n",
    "print('assalamualaikum dunya') # sath bhi hosakta hai\n",
    "# neeche bhi hosakta hai"
   ]
  },
  {
   "cell_type": "markdown",
   "id": "ccd778ce-51e8-4ee9-bc67-f16f42c5b961",
   "metadata": {},
   "source": [
    "![green-divider](https://user-images.githubusercontent.com/7065401/52071924-c003ad80-2562-11e9-8297-1c6595f8a7ff.png)\n",
    "\n",
    "### Variables\n",
    "\n",
    "We've defined a variable `language` in one of our previous examples. In Python, you can set a variable at any time, in any block of code, by just assigning a valid name to any value you want:"
   ]
  },
  {
   "cell_type": "code",
   "execution_count": 9,
   "id": "4ba7b5cb-8ef7-4ae9-96d0-11091010e83f",
   "metadata": {},
   "outputs": [
    {
     "name": "stdout",
     "output_type": "stream",
     "text": [
      "shakoor\n"
     ]
    }
   ],
   "source": [
    "name = 'shakoor'\n",
    "print(name)"
   ]
  },
  {
   "cell_type": "code",
   "execution_count": 10,
   "id": "2247b2e5-3c58-476d-bb6d-28b7d212d5ad",
   "metadata": {},
   "outputs": [
    {
     "name": "stdout",
     "output_type": "stream",
     "text": [
      "300\n"
     ]
    }
   ],
   "source": [
    "age = 300\n",
    "print(age)"
   ]
  },
  {
   "cell_type": "markdown",
   "id": "5976e808-7702-42b2-89fc-e0b04081fcb4",
   "metadata": {},
   "source": [
    "Variables, once set, will be preserved:"
   ]
  },
  {
   "cell_type": "code",
   "execution_count": 11,
   "id": "15ddeb4f-14e7-4321-ab64-74345857e249",
   "metadata": {},
   "outputs": [
    {
     "name": "stdout",
     "output_type": "stream",
     "text": [
      "shakoor is 300 years old.\n"
     ]
    }
   ],
   "source": [
    "print(name, 'is', age, 'years old.')"
   ]
  },
  {
   "cell_type": "markdown",
   "id": "c0982f61-dd6e-4edd-8e1f-2f1d1e97bc06",
   "metadata": {},
   "source": [
    "![green-divider](https://user-images.githubusercontent.com/7065401/52071924-c003ad80-2562-11e9-8297-1c6595f8a7ff.png)\n",
    "\n",
    "### Data Types\n",
    "\n",
    "Python supports the most common data types, the usual suspects we could say:\n",
    "\n",
    "#### Integers, type `int`:\n",
    "\n",
    "Integers have unlimited magnitude."
   ]
  },
  {
   "cell_type": "code",
   "execution_count": 12,
   "id": "ee041e01-286b-4bdb-a0a7-2768d9361d33",
   "metadata": {},
   "outputs": [],
   "source": [
    "# an int\n",
    "age = 30"
   ]
  },
  {
   "cell_type": "code",
   "execution_count": 13,
   "id": "62450e3d-573d-47a4-b769-74bc58c277f8",
   "metadata": {},
   "outputs": [
    {
     "data": {
      "text/plain": [
       "30"
      ]
     },
     "execution_count": 13,
     "metadata": {},
     "output_type": "execute_result"
    }
   ],
   "source": [
    "age"
   ]
  },
  {
   "cell_type": "code",
   "execution_count": 14,
   "id": "118e6fa3-03ea-454a-9562-5960d6e24251",
   "metadata": {},
   "outputs": [
    {
     "data": {
      "text/plain": [
       "int"
      ]
     },
     "execution_count": 14,
     "metadata": {},
     "output_type": "execute_result"
    }
   ],
   "source": [
    "type(age)"
   ]
  },
  {
   "cell_type": "markdown",
   "id": "cdc665ef-6860-473e-b7fa-7b86f71058ed",
   "metadata": {},
   "source": [
    "#### Floats, type `float`:\n",
    "\n",
    "The standard floating point number"
   ]
  },
  {
   "cell_type": "code",
   "execution_count": 15,
   "id": "e0b59b3d-c73f-44f2-810d-971c7bfbb702",
   "metadata": {},
   "outputs": [],
   "source": [
    "price = 2.50"
   ]
  },
  {
   "cell_type": "code",
   "execution_count": 16,
   "id": "b5f7dca1-8577-444a-8380-156520b2402f",
   "metadata": {},
   "outputs": [
    {
     "data": {
      "text/plain": [
       "2.5"
      ]
     },
     "execution_count": 16,
     "metadata": {},
     "output_type": "execute_result"
    }
   ],
   "source": [
    "price"
   ]
  },
  {
   "cell_type": "code",
   "execution_count": 19,
   "id": "48e7c685-8aaa-49a1-b410-bfacba13c48b",
   "metadata": {},
   "outputs": [
    {
     "data": {
      "text/plain": [
       "float"
      ]
     },
     "execution_count": 19,
     "metadata": {},
     "output_type": "execute_result"
    }
   ],
   "source": [
    "type(price)"
   ]
  },
  {
   "cell_type": "markdown",
   "id": "92c70632-5b42-43a9-8993-bf1892348555",
   "metadata": {},
   "source": [
    "Remember that floats sometimes exhibit \"extraneous\" behavior:"
   ]
  },
  {
   "cell_type": "code",
   "execution_count": 20,
   "id": "618bf0d7-8864-4986-bcd2-84fd6acf1ce5",
   "metadata": {},
   "outputs": [
    {
     "data": {
      "text/plain": [
       "0.30000000000000004"
      ]
     },
     "execution_count": 20,
     "metadata": {},
     "output_type": "execute_result"
    }
   ],
   "source": [
    "0.1 * 3"
   ]
  },
  {
   "cell_type": "markdown",
   "id": "06a76304-e3f9-451e-8202-ae719ac78ec5",
   "metadata": {},
   "source": [
    "If you need decimal fixed point precision, you can use the [`decimal`](https://docs.python.org/3/library/decimal.html#module-decimal) module:"
   ]
  },
  {
   "cell_type": "code",
   "execution_count": 22,
   "id": "16587e13-8714-4f85-a591-6a71948df14f",
   "metadata": {},
   "outputs": [],
   "source": [
    "from decimal import Decimal"
   ]
  },
  {
   "cell_type": "code",
   "execution_count": 23,
   "id": "bb673ac1-1da8-4d2a-b85b-309632022eb9",
   "metadata": {},
   "outputs": [
    {
     "data": {
      "text/plain": [
       "Decimal('0.3')"
      ]
     },
     "execution_count": 23,
     "metadata": {},
     "output_type": "execute_result"
    }
   ],
   "source": [
    "Decimal('0.1') * 3"
   ]
  },
  {
   "cell_type": "markdown",
   "id": "6729aa63-60ae-40ce-a81a-dae61e911f0e",
   "metadata": {},
   "source": [
    "#### Strings, type `str`\n",
    "\n",
    "Strings are used to store text. Technically, they're _\"immutable sequences of Unicode code points\"_. Which means that Python supports Unicode:"
   ]
  },
  {
   "cell_type": "code",
   "execution_count": 25,
   "id": "e649678d-580d-48a2-93e2-7cf18a36fe5a",
   "metadata": {},
   "outputs": [
    {
     "name": "stdout",
     "output_type": "stream",
     "text": [
      "hello unicode 😎\n"
     ]
    }
   ],
   "source": [
    "# Create them with double quotes:\n",
    "print(\"hello unicode 😎\")"
   ]
  },
  {
   "cell_type": "code",
   "execution_count": 26,
   "id": "5138e2c0-a63e-4b1a-b22a-7b6edced45b3",
   "metadata": {},
   "outputs": [
    {
     "name": "stdout",
     "output_type": "stream",
     "text": [
      "tumhare baap ka mulk hai?\n"
     ]
    }
   ],
   "source": [
    "# with single quotes:\n",
    "print('tumhare baap ka mulk hai?')"
   ]
  },
  {
   "cell_type": "code",
   "execution_count": 28,
   "id": "55142b89-3dc0-40c9-94cf-6a2a1cf2bddc",
   "metadata": {},
   "outputs": [
    {
     "data": {
      "text/plain": [
       "str"
      ]
     },
     "execution_count": 28,
     "metadata": {},
     "output_type": "execute_result"
    }
   ],
   "source": [
    "type('10/10 baddie')"
   ]
  },
  {
   "cell_type": "code",
   "execution_count": 29,
   "id": "f1ae10ef-2a43-4432-86c5-d988f6d92408",
   "metadata": {},
   "outputs": [
    {
     "data": {
      "text/plain": [
       "5"
      ]
     },
     "execution_count": 29,
     "metadata": {},
     "output_type": "execute_result"
    }
   ],
   "source": [
    "len('hello')"
   ]
  },
  {
   "cell_type": "markdown",
   "id": "2fa23859-a543-4228-8d95-b9fbd7a5611c",
   "metadata": {},
   "source": [
    "You can use double or single quotes, it's the same. We also have \"multi-line\" strings, that are created with a pair of 3 quotes (simple or double, either works):"
   ]
  },
  {
   "cell_type": "code",
   "execution_count": 31,
   "id": "0c4c204e-c21f-4cad-88a8-11280fb34f20",
   "metadata": {},
   "outputs": [
    {
     "name": "stdout",
     "output_type": "stream",
     "text": [
      "\n",
      "Me: What’s the best thing about Switzerland?\n",
      "Friend: I don't know. What?\n",
      "Me: I don’t know, but the flag is a big plus.\n",
      "F: 😒\n",
      "\n"
     ]
    }
   ],
   "source": [
    "joke = '''\n",
    "Me: What’s the best thing about Switzerland?\n",
    "Friend: I don't know. What?\n",
    "Me: I don’t know, but the flag is a big plus.\n",
    "F: 😒\n",
    "'''\n",
    "\n",
    "print(joke)"
   ]
  },
  {
   "cell_type": "markdown",
   "id": "1ded93ae-e238-4909-92cd-28b4397453d3",
   "metadata": {},
   "source": [
    "#### Booleans, type `bool`\n",
    "\n",
    "Python booleans are as simple as they get: `True` and `False`, **capitalized**."
   ]
  },
  {
   "cell_type": "code",
   "execution_count": 32,
   "id": "98070e86-2fd6-4024-b0b2-953736f4cd63",
   "metadata": {},
   "outputs": [
    {
     "data": {
      "text/plain": [
       "True"
      ]
     },
     "execution_count": 32,
     "metadata": {},
     "output_type": "execute_result"
    }
   ],
   "source": [
    "True"
   ]
  },
  {
   "cell_type": "code",
   "execution_count": 33,
   "id": "c357762a-f289-484a-a179-e3dd709591d2",
   "metadata": {},
   "outputs": [
    {
     "data": {
      "text/plain": [
       "bool"
      ]
     },
     "execution_count": 33,
     "metadata": {},
     "output_type": "execute_result"
    }
   ],
   "source": [
    "type(False)"
   ]
  },
  {
   "cell_type": "markdown",
   "id": "41a064b3-0b22-4984-8017-eccc1a4f6b81",
   "metadata": {},
   "source": [
    "#### None, type `NoneType`\n",
    "\n",
    "As other languages have `null`, in Python we have `None`, which pretty much represents the absence of value:"
   ]
  },
  {
   "cell_type": "code",
   "execution_count": 34,
   "id": "b51daa73-791b-4bda-9e2c-cd186aaef6b1",
   "metadata": {},
   "outputs": [],
   "source": [
    "x = None"
   ]
  },
  {
   "cell_type": "code",
   "execution_count": 35,
   "id": "5de469e5-f0c2-4408-a0d3-1aa5aa502a28",
   "metadata": {},
   "outputs": [],
   "source": [
    "x"
   ]
  },
  {
   "cell_type": "code",
   "execution_count": 36,
   "id": "39fe094e-2173-402f-a88a-bc148761ff54",
   "metadata": {},
   "outputs": [
    {
     "name": "stdout",
     "output_type": "stream",
     "text": [
      "None\n"
     ]
    }
   ],
   "source": [
    "print(x)"
   ]
  },
  {
   "cell_type": "code",
   "execution_count": 38,
   "id": "f12ff27a-1a20-48bb-b536-f306354856c0",
   "metadata": {},
   "outputs": [
    {
     "data": {
      "text/plain": [
       "NoneType"
      ]
     },
     "execution_count": 38,
     "metadata": {},
     "output_type": "execute_result"
    }
   ],
   "source": [
    "type(x)\n",
    "type(None)"
   ]
  },
  {
   "cell_type": "markdown",
   "id": "5241ccfe-9276-460c-92b4-c4a90036bf00",
   "metadata": {},
   "source": [
    "![green-divider](https://user-images.githubusercontent.com/7065401/52071924-c003ad80-2562-11e9-8297-1c6595f8a7ff.png)\n",
    "\n",
    "### `int`, `float`, `str` and `bool` objects and functions\n",
    "\n",
    "You'll often see some of these _\"keywords/names\"_ used both as functions and as individual objects. When used as functions, their usage is to transform/cast objects into its corresponding type. Example:"
   ]
  },
  {
   "cell_type": "code",
   "execution_count": 39,
   "id": "5ad7fd09-ec8c-4315-b176-4ec9845129d7",
   "metadata": {},
   "outputs": [],
   "source": [
    "age_as_string = '28'"
   ]
  },
  {
   "cell_type": "code",
   "execution_count": 40,
   "id": "c75fe8db-f0c6-4bc4-9ba6-385c54fc9206",
   "metadata": {},
   "outputs": [
    {
     "data": {
      "text/plain": [
       "str"
      ]
     },
     "execution_count": 40,
     "metadata": {},
     "output_type": "execute_result"
    }
   ],
   "source": [
    "type(age_as_string)"
   ]
  },
  {
   "cell_type": "code",
   "execution_count": 41,
   "id": "79033e7d-3dd1-4ca5-a95f-8db5b6c3fb5f",
   "metadata": {},
   "outputs": [
    {
     "data": {
      "text/plain": [
       "28"
      ]
     },
     "execution_count": 41,
     "metadata": {},
     "output_type": "execute_result"
    }
   ],
   "source": [
    "int(age_as_string)"
   ]
  },
  {
   "cell_type": "code",
   "execution_count": 42,
   "id": "f11b4818-7899-4c36-91c2-4ca57915a158",
   "metadata": {},
   "outputs": [],
   "source": [
    "age = int(age_as_string)"
   ]
  },
  {
   "cell_type": "code",
   "execution_count": 43,
   "id": "76a0f8dc-aec8-4337-a9f5-e44a1265f872",
   "metadata": {},
   "outputs": [
    {
     "data": {
      "text/plain": [
       "int"
      ]
     },
     "execution_count": 43,
     "metadata": {},
     "output_type": "execute_result"
    }
   ],
   "source": [
    "type(age)"
   ]
  },
  {
   "cell_type": "markdown",
   "id": "f7c7547f-a298-4f0c-a67e-9ea81b5d82e0",
   "metadata": {},
   "source": [
    "Their use as objects is mainly associated with their type:"
   ]
  },
  {
   "cell_type": "code",
   "execution_count": 61,
   "id": "fafa03c0-517c-4c87-9e13-c7d11a727299",
   "metadata": {},
   "outputs": [
    {
     "data": {
      "text/plain": [
       "True"
      ]
     },
     "execution_count": 61,
     "metadata": {},
     "output_type": "execute_result"
    }
   ],
   "source": [
    "type(13) == int"
   ]
  },
  {
   "cell_type": "markdown",
   "id": "97692a61-dcbc-4176-82f1-080f0bbb4824",
   "metadata": {},
   "source": [
    "![green-divider](https://user-images.githubusercontent.com/7065401/52071924-c003ad80-2562-11e9-8297-1c6595f8a7ff.png)\n",
    "\n",
    "### Functions\n",
    "\n",
    "We've seen a couple of functions defined already, but let's dig a little bit deeper. Functions in Python are very intuitive. Let's start with an example of a function without parameters:"
   ]
  },
  {
   "cell_type": "code",
   "execution_count": 2,
   "id": "5e79347c-d223-444b-a486-ab7d79c16419",
   "metadata": {},
   "outputs": [],
   "source": [
    "def hello():\n",
    "    return 'hello world'"
   ]
  },
  {
   "cell_type": "markdown",
   "id": "0751381f-b935-411a-9290-c1457789790a",
   "metadata": {},
   "source": [
    "The `def` keyword indicate the _definition_ of a function, followed by a name and a list of arguments (which this function doesn't receive). The `return` statement is used to break the flow of the function and return a value back to the caller:"
   ]
  },
  {
   "cell_type": "code",
   "execution_count": 4,
   "id": "efc4b6ff-879b-4762-8718-a8bbbfcbb7c8",
   "metadata": {},
   "outputs": [],
   "source": [
    "result = hello()"
   ]
  },
  {
   "cell_type": "code",
   "execution_count": 5,
   "id": "e374e4da-b528-47f0-acd8-afd1367c3635",
   "metadata": {},
   "outputs": [
    {
     "data": {
      "text/plain": [
       "'hello world'"
      ]
     },
     "execution_count": 5,
     "metadata": {},
     "output_type": "execute_result"
    }
   ],
   "source": [
    "result"
   ]
  },
  {
   "cell_type": "markdown",
   "id": "0983462d-5b89-453f-9c77-affbf6c61d86",
   "metadata": {},
   "source": [
    "If a function doesn't explicitly include a `return` statement, Python will return `None` by default:"
   ]
  },
  {
   "cell_type": "code",
   "execution_count": 7,
   "id": "ff0f6f1a-0cc3-4736-8b7a-7c168374a0b3",
   "metadata": {},
   "outputs": [],
   "source": [
    "def empty():\n",
    "    x = 3"
   ]
  },
  {
   "cell_type": "code",
   "execution_count": 8,
   "id": "a8eeb88b-68c9-4658-8fc6-6ca92576451e",
   "metadata": {},
   "outputs": [],
   "source": [
    "result = empty()"
   ]
  },
  {
   "cell_type": "code",
   "execution_count": 9,
   "id": "6d8529d6-ff6d-436b-a1e9-a8fab9f6fc4f",
   "metadata": {},
   "outputs": [
    {
     "name": "stdout",
     "output_type": "stream",
     "text": [
      "None\n"
     ]
    }
   ],
   "source": [
    "print(result)"
   ]
  },
  {
   "cell_type": "markdown",
   "id": "328c3ded-2565-45b3-b826-304be354d16b",
   "metadata": {},
   "source": [
    "#### Receiving parameters\n",
    "\n",
    "There's a lot that can be done with Python parameters; including default and named parameters, and even variable/dynamic ones. But for now, we'll just focus on the basics. Function parameters are listed at the function definition, and they're part of the function's local scope:"
   ]
  },
  {
   "cell_type": "code",
   "execution_count": 11,
   "id": "a51d0bf8-13e8-4ae4-aa58-b3cc93d0f830",
   "metadata": {},
   "outputs": [],
   "source": [
    "def add(x, y):\n",
    "    return x + y"
   ]
  },
  {
   "cell_type": "code",
   "execution_count": 12,
   "id": "0c572a7e-3cf1-426b-b8b5-a8c29a9bb2f1",
   "metadata": {},
   "outputs": [
    {
     "data": {
      "text/plain": [
       "5"
      ]
     },
     "execution_count": 12,
     "metadata": {},
     "output_type": "execute_result"
    }
   ],
   "source": [
    "add(2, 3)"
   ]
  },
  {
   "cell_type": "markdown",
   "id": "4b56a2fd-1952-4d8a-8665-7f06859c1b88",
   "metadata": {},
   "source": [
    "We can also define functions that accept variable number of arguments, using the star args `*`:"
   ]
  },
  {
   "cell_type": "code",
   "execution_count": 14,
   "id": "c052b24b-74f4-409c-bf3e-13faad41e4de",
   "metadata": {},
   "outputs": [],
   "source": [
    "def add(*args):\n",
    "    return sum(args)"
   ]
  },
  {
   "cell_type": "code",
   "execution_count": 16,
   "id": "b8a5ee55-7c81-4a3c-8030-889d78f8988a",
   "metadata": {},
   "outputs": [
    {
     "data": {
      "text/plain": [
       "5"
      ]
     },
     "execution_count": 16,
     "metadata": {},
     "output_type": "execute_result"
    }
   ],
   "source": [
    "add(1 , 1, 1, 2)"
   ]
  },
  {
   "cell_type": "code",
   "execution_count": 17,
   "id": "c176d8ce-488a-4049-baaf-6408f509399f",
   "metadata": {},
   "outputs": [
    {
     "data": {
      "text/plain": [
       "1"
      ]
     },
     "execution_count": 17,
     "metadata": {},
     "output_type": "execute_result"
    }
   ],
   "source": [
    "add(1)"
   ]
  },
  {
   "cell_type": "markdown",
   "id": "17dca316-e164-4db2-a1fe-bbb0c520ed6d",
   "metadata": {},
   "source": [
    "![green-divider](https://user-images.githubusercontent.com/7065401/52071924-c003ad80-2562-11e9-8297-1c6595f8a7ff.png)\n",
    "\n",
    "### Operators\n",
    "\n",
    "Both arithmetic and boolean operators are available, for example:\n",
    "\n",
    "#### Arithmetic operators"
   ]
  },
  {
   "cell_type": "code",
   "execution_count": 18,
   "id": "5f109d29-0549-420e-b15b-93dac5d0fdfe",
   "metadata": {},
   "outputs": [
    {
     "data": {
      "text/plain": [
       "6"
      ]
     },
     "execution_count": 18,
     "metadata": {},
     "output_type": "execute_result"
    }
   ],
   "source": [
    "3 + 3"
   ]
  },
  {
   "cell_type": "code",
   "execution_count": 19,
   "id": "c3a241fe-83b8-46c4-a188-4861da0d34df",
   "metadata": {},
   "outputs": [
    {
     "data": {
      "text/plain": [
       "4"
      ]
     },
     "execution_count": 19,
     "metadata": {},
     "output_type": "execute_result"
    }
   ],
   "source": [
    "11 % 7"
   ]
  },
  {
   "cell_type": "markdown",
   "id": "409ad176-d650-4c86-9d52-1ab67679dd4d",
   "metadata": {},
   "source": [
    "Precedence can be consulted on [the official docs](https://docs.python.org/3/reference/expressions.html#operator-precedence). But, for the most part, the precedence is similar to the usual in arithmetic:"
   ]
  },
  {
   "cell_type": "code",
   "execution_count": 20,
   "id": "ec5a7454-f628-440a-ac07-fe7d0acb7d83",
   "metadata": {},
   "outputs": [
    {
     "data": {
      "text/plain": [
       "35"
      ]
     },
     "execution_count": 20,
     "metadata": {},
     "output_type": "execute_result"
    }
   ],
   "source": [
    "3 + 4 * 2 ** 3"
   ]
  },
  {
   "cell_type": "markdown",
   "id": "85b791cf-15fe-4064-8013-b914ca95b481",
   "metadata": {},
   "source": [
    "#### Boolean operators\n",
    "\n",
    "Regular comparison operators are available:"
   ]
  },
  {
   "cell_type": "code",
   "execution_count": 21,
   "id": "f5f81e1e-24a2-4513-89cd-e754231c74ff",
   "metadata": {},
   "outputs": [
    {
     "data": {
      "text/plain": [
       "True"
      ]
     },
     "execution_count": 21,
     "metadata": {},
     "output_type": "execute_result"
    }
   ],
   "source": [
    "7 > 3"
   ]
  },
  {
   "cell_type": "code",
   "execution_count": 23,
   "id": "0ea2ee46-b4eb-4715-9563-c25ccc40586c",
   "metadata": {},
   "outputs": [
    {
     "data": {
      "text/plain": [
       "True"
      ]
     },
     "execution_count": 23,
     "metadata": {},
     "output_type": "execute_result"
    }
   ],
   "source": [
    "8 >= 8"
   ]
  },
  {
   "cell_type": "markdown",
   "id": "9b8ca4b2-8fed-4a20-acf9-44435e07f27b",
   "metadata": {},
   "source": [
    "We said that Python is strongly typed, so comparison between different types will fail if these types are not compatible:"
   ]
  },
  {
   "cell_type": "code",
   "execution_count": 25,
   "id": "43f8f952-5049-48af-9572-9a06b11b6916",
   "metadata": {},
   "outputs": [
    {
     "ename": "TypeError",
     "evalue": "'>' not supported between instances of 'int' and 'str'",
     "output_type": "error",
     "traceback": [
      "\u001b[1;31m---------------------------------------------------------------------------\u001b[0m",
      "\u001b[1;31mTypeError\u001b[0m                                 Traceback (most recent call last)",
      "Cell \u001b[1;32mIn[25], line 1\u001b[0m\n\u001b[1;32m----> 1\u001b[0m \u001b[38;5;241m8\u001b[39m \u001b[38;5;241m>\u001b[39m \u001b[38;5;124m'\u001b[39m\u001b[38;5;124mabc\u001b[39m\u001b[38;5;124m'\u001b[39m\n",
      "\u001b[1;31mTypeError\u001b[0m: '>' not supported between instances of 'int' and 'str'"
     ]
    }
   ],
   "source": [
    "8 > 'abc'"
   ]
  },
  {
   "cell_type": "markdown",
   "id": "5c319203-524f-49c4-9ffe-76fa6b628543",
   "metadata": {},
   "source": [
    "Python also has other common boolean operators like `and`, `or`, `not`, etc. They are short circuited, as most modern programming languages:"
   ]
  },
  {
   "cell_type": "code",
   "execution_count": 26,
   "id": "90b38d75-bde1-45e7-9dda-3edf869ad053",
   "metadata": {},
   "outputs": [
    {
     "data": {
      "text/plain": [
       "True"
      ]
     },
     "execution_count": 26,
     "metadata": {},
     "output_type": "execute_result"
    }
   ],
   "source": [
    "True and True"
   ]
  },
  {
   "cell_type": "code",
   "execution_count": 27,
   "id": "c10d4c73-2c88-4222-9613-a8385ce25875",
   "metadata": {},
   "outputs": [
    {
     "data": {
      "text/plain": [
       "True"
      ]
     },
     "execution_count": 27,
     "metadata": {},
     "output_type": "execute_result"
    }
   ],
   "source": [
    "not False"
   ]
  },
  {
   "cell_type": "code",
   "execution_count": 45,
   "id": "159a1081-e3a7-4548-8071-c4822d638a26",
   "metadata": {},
   "outputs": [
    {
     "data": {
      "text/plain": [
       "False"
      ]
     },
     "execution_count": 45,
     "metadata": {},
     "output_type": "execute_result"
    }
   ],
   "source": [
    "False and True"
   ]
  },
  {
   "cell_type": "markdown",
   "id": "b4807116-46c0-4457-b7ea-dc0ad6d71dd6",
   "metadata": {},
   "source": [
    "![green-divider](https://user-images.githubusercontent.com/7065401/52071924-c003ad80-2562-11e9-8297-1c6595f8a7ff.png)\n",
    "\n",
    "### Control Flow\n",
    "\n",
    "Python supports the most common control flow blocks. Keep in mind they're defined with indentation.\n",
    "\n",
    "#### If/else/elif statements"
   ]
  },
  {
   "cell_type": "code",
   "execution_count": 46,
   "id": "255d22bd-10d3-48d4-8df1-56ac172a6a97",
   "metadata": {},
   "outputs": [],
   "source": [
    "days_subscribed = 28"
   ]
  },
  {
   "cell_type": "code",
   "execution_count": 47,
   "id": "785ad999-1692-4df9-ac06-192aa5ee428c",
   "metadata": {},
   "outputs": [
    {
     "name": "stdout",
     "output_type": "stream",
     "text": [
      "Halfway there\n"
     ]
    }
   ],
   "source": [
    "if days_subscribed >= 30:\n",
    "    print(\"Loyal customer\")\n",
    "elif days_subscribed >= 15:\n",
    "    print(\"Halfway there\")\n",
    "elif days_subscribed >= 1:\n",
    "    print(\"Building confidence\")\n",
    "else:\n",
    "    print(\"Too early\")"
   ]
  },
  {
   "cell_type": "markdown",
   "id": "8b89aee2-c52d-47bc-8948-76b1c54f5cb7",
   "metadata": {},
   "source": [
    "#### For loops\n",
    "\n",
    "For loops in Python are different than other languages, specially those C/Java-inspired languages. In Python, `for` loops are designed to iterate over collections (we'll see collections later). But keep that in mind."
   ]
  },
  {
   "cell_type": "code",
   "execution_count": 48,
   "id": "e31b61d0-ea96-4d22-bc8c-5bd51dd5d3c9",
   "metadata": {},
   "outputs": [],
   "source": [
    "names = ['bashir', 'shabir', 'babar', 'azam', 'king']"
   ]
  },
  {
   "cell_type": "code",
   "execution_count": 49,
   "id": "8c05eaff-cc33-493f-ac94-1d97d090135c",
   "metadata": {},
   "outputs": [
    {
     "name": "stdout",
     "output_type": "stream",
     "text": [
      "bashir\n",
      "shabir\n",
      "babar\n",
      "azam\n",
      "king\n"
     ]
    }
   ],
   "source": [
    "for name in names:\n",
    "    print(name)"
   ]
  },
  {
   "cell_type": "markdown",
   "id": "b183af3a-4785-4288-9c35-c28dacad3c3e",
   "metadata": {},
   "source": [
    "#### While loops\n",
    "\n",
    "While loops are seldom used in Python. For loops are the preferred choice 99% of the time. Still, they're available and are useful for some situations:"
   ]
  },
  {
   "cell_type": "code",
   "execution_count": 50,
   "id": "383c0fa1-4654-40af-b5f1-e38c3a9883ec",
   "metadata": {},
   "outputs": [],
   "source": [
    "count = 0"
   ]
  },
  {
   "cell_type": "code",
   "execution_count": 52,
   "id": "4ae8ed01-452f-42c5-a100-02f932efeced",
   "metadata": {},
   "outputs": [
    {
     "name": "stdout",
     "output_type": "stream",
     "text": [
      "Counting...\n",
      "Counting...\n",
      "Counting...\n"
     ]
    }
   ],
   "source": [
    "while count < 3:\n",
    "    print('Counting...')\n",
    "    count +=1"
   ]
  },
  {
   "cell_type": "markdown",
   "id": "17ab9db2-4e09-46f8-808b-902e208119c9",
   "metadata": {},
   "source": [
    "There's another block to mention, `try/except`, but it's in the **_Exceptions_** section."
   ]
  },
  {
   "cell_type": "markdown",
   "id": "83e4fd2f-3bb9-46d7-ae73-fae6412469c8",
   "metadata": {},
   "source": [
    "![green-divider](https://user-images.githubusercontent.com/7065401/52071924-c003ad80-2562-11e9-8297-1c6595f8a7ff.png)\n",
    "\n",
    "### Collections\n",
    "\n",
    "Python has multiple versatile collection types, each with different features and capabilities. These are the most common collections we'll explore:\n",
    "\n",
    "* Lists\n",
    "* Tuples\n",
    "* Dictionaries\n",
    "* Sets\n",
    "\n",
    "Even though they all have different capabilities, there is one common property to all of them, and it's that Python collections are heterogeneous, that is, you can mix multiple types. That **doesn't mean we should** mix types, usually it's better to have a consistent collection. But it's still possible.\n",
    "\n",
    "#### Lists\n",
    "\n",
    "Lists are mutable, ordered sequences. We could argue, the most common collection type."
   ]
  },
  {
   "cell_type": "code",
   "execution_count": 53,
   "id": "c40c616c-5f01-486b-915e-8c4d3a3918e4",
   "metadata": {},
   "outputs": [],
   "source": [
    "l = [3, 'salam', True]"
   ]
  },
  {
   "cell_type": "code",
   "execution_count": 54,
   "id": "cefdb513-e6b6-4295-a519-733a14fce0d5",
   "metadata": {},
   "outputs": [
    {
     "data": {
      "text/plain": [
       "3"
      ]
     },
     "execution_count": 54,
     "metadata": {},
     "output_type": "execute_result"
    }
   ],
   "source": [
    "len(l)"
   ]
  },
  {
   "cell_type": "markdown",
   "id": "fb37b6c3-d0b8-4d9f-bdc8-679894d51287",
   "metadata": {},
   "source": [
    "List elements are accessed using sequential indices (starting from `0`):"
   ]
  },
  {
   "cell_type": "code",
   "execution_count": 55,
   "id": "a7c44de3-5848-4479-b58b-948a22b484fa",
   "metadata": {},
   "outputs": [
    {
     "data": {
      "text/plain": [
       "3"
      ]
     },
     "execution_count": 55,
     "metadata": {},
     "output_type": "execute_result"
    }
   ],
   "source": [
    "l[0]"
   ]
  },
  {
   "cell_type": "code",
   "execution_count": 56,
   "id": "ce2c6bfd-c324-4b8b-a78f-397e0f827229",
   "metadata": {},
   "outputs": [
    {
     "data": {
      "text/plain": [
       "'salam'"
      ]
     },
     "execution_count": 56,
     "metadata": {},
     "output_type": "execute_result"
    }
   ],
   "source": [
    "l[1]"
   ]
  },
  {
   "cell_type": "markdown",
   "id": "8bfe656a-0af1-43d9-a086-5282d282139d",
   "metadata": {},
   "source": [
    "Negative indices are also supported:"
   ]
  },
  {
   "cell_type": "code",
   "execution_count": 57,
   "id": "cd61c90e-ea64-4baa-b3f1-425ac6a0993b",
   "metadata": {},
   "outputs": [
    {
     "data": {
      "text/plain": [
       "True"
      ]
     },
     "execution_count": 57,
     "metadata": {},
     "output_type": "execute_result"
    }
   ],
   "source": [
    "l[-1]"
   ]
  },
  {
   "cell_type": "code",
   "execution_count": 58,
   "id": "3531d785-641a-4a45-a553-529692a3be6d",
   "metadata": {},
   "outputs": [
    {
     "data": {
      "text/plain": [
       "'salam'"
      ]
     },
     "execution_count": 58,
     "metadata": {},
     "output_type": "execute_result"
    }
   ],
   "source": [
    "l[-2]"
   ]
  },
  {
   "cell_type": "code",
   "execution_count": 59,
   "id": "2f4d4d43-6ebb-40f1-87c5-5b1d9563ee4d",
   "metadata": {},
   "outputs": [
    {
     "data": {
      "text/plain": [
       "3"
      ]
     },
     "execution_count": 59,
     "metadata": {},
     "output_type": "execute_result"
    }
   ],
   "source": [
    "l[-3]"
   ]
  },
  {
   "cell_type": "markdown",
   "id": "873b4ffa-fff0-4169-9566-1082481b19d6",
   "metadata": {},
   "source": [
    "Lists have many useful methods to add/remove elements:"
   ]
  },
  {
   "cell_type": "code",
   "execution_count": 60,
   "id": "28e8ebee-9e29-49ba-bb13-c7c02a7c08b2",
   "metadata": {},
   "outputs": [],
   "source": [
    "l.append('Babar Azam 🐐')"
   ]
  },
  {
   "cell_type": "code",
   "execution_count": 61,
   "id": "e7359b8c-76f2-4169-8109-3a551e702511",
   "metadata": {},
   "outputs": [
    {
     "data": {
      "text/plain": [
       "[3, 'salam', True, 'Babar Azam 🐐']"
      ]
     },
     "execution_count": 61,
     "metadata": {},
     "output_type": "execute_result"
    }
   ],
   "source": [
    "l"
   ]
  },
  {
   "cell_type": "code",
   "execution_count": 63,
   "id": "003f521e-1fa4-4857-9e22-56ef31a4d14b",
   "metadata": {},
   "outputs": [
    {
     "data": {
      "text/plain": [
       "True"
      ]
     },
     "execution_count": 63,
     "metadata": {},
     "output_type": "execute_result"
    }
   ],
   "source": [
    "\"Babar Azam 🐐\" in l"
   ]
  },
  {
   "cell_type": "code",
   "execution_count": 64,
   "id": "797d62cb-6f0a-4c8a-9c3d-6a4ad9af5de2",
   "metadata": {},
   "outputs": [
    {
     "data": {
      "text/plain": [
       "False"
      ]
     },
     "execution_count": 64,
     "metadata": {},
     "output_type": "execute_result"
    }
   ],
   "source": [
    "\"Shaheen Afridi\" in l"
   ]
  },
  {
   "cell_type": "markdown",
   "id": "a8519e01-349e-4bc9-8b46-73b533284e6c",
   "metadata": {},
   "source": [
    "#### Tuples\n",
    "\n",
    "Tuples are very similar to lists, but with a huge difference: **they're immutable**. That means, once a tuple is created, it can't be further modified:"
   ]
  },
  {
   "cell_type": "code",
   "execution_count": 65,
   "id": "5178bf51-cb9f-4a1f-adba-2112abc4bb82",
   "metadata": {},
   "outputs": [],
   "source": [
    "t = (3, 'salam', True)"
   ]
  },
  {
   "cell_type": "markdown",
   "id": "c3d97a27-d4a5-4aee-8f23-ae0535d9d10d",
   "metadata": {},
   "source": [
    "Indexing them works in the same way:"
   ]
  },
  {
   "cell_type": "code",
   "execution_count": 66,
   "id": "f117a0a4-6db7-48cd-a383-f3f9fd3f30d3",
   "metadata": {},
   "outputs": [
    {
     "data": {
      "text/plain": [
       "3"
      ]
     },
     "execution_count": 66,
     "metadata": {},
     "output_type": "execute_result"
    }
   ],
   "source": [
    "t[0]"
   ]
  },
  {
   "cell_type": "code",
   "execution_count": 67,
   "id": "9cf300b2-430b-41de-9d0d-7ea72f116950",
   "metadata": {},
   "outputs": [
    {
     "data": {
      "text/plain": [
       "'salam'"
      ]
     },
     "execution_count": 67,
     "metadata": {},
     "output_type": "execute_result"
    }
   ],
   "source": [
    "t[1]"
   ]
  },
  {
   "cell_type": "code",
   "execution_count": 68,
   "id": "3d185d24-d2aa-499f-ab0a-ece62e4d4c79",
   "metadata": {},
   "outputs": [
    {
     "data": {
      "text/plain": [
       "True"
      ]
     },
     "execution_count": 68,
     "metadata": {},
     "output_type": "execute_result"
    }
   ],
   "source": [
    "t[-1]"
   ]
  },
  {
   "cell_type": "code",
   "execution_count": 71,
   "id": "3702775a-a21a-4643-a376-3dc7de096c32",
   "metadata": {},
   "outputs": [
    {
     "data": {
      "text/plain": [
       "True"
      ]
     },
     "execution_count": 71,
     "metadata": {},
     "output_type": "execute_result"
    }
   ],
   "source": [
    "'salam' in t"
   ]
  },
  {
   "cell_type": "markdown",
   "id": "d1c81495-e9d9-4403-b33d-70cd2500d0f1",
   "metadata": {},
   "source": [
    "But there's no way of modifying them."
   ]
  }
 ],
 "metadata": {
  "kernelspec": {
   "display_name": "Python 3 (ipykernel)",
   "language": "python",
   "name": "python3"
  },
  "language_info": {
   "codemirror_mode": {
    "name": "ipython",
    "version": 3
   },
   "file_extension": ".py",
   "mimetype": "text/x-python",
   "name": "python",
   "nbconvert_exporter": "python",
   "pygments_lexer": "ipython3",
   "version": "3.11.7"
  }
 },
 "nbformat": 4,
 "nbformat_minor": 5
}

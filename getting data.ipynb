{
 "cells": [
  {
   "cell_type": "markdown",
   "id": "4a41b260-1083-4f07-8b30-390d2a35dcac",
   "metadata": {},
   "source": [
    "# >**HeLLO**"
   ]
  },
  {
   "cell_type": "code",
   "execution_count": null,
   "id": "2ffa8c9e-120c-4a74-97b5-5c4808ec84be",
   "metadata": {},
   "outputs": [],
   "source": []
  },
  {
   "cell_type": "markdown",
   "id": "7d70a5a6-7f18-4a9f-87bd-534c8647a871",
   "metadata": {},
   "source": [
    "# >**HeLLO**"
   ]
  }
 ],
 "metadata": {
  "kernelspec": {
   "display_name": "Python 3 (ipykernel)",
   "language": "python",
   "name": "python3"
  },
  "language_info": {
   "codemirror_mode": {
    "name": "ipython",
    "version": 3
   },
   "file_extension": ".py",
   "mimetype": "text/x-python",
   "name": "python",
   "nbconvert_exporter": "python",
   "pygments_lexer": "ipython3",
   "version": "3.11.7"
  }
 },
 "nbformat": 4,
 "nbformat_minor": 5
}

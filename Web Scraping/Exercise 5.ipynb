{
 "cells": [
  {
   "cell_type": "markdown",
   "id": "9bb4b147-4402-4c4e-8a90-3cd622642d79",
   "metadata": {},
   "source": [
    "# Solve the mystery challenge"
   ]
  },
  {
   "cell_type": "code",
   "execution_count": 1,
   "id": "5193aede-f182-486a-8c41-87ed7d5d1e8b",
   "metadata": {},
   "outputs": [],
   "source": [
    "# load the library\n",
    "import requests\n",
    "from bs4 import BeautifulSoup as bs"
   ]
  },
  {
   "cell_type": "code",
   "execution_count": 2,
   "id": "1e8a8891-df1d-4b10-b01a-fc0cb3ea222d",
   "metadata": {},
   "outputs": [],
   "source": [
    "#load the page\n",
    "r = requests.get('https://keithgalli.github.io/web-scraping/webpage.html')\n",
    "# convert into bs object\n",
    "webpage = bs(r.content)"
   ]
  },
  {
   "cell_type": "code",
   "execution_count": 3,
   "id": "4a254247-9346-42a5-a4a2-aab0c7b90b86",
   "metadata": {},
   "outputs": [],
   "source": [
    "base_url = 'https://keithgalli.github.io/web-scraping/'"
   ]
  },
  {
   "cell_type": "code",
   "execution_count": 4,
   "id": "020aed53-3e9f-4d48-bc59-c4791a51c7d5",
   "metadata": {},
   "outputs": [],
   "source": [
    "files = webpage.select('div.block a')"
   ]
  },
  {
   "cell_type": "code",
   "execution_count": 5,
   "id": "dc90fb45-a762-45f5-a7a6-665bde41862e",
   "metadata": {},
   "outputs": [],
   "source": [
    "# files_1 = files[0]['href']\n",
    "# fr = requests.get(base_url+str(files_1))\n",
    "# file_1 = bs(fr.content)\n",
    "# file_1.find_all('p', attrs={'id': 'secret-word'})"
   ]
  },
  {
   "cell_type": "code",
   "execution_count": 12,
   "id": "bcc31fd0-b89c-441d-b5bc-0b0d856136e0",
   "metadata": {},
   "outputs": [
    {
     "name": "stdout",
     "output_type": "stream",
     "text": [
      "['Make']\n",
      "['sure']\n",
      "['to']\n",
      "['smash']\n",
      "['that']\n",
      "['like']\n",
      "['button']\n",
      "['and']\n",
      "['subscribe']\n",
      "['!!!']\n"
     ]
    }
   ],
   "source": [
    "for file in files:\n",
    "    r = requests.get(base_url+str(file['href']))\n",
    "    # print(file)\n",
    "    # print(base_url+str(file['href']))\n",
    "    page = bs(r.content)\n",
    "    # print(page)\n",
    "    words = page.find_all('p', attrs={'id': 'secret-word'})\n",
    "    print([word.text for word in words])"
   ]
  },
  {
   "cell_type": "code",
   "execution_count": null,
   "id": "0cf87ec6-29f5-48b9-b2b3-6ee2e46ecb3c",
   "metadata": {},
   "outputs": [],
   "source": []
  }
 ],
 "metadata": {
  "kernelspec": {
   "display_name": "Python 3 (ipykernel)",
   "language": "python",
   "name": "python3"
  },
  "language_info": {
   "codemirror_mode": {
    "name": "ipython",
    "version": 3
   },
   "file_extension": ".py",
   "mimetype": "text/x-python",
   "name": "python",
   "nbconvert_exporter": "python",
   "pygments_lexer": "ipython3",
   "version": "3.11.7"
  }
 },
 "nbformat": 4,
 "nbformat_minor": 5
}

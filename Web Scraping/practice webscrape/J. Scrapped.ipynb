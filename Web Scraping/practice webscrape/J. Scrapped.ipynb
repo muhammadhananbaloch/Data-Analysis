{
 "cells": [
  {
   "cell_type": "code",
   "execution_count": 122,
   "id": "53bac16c-a0a9-4044-a2d4-371e94af2d9d",
   "metadata": {},
   "outputs": [],
   "source": [
    "import requests\n",
    "from bs4 import BeautifulSoup as bs\n",
    "import pandas as pd"
   ]
  },
  {
   "cell_type": "code",
   "execution_count": 123,
   "id": "f491ef4d-e31d-46fd-ba49-b5fea2611d28",
   "metadata": {},
   "outputs": [],
   "source": [
    "# load the webpage\n",
    "url = \"https://www.junaidjamshed.com/mens/kameez-shalwar.html\"\n",
    "r = requests.get(url)\n",
    "# convert to a beautiful soup object\n",
    "webpage = bs(r.content, \"html.parser\")"
   ]
  },
  {
   "cell_type": "code",
   "execution_count": 124,
   "id": "d06b0283-8a83-453e-9c3b-f004894239c4",
   "metadata": {},
   "outputs": [],
   "source": [
    "# print(webpage.prettify())"
   ]
  },
  {
   "cell_type": "code",
   "execution_count": 125,
   "id": "87a885e0-b6fc-4150-b4da-605c23669f84",
   "metadata": {},
   "outputs": [],
   "source": [
    "page_wrapper = webpage.select('div.page-wrapper')"
   ]
  },
  {
   "cell_type": "code",
   "execution_count": 126,
   "id": "5ac364de-b95d-4c3c-88de-beebdad31d7f",
   "metadata": {},
   "outputs": [],
   "source": [
    "main = [wrapper.select('main.page-main')for wrapper in page_wrapper]"
   ]
  },
  {
   "cell_type": "code",
   "execution_count": 127,
   "id": "9e8779c7-da4a-4069-a468-b936271c17dc",
   "metadata": {},
   "outputs": [],
   "source": [
    "for columns in main:\n",
    "    for column in columns:\n",
    "        complete_items = column.select('div.columns div.column.main div.products.wrapper.grid.products-grid ol li.item.product.product-item')"
   ]
  },
  {
   "cell_type": "code",
   "execution_count": 128,
   "id": "91b0095d-f2f0-45e9-b8ea-41a068ec9e58",
   "metadata": {},
   "outputs": [],
   "source": [
    "product_names_id = []\n",
    "for items in complete_items:\n",
    "    product_names_id.append(items.select('div.product-item-info div.product.details.product-item-details h2.product.name.product-item-name a'))"
   ]
  },
  {
   "cell_type": "code",
   "execution_count": 129,
   "id": "25f1351c-a235-4537-929f-70c1ef028572",
   "metadata": {},
   "outputs": [],
   "source": [
    "product_prices = []\n",
    "for items in complete_items:\n",
    "        product_prices.append(items.select('div.product-item-info div.product.details.product-item-details div.price-box.price-final_price span.special-price span.price-container.price-final_price.tax.weee span.price-wrapper span.price'))"
   ]
  },
  {
   "cell_type": "code",
   "execution_count": 130,
   "id": "0eb8f47a-4b0f-4a45-8c31-224862abc8f8",
   "metadata": {},
   "outputs": [],
   "source": [
    "current_discount = []\n",
    "for items in complete_items:\n",
    "        current_discount.append(items.select('div.product-item-info div.product.details.product-item-details div.price-box.price-final_price div.stock.unavailable.discount-percent span'))"
   ]
  },
  {
   "cell_type": "code",
   "execution_count": 131,
   "id": "0c32eae5-c831-4f5e-97b9-4ab16fad93e5",
   "metadata": {},
   "outputs": [],
   "source": [
    "product_name=[]\n",
    "product_id=[]\n",
    "for names_ids in product_names_id:\n",
    "    for name_id in names_ids:\n",
    "        nameAndId = name_id.text.strip()\n",
    "        head, sep, tail = nameAndId.partition('|')\n",
    "        product_name.append(head.strip())\n",
    "        product_id.append(tail.strip())"
   ]
  },
  {
   "cell_type": "code",
   "execution_count": 132,
   "id": "b656a809-c996-4566-a610-3235fe9db46c",
   "metadata": {},
   "outputs": [],
   "source": [
    "product_price=[]\n",
    "for prices in product_prices:\n",
    "    product_price.append([price.text.strip('PKR').lstrip() for price in prices])"
   ]
  },
  {
   "cell_type": "code",
   "execution_count": null,
   "id": "c2a01d02-e60e-477c-a89f-dc580315a7d5",
   "metadata": {},
   "outputs": [],
   "source": [
    "discount=[]\n",
    "for discounts in current_discount:\n",
    "    discount.append([discount.text.strip() for discount in discounts])"
   ]
  },
  {
   "cell_type": "code",
   "execution_count": null,
   "id": "a88f7b0b-edfa-4ca4-ba13-95cdd7ed8c61",
   "metadata": {},
   "outputs": [],
   "source": [
    "data = {'Product Name': product_name,\n",
    "        'Product ID': product_id,\n",
    "       'Price': product_price,\n",
    "       'Discount': discount}\n",
    "df = pd.DataFrame(data)\n",
    "df.shape"
   ]
  },
  {
   "cell_type": "code",
   "execution_count": null,
   "id": "5999f68b-5fa7-434c-b011-40dc0b8c4b9a",
   "metadata": {},
   "outputs": [],
   "source": [
    "df"
   ]
  },
  {
   "cell_type": "code",
   "execution_count": null,
   "id": "4dd2a415-9f0c-445c-9c91-5af9085b3f85",
   "metadata": {},
   "outputs": [],
   "source": []
  }
 ],
 "metadata": {
  "kernelspec": {
   "display_name": "Python 3 (ipykernel)",
   "language": "python",
   "name": "python3"
  },
  "language_info": {
   "codemirror_mode": {
    "name": "ipython",
    "version": 3
   },
   "file_extension": ".py",
   "mimetype": "text/x-python",
   "name": "python",
   "nbconvert_exporter": "python",
   "pygments_lexer": "ipython3",
   "version": "3.11.7"
  }
 },
 "nbformat": 4,
 "nbformat_minor": 5
}

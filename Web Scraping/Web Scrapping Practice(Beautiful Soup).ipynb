{
 "cells": [
  {
   "cell_type": "markdown",
   "id": "6ee1144a-4e5c-4083-950b-95b4eae4e4fd",
   "metadata": {},
   "source": [
    "## Load necessary libraries"
   ]
  },
  {
   "cell_type": "code",
   "execution_count": 9,
   "id": "ca95d99c-cf90-4ca1-8412-64e49f186967",
   "metadata": {},
   "outputs": [],
   "source": [
    "import requests\n",
    "from bs4 import BeautifulSoup as bs"
   ]
  },
  {
   "cell_type": "markdown",
   "id": "9f9e4828-f000-4229-bccb-84537e8726c4",
   "metadata": {},
   "source": [
    "## Load our first page"
   ]
  },
  {
   "cell_type": "code",
   "execution_count": 10,
   "id": "34d7ea54-5b83-4d60-b9aa-d37f5f5bd753",
   "metadata": {},
   "outputs": [
    {
     "name": "stdout",
     "output_type": "stream",
     "text": [
      "<html>\n",
      " <head>\n",
      "  <title>\n",
      "   HTML Example\n",
      "  </title>\n",
      " </head>\n",
      " <body>\n",
      "  <div align=\"middle\">\n",
      "   <h1>\n",
      "    HTML Webpage\n",
      "   </h1>\n",
      "   <p>\n",
      "    Link to more interesting example:\n",
      "    <a href=\"https://keithgalli.github.io/web-scraping/webpage.html\">\n",
      "     keithgalli.github.io/web-scraping/webpage.html\n",
      "    </a>\n",
      "   </p>\n",
      "  </div>\n",
      "  <h2>\n",
      "   A Header\n",
      "  </h2>\n",
      "  <p>\n",
      "   <i>\n",
      "    Some italicized text\n",
      "   </i>\n",
      "  </p>\n",
      "  <h2>\n",
      "   Another header\n",
      "  </h2>\n",
      "  <p id=\"paragraph-id\">\n",
      "   <b>\n",
      "    Some bold text\n",
      "   </b>\n",
      "  </p>\n",
      " </body>\n",
      "</html>\n",
      "\n"
     ]
    }
   ],
   "source": [
    "# Load the webpage content\n",
    "r = requests.get(\"https://keithgalli.github.io/web-scraping/example.html\")\n",
    "\n",
    "# Convert to beautiful soup object\n",
    "soup = bs(r.content)\n",
    "\n",
    "# print html\n",
    "print(soup.prettify())"
   ]
  },
  {
   "cell_type": "markdown",
   "id": "376fe0e4-5496-4893-b115-1f6a088a0d12",
   "metadata": {},
   "source": [
    "## Start using beautiful soup to scrape"
   ]
  },
  {
   "cell_type": "markdown",
   "id": "442fae20-8429-488d-9c04-5f87af1fd36c",
   "metadata": {},
   "source": [
    "### find and find_all"
   ]
  },
  {
   "cell_type": "code",
   "execution_count": 11,
   "id": "0b454398-f80e-466d-8ab9-fcb33a90d547",
   "metadata": {},
   "outputs": [
    {
     "data": {
      "text/plain": [
       "<h2>A Header</h2>"
      ]
     },
     "execution_count": 11,
     "metadata": {},
     "output_type": "execute_result"
    }
   ],
   "source": [
    "first_header = soup.find('h2') # finds only first element that matches the command\n",
    "first_header"
   ]
  },
  {
   "cell_type": "code",
   "execution_count": 12,
   "id": "a6a3596e-7f47-493e-b76f-6939caae1ef8",
   "metadata": {},
   "outputs": [
    {
     "data": {
      "text/plain": [
       "[<h2>A Header</h2>, <h2>Another header</h2>]"
      ]
     },
     "execution_count": 12,
     "metadata": {},
     "output_type": "execute_result"
    }
   ],
   "source": [
    "headers = soup.find_all('h2') # finds all element thats matches the command\n",
    "headers"
   ]
  },
  {
   "cell_type": "code",
   "execution_count": 18,
   "id": "749e9a1a-6919-4f27-a323-01dda5f3d859",
   "metadata": {},
   "outputs": [
    {
     "data": {
      "text/plain": [
       "<h1>HTML Webpage</h1>"
      ]
     },
     "execution_count": 18,
     "metadata": {},
     "output_type": "execute_result"
    }
   ],
   "source": [
    "# Pass in a list of elements to look for\n",
    "first_header = soup.find(['h1', 'h2']) # only gets the first appearance\n",
    "first_header"
   ]
  },
  {
   "cell_type": "code",
   "execution_count": 17,
   "id": "fd57e556-25d5-40ac-8956-7462f723cc29",
   "metadata": {},
   "outputs": [
    {
     "data": {
      "text/plain": [
       "[<h1>HTML Webpage</h1>, <h2>A Header</h2>, <h2>Another header</h2>]"
      ]
     },
     "execution_count": 17,
     "metadata": {},
     "output_type": "execute_result"
    }
   ],
   "source": [
    "first_header = soup.find_all(['h1', 'h2']) # gets all the appearance\n",
    "first_header"
   ]
  },
  {
   "cell_type": "markdown",
   "id": "a2c7b626-6d40-44fd-8073-e1c232007b59",
   "metadata": {},
   "source": [
    "#### Attributes in find/find_all function."
   ]
  },
  {
   "cell_type": "code",
   "execution_count": 24,
   "id": "89035770-e58f-4b46-bbc1-29d3870fd866",
   "metadata": {},
   "outputs": [
    {
     "data": {
      "text/plain": [
       "[<p id=\"paragraph-id\"><b>Some bold text</b></p>]"
      ]
     },
     "execution_count": 24,
     "metadata": {},
     "output_type": "execute_result"
    }
   ],
   "source": [
    "# You can pass in attributes to teh find/find_all function\n",
    "paragraph = soup.find_all('p', attrs={\"id\":\"paragraph-id\"})\n",
    "paragraph"
   ]
  },
  {
   "cell_type": "code",
   "execution_count": 25,
   "id": "58b53260-fdd1-40fb-9577-2f0694691166",
   "metadata": {},
   "outputs": [
    {
     "data": {
      "text/plain": [
       "<body>\n",
       "<div align=\"middle\">\n",
       "<h1>HTML Webpage</h1>\n",
       "<p>Link to more interesting example: <a href=\"https://keithgalli.github.io/web-scraping/webpage.html\">keithgalli.github.io/web-scraping/webpage.html</a></p>\n",
       "</div>\n",
       "<h2>A Header</h2>\n",
       "<p><i>Some italicized text</i></p>\n",
       "<h2>Another header</h2>\n",
       "<p id=\"paragraph-id\"><b>Some bold text</b></p>\n",
       "</body>"
      ]
     },
     "execution_count": 25,
     "metadata": {},
     "output_type": "execute_result"
    }
   ],
   "source": [
    "# you can nest find/find_all calls\n",
    "body = soup.find('body')\n",
    "body"
   ]
  },
  {
   "cell_type": "code",
   "execution_count": 26,
   "id": "2f395bd2-7931-41d6-862a-56caeaffef8f",
   "metadata": {},
   "outputs": [
    {
     "data": {
      "text/plain": [
       "<div align=\"middle\">\n",
       "<h1>HTML Webpage</h1>\n",
       "<p>Link to more interesting example: <a href=\"https://keithgalli.github.io/web-scraping/webpage.html\">keithgalli.github.io/web-scraping/webpage.html</a></p>\n",
       "</div>"
      ]
     },
     "execution_count": 26,
     "metadata": {},
     "output_type": "execute_result"
    }
   ],
   "source": [
    "div = body.find('div')\n",
    "div"
   ]
  },
  {
   "cell_type": "code",
   "execution_count": 27,
   "id": "29ae5612-b484-4f10-8e76-80fe23787628",
   "metadata": {},
   "outputs": [
    {
     "data": {
      "text/plain": [
       "<h1>HTML Webpage</h1>"
      ]
     },
     "execution_count": 27,
     "metadata": {},
     "output_type": "execute_result"
    }
   ],
   "source": [
    "header = div.find('h1')\n",
    "header"
   ]
  },
  {
   "cell_type": "code",
   "execution_count": 31,
   "id": "2ee07c8a-0c7b-4da6-966c-76a25b4a6c36",
   "metadata": {},
   "outputs": [
    {
     "name": "stdout",
     "output_type": "stream",
     "text": [
      "<html>\n",
      " <head>\n",
      "  <title>\n",
      "   HTML Example\n",
      "  </title>\n",
      " </head>\n",
      " <body>\n",
      "  <div align=\"middle\">\n",
      "   <h1>\n",
      "    HTML Webpage\n",
      "   </h1>\n",
      "   <p>\n",
      "    Link to more interesting example:\n",
      "    <a href=\"https://keithgalli.github.io/web-scraping/webpage.html\">\n",
      "     keithgalli.github.io/web-scraping/webpage.html\n",
      "    </a>\n",
      "   </p>\n",
      "  </div>\n",
      "  <h2>\n",
      "   A Header\n",
      "  </h2>\n",
      "  <p>\n",
      "   <i>\n",
      "    Some italicized text\n",
      "   </i>\n",
      "  </p>\n",
      "  <h2>\n",
      "   Another header\n",
      "  </h2>\n",
      "  <p id=\"paragraph-id\">\n",
      "   <b>\n",
      "    Some bold text\n",
      "   </b>\n",
      "  </p>\n",
      " </body>\n",
      "</html>\n",
      "\n"
     ]
    }
   ],
   "source": [
    "# We can search specific string in our find/find_all calls\n",
    "print(soup.prettify())"
   ]
  },
  {
   "cell_type": "code",
   "execution_count": 36,
   "id": "744d17f8-e5f4-435c-95e0-41a8645b2aaa",
   "metadata": {},
   "outputs": [
    {
     "data": {
      "text/plain": [
       "[<p id=\"paragraph-id\"><b>Some bold text</b></p>]"
      ]
     },
     "execution_count": 36,
     "metadata": {},
     "output_type": "execute_result"
    }
   ],
   "source": [
    "paragraphs = soup.find_all('p', string='Some bold text') # we have write exact text for it to get it\n",
    "paragraphs"
   ]
  },
  {
   "cell_type": "code",
   "execution_count": 38,
   "id": "a355ddf3-f929-4060-9153-4874f44e3ad3",
   "metadata": {},
   "outputs": [
    {
     "data": {
      "text/plain": [
       "[<p><i>Some italicized text</i></p>,\n",
       " <p id=\"paragraph-id\"><b>Some bold text</b></p>]"
      ]
     },
     "execution_count": 38,
     "metadata": {},
     "output_type": "execute_result"
    }
   ],
   "source": [
    "# or we can use regex to match just specific words\n",
    "import re\n",
    "\n",
    "paragraphs = soup.find_all('p', string = re.compile('Some')) # gets all paragraph elements where \"Some\" is present\n",
    "paragraphs"
   ]
  },
  {
   "cell_type": "code",
   "execution_count": 45,
   "id": "c2daadf7-f3cf-49bc-965b-25a64f6c6139",
   "metadata": {},
   "outputs": [
    {
     "data": {
      "text/plain": [
       "[<h2>A Header</h2>, <h2>Another header</h2>]"
      ]
     },
     "execution_count": 45,
     "metadata": {},
     "output_type": "execute_result"
    }
   ],
   "source": [
    "headers = soup.find_all('h2', string=re.compile('(H|h)eader'))\n",
    "headers"
   ]
  },
  {
   "cell_type": "markdown",
   "id": "06d9ab17-e0a4-4227-8c30-072a5ffb9313",
   "metadata": {},
   "source": [
    "### select (CSS selector)"
   ]
  },
  {
   "cell_type": "code",
   "execution_count": 97,
   "id": "9d50703c-9703-420e-ad12-ae294612ce6e",
   "metadata": {},
   "outputs": [
    {
     "name": "stdout",
     "output_type": "stream",
     "text": [
      "<body>\n",
      " <div align=\"middle\">\n",
      "  <h1>\n",
      "   HTML Webpage\n",
      "  </h1>\n",
      "  <p>\n",
      "   Link to more interesting example:\n",
      "   <a href=\"https://keithgalli.github.io/web-scraping/webpage.html\">\n",
      "    keithgalli.github.io/web-scraping/webpage.html\n",
      "   </a>\n",
      "  </p>\n",
      " </div>\n",
      " <h2>\n",
      "  A Header\n",
      " </h2>\n",
      " <p>\n",
      "  <i>\n",
      "   Some italicized text\n",
      "  </i>\n",
      " </p>\n",
      " <h2>\n",
      "  Another header\n",
      " </h2>\n",
      " <p id=\"paragraph-id\">\n",
      "  <b>\n",
      "   Some bold text\n",
      "  </b>\n",
      " </p>\n",
      "</body>\n",
      "\n"
     ]
    }
   ],
   "source": [
    "print(soup.body.prettify())"
   ]
  },
  {
   "cell_type": "code",
   "execution_count": 103,
   "id": "65d5d289-644f-4d0a-bb77-3fedeae38e7a",
   "metadata": {},
   "outputs": [
    {
     "data": {
      "text/plain": [
       "[<p>Link to more interesting example: <a href=\"https://keithgalli.github.io/web-scraping/webpage.html\">keithgalli.github.io/web-scraping/webpage.html</a></p>]"
      ]
     },
     "execution_count": 103,
     "metadata": {},
     "output_type": "execute_result"
    }
   ],
   "source": [
    "content = soup.select('div p') # selects p inside div\n",
    "content"
   ]
  },
  {
   "cell_type": "code",
   "execution_count": 104,
   "id": "b8ddf5c3-3ead-4ab5-9b81-79c1477c8a80",
   "metadata": {},
   "outputs": [
    {
     "data": {
      "text/plain": [
       "[<p><i>Some italicized text</i></p>,\n",
       " <p id=\"paragraph-id\"><b>Some bold text</b></p>]"
      ]
     },
     "execution_count": 104,
     "metadata": {},
     "output_type": "execute_result"
    }
   ],
   "source": [
    "paragraphs = soup.select(\"h2 ~ p\") # selects all parahraphs after h2\n",
    "paragraphs"
   ]
  },
  {
   "cell_type": "code",
   "execution_count": 109,
   "id": "a4ad0783-55ab-4b9b-9ed7-d3c7f364c830",
   "metadata": {},
   "outputs": [
    {
     "data": {
      "text/plain": [
       "[<b>Some bold text</b>]"
      ]
     },
     "execution_count": 109,
     "metadata": {},
     "output_type": "execute_result"
    }
   ],
   "source": [
    "bold_text = soup.select('p#paragraph-id b')\n",
    "bold_text"
   ]
  },
  {
   "cell_type": "code",
   "execution_count": 111,
   "id": "c88da1b2-aaf8-4d9c-a8c5-26bfd4e96c88",
   "metadata": {},
   "outputs": [
    {
     "data": {
      "text/plain": [
       "[<p><i>Some italicized text</i></p>,\n",
       " <p id=\"paragraph-id\"><b>Some bold text</b></p>]"
      ]
     },
     "execution_count": 111,
     "metadata": {},
     "output_type": "execute_result"
    }
   ],
   "source": [
    "paragraphs = soup.select(\"body > p\") # direct descendent of body\n",
    "paragraphs"
   ]
  },
  {
   "cell_type": "code",
   "execution_count": 115,
   "id": "b06531a0-933e-46ff-92ab-8687d6cd3d65",
   "metadata": {},
   "outputs": [
    {
     "name": "stdout",
     "output_type": "stream",
     "text": [
      "[<i>Some italicized text</i>]\n",
      "[]\n"
     ]
    }
   ],
   "source": [
    "for paragraph in paragraphs:\n",
    "    print(paragraph.select('i')) # iterate through all i elements in paragraphs var"
   ]
  },
  {
   "cell_type": "code",
   "execution_count": 118,
   "id": "0e02997c-93a2-45e7-88ff-2f67157861e8",
   "metadata": {},
   "outputs": [
    {
     "data": {
      "text/plain": [
       "[<div align=\"middle\">\n",
       " <h1>HTML Webpage</h1>\n",
       " <p>Link to more interesting example: <a href=\"https://keithgalli.github.io/web-scraping/webpage.html\">keithgalli.github.io/web-scraping/webpage.html</a></p>\n",
       " </div>]"
      ]
     },
     "execution_count": 118,
     "metadata": {},
     "output_type": "execute_result"
    }
   ],
   "source": [
    "# Grab element with specific property\n",
    "soup.select('[align=middle]')"
   ]
  }
 ],
 "metadata": {
  "kernelspec": {
   "display_name": "Python 3 (ipykernel)",
   "language": "python",
   "name": "python3"
  },
  "language_info": {
   "codemirror_mode": {
    "name": "ipython",
    "version": 3
   },
   "file_extension": ".py",
   "mimetype": "text/x-python",
   "name": "python",
   "nbconvert_exporter": "python",
   "pygments_lexer": "ipython3",
   "version": "3.11.7"
  }
 },
 "nbformat": 4,
 "nbformat_minor": 5
}

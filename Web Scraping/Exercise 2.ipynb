{
 "cells": [
  {
   "cell_type": "markdown",
   "id": "af38fc3e-fb6a-4c6b-bee8-6818a62a04e5",
   "metadata": {},
   "source": [
    "# Scrape the table from the webpage"
   ]
  },
  {
   "cell_type": "markdown",
   "id": "3201e68c-e60c-4767-aea7-0020f08ff326",
   "metadata": {},
   "source": [
    "## import libraries"
   ]
  },
  {
   "cell_type": "code",
   "execution_count": 4,
   "id": "23e7359e-c9b8-4287-b965-c1c0313e0f15",
   "metadata": {},
   "outputs": [],
   "source": [
    "import requests\n",
    "from bs4 import BeautifulSoup as bs"
   ]
  },
  {
   "cell_type": "code",
   "execution_count": 6,
   "id": "5c87e395-bc81-4a81-97af-dd2e9418e302",
   "metadata": {},
   "outputs": [],
   "source": [
    "# load the webpage\n",
    "r = requests.get('https://keithgalli.github.io/web-scraping/webpage.html')\n",
    "\n",
    "# convert to beautiful soup obj\n",
    "webpage = bs(r.content)"
   ]
  }
 ],
 "metadata": {
  "kernelspec": {
   "display_name": "Python 3 (ipykernel)",
   "language": "python",
   "name": "python3"
  },
  "language_info": {
   "codemirror_mode": {
    "name": "ipython",
    "version": 3
   },
   "file_extension": ".py",
   "mimetype": "text/x-python",
   "name": "python",
   "nbconvert_exporter": "python",
   "pygments_lexer": "ipython3",
   "version": "3.11.7"
  }
 },
 "nbformat": 4,
 "nbformat_minor": 5
}

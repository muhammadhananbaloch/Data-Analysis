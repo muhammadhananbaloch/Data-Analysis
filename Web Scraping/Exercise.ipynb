{
 "cells": [
  {
   "cell_type": "markdown",
   "id": "77437494-8ccf-456b-afc2-4daf1cd08afa",
   "metadata": {},
   "source": [
    "## Load necessary libraries"
   ]
  },
  {
   "cell_type": "code",
   "execution_count": 1,
   "id": "c7cb675b-0146-40dd-8c1a-878cc430861f",
   "metadata": {},
   "outputs": [],
   "source": [
    "import requests\n",
    "from bs4 import BeautifulSoup as bs"
   ]
  },
  {
   "cell_type": "markdown",
   "id": "313bcb3b-622c-44a7-a349-2098ff2dbd6d",
   "metadata": {},
   "source": [
    "## Load exercise page"
   ]
  },
  {
   "cell_type": "code",
   "execution_count": 3,
   "id": "011b58ac-a1f8-4bba-8f62-c93c6cd929de",
   "metadata": {},
   "outputs": [],
   "source": [
    "# load the webpage\n",
    "r = requests.get('https://keithgalli.github.io/web-scraping/webpage.html#footer')\n",
    "\n",
    "# convert to beatiful soup object\n",
    "soup = bs(r.content)"
   ]
  },
  {
   "cell_type": "code",
   "execution_count": null,
   "id": "8db6467a-cafe-47c2-8efb-8cefd2ee6b75",
   "metadata": {},
   "outputs": [],
   "source": []
  }
 ],
 "metadata": {
  "kernelspec": {
   "display_name": "Python 3 (ipykernel)",
   "language": "python",
   "name": "python3"
  },
  "language_info": {
   "codemirror_mode": {
    "name": "ipython",
    "version": 3
   },
   "file_extension": ".py",
   "mimetype": "text/x-python",
   "name": "python",
   "nbconvert_exporter": "python",
   "pygments_lexer": "ipython3",
   "version": "3.11.7"
  }
 },
 "nbformat": 4,
 "nbformat_minor": 5
}

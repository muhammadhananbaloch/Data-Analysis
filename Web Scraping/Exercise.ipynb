{
 "cells": [
  {
   "cell_type": "markdown",
   "id": "77437494-8ccf-456b-afc2-4daf1cd08afa",
   "metadata": {},
   "source": [
    "## Load necessary libraries"
   ]
  },
  {
   "cell_type": "code",
   "execution_count": 1,
   "id": "c7cb675b-0146-40dd-8c1a-878cc430861f",
   "metadata": {},
   "outputs": [],
   "source": [
    "import requests\n",
    "from bs4 import BeautifulSoup as bs"
   ]
  },
  {
   "cell_type": "markdown",
   "id": "313bcb3b-622c-44a7-a349-2098ff2dbd6d",
   "metadata": {},
   "source": [
    "## Load exercise page"
   ]
  },
  {
   "cell_type": "code",
   "execution_count": 10,
   "id": "011b58ac-a1f8-4bba-8f62-c93c6cd929de",
   "metadata": {},
   "outputs": [],
   "source": [
    "# load the webpage\n",
    "r = requests.get('https://keithgalli.github.io/web-scraping/webpage.html')\n",
    "\n",
    "# convert to beatiful soup object\n",
    "webpage = bs(r.content)"
   ]
  },
  {
   "cell_type": "markdown",
   "id": "9bfcb74f-12ac-43a3-96c8-d0bd012f4872",
   "metadata": {},
   "source": [
    "## 1: Grab all of the social links from webpage \n",
    "Do this in atleast 3 different ways"
   ]
  },
  {
   "cell_type": "markdown",
   "id": "1e7aeb5f-7490-442e-b878-62d59d73b66f",
   "metadata": {},
   "source": [
    "### 1st way"
   ]
  },
  {
   "cell_type": "code",
   "execution_count": 24,
   "id": "a3da142b-96c7-4cad-a883-49ff8a515313",
   "metadata": {},
   "outputs": [
    {
     "name": "stdout",
     "output_type": "stream",
     "text": [
      "1: https://www.youtube.com/kgmit\n",
      "2: #footer\n",
      "3: https://www.instagram.com/keithgalli/\n",
      "4: https://twitter.com/keithgalli\n",
      "5: https://www.linkedin.com/in/keithgalli/\n",
      "6: https://www.tiktok.com/@keithgalli\n",
      "7: https://www.eliteprospects.com/team/10263/mit-mass.-inst.-of-tech./2014-2015?tab=stats\n",
      "8: https://www.eliteprospects.com/league/acha-ii/stats/2014-2015\n",
      "9: https://www.eliteprospects.com/league/acha-ii/stats/2014-2015\n",
      "10: https://www.eliteprospects.com/team/10263/mit-mass.-inst.-of-tech./2015-2016?tab=stats\n",
      "11: https://www.eliteprospects.com/league/acha-ii/stats/2015-2016\n",
      "12: https://www.eliteprospects.com/league/acha-ii/stats/2015-2016\n",
      "13: https://www.eliteprospects.com/team/10263/mit-mass.-inst.-of-tech./2016-2017?tab=stats\n",
      "14: https://www.eliteprospects.com/league/acha-ii/stats/2016-2017\n",
      "15: https://www.eliteprospects.com/stats\n",
      "16: https://www.eliteprospects.com/stats\n",
      "17: https://www.eliteprospects.com/team/10263/mit-mass.-inst.-of-tech./2018-2019?tab=stats\n",
      "18: https://www.eliteprospects.com/league/acha-iii/stats/2018-2019\n",
      "19: https://www.eliteprospects.com/league/acha-iii/stats/2018-2019\n",
      "20: challenge/file_1.html\n",
      "21: challenge/file_2.html\n",
      "22: challenge/file_3.html\n",
      "23: challenge/file_4.html\n",
      "24: challenge/file_5.html\n",
      "25: challenge/file_6.html\n",
      "26: challenge/file_7.html\n",
      "27: challenge/file_8.html\n",
      "28: challenge/file_9.html\n",
      "29: challenge/file_10.html\n"
     ]
    }
   ],
   "source": [
    "social_links = webpage.find_all('a')\n",
    "i = 1\n",
    "for links in social_links:\n",
    "    print(f'{i}:', links['href'])\n",
    "    i=i+1"
   ]
  },
  {
   "cell_type": "markdown",
   "id": "09b13d87-aeee-4293-abf5-e3b3ba4fdbd1",
   "metadata": {},
   "source": [
    "### 2nd way"
   ]
  },
  {
   "cell_type": "code",
   "execution_count": 67,
   "id": "dee1630a-8483-47e2-bcf7-b555365727c1",
   "metadata": {},
   "outputs": [],
   "source": [
    "# print(webpage.prettify())"
   ]
  },
  {
   "cell_type": "code",
   "execution_count": 70,
   "id": "b064b9fc-9725-4893-9583-b655ab13bf60",
   "metadata": {},
   "outputs": [
    {
     "data": {
      "text/plain": [
       "28"
      ]
     },
     "execution_count": 70,
     "metadata": {},
     "output_type": "execute_result"
    }
   ],
   "source": [
    "links.index(links[-1])"
   ]
  },
  {
   "cell_type": "code",
   "execution_count": 68,
   "id": "b0e581c3-2482-4eea-8ae9-02c46a414d2d",
   "metadata": {},
   "outputs": [
    {
     "name": "stdout",
     "output_type": "stream",
     "text": [
      "1: https://www.youtube.com/kgmit\n",
      "2: #footer\n",
      "3: https://www.instagram.com/keithgalli/\n",
      "4: https://twitter.com/keithgalli\n",
      "5: https://www.linkedin.com/in/keithgalli/\n",
      "6: https://www.tiktok.com/@keithgalli\n",
      "7: https://www.eliteprospects.com/team/10263/mit-mass.-inst.-of-tech./2014-2015?tab=stats\n",
      "8: https://www.eliteprospects.com/league/acha-ii/stats/2014-2015\n",
      "9: https://www.eliteprospects.com/league/acha-ii/stats/2014-2015\n",
      "10: https://www.eliteprospects.com/team/10263/mit-mass.-inst.-of-tech./2015-2016?tab=stats\n",
      "11: https://www.eliteprospects.com/league/acha-ii/stats/2015-2016\n",
      "12: https://www.eliteprospects.com/league/acha-ii/stats/2015-2016\n",
      "13: https://www.eliteprospects.com/team/10263/mit-mass.-inst.-of-tech./2016-2017?tab=stats\n",
      "14: https://www.eliteprospects.com/league/acha-ii/stats/2016-2017\n",
      "15: https://www.eliteprospects.com/stats\n",
      "16: https://www.eliteprospects.com/stats\n",
      "17: https://www.eliteprospects.com/team/10263/mit-mass.-inst.-of-tech./2018-2019?tab=stats\n",
      "18: https://www.eliteprospects.com/league/acha-iii/stats/2018-2019\n",
      "19: https://www.eliteprospects.com/league/acha-iii/stats/2018-2019\n",
      "20: challenge/file_1.html\n",
      "21: challenge/file_2.html\n",
      "22: challenge/file_3.html\n",
      "23: challenge/file_4.html\n",
      "24: challenge/file_5.html\n",
      "25: challenge/file_6.html\n",
      "26: challenge/file_7.html\n",
      "27: challenge/file_8.html\n",
      "28: challenge/file_9.html\n"
     ]
    }
   ],
   "source": [
    "links = webpage.select('body a')\n",
    "l=0\n",
    "no=1\n",
    "while True:\n",
    "    print(f\"{no}:\",links[l]['href'])\n",
    "    l=l+1\n",
    "    no=no+1\n",
    "    if l==links.index(links[-1]):\n",
    "        break\n"
   ]
  }
 ],
 "metadata": {
  "kernelspec": {
   "display_name": "Python 3 (ipykernel)",
   "language": "python",
   "name": "python3"
  },
  "language_info": {
   "codemirror_mode": {
    "name": "ipython",
    "version": 3
   },
   "file_extension": ".py",
   "mimetype": "text/x-python",
   "name": "python",
   "nbconvert_exporter": "python",
   "pygments_lexer": "ipython3",
   "version": "3.11.7"
  }
 },
 "nbformat": 4,
 "nbformat_minor": 5
}

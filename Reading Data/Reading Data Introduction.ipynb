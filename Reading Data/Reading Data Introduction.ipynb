{
 "cells": [
  {
   "cell_type": "markdown",
   "id": "6163d3c8-7e2b-4a41-b4c1-a076f7490dd5",
   "metadata": {},
   "source": [
    "# Reading CSV and TXT Files\n",
    "Rather than creating `Series` or `DataFrames` strutures from scratch, or even from Python core sequences or `ndarrays`, the most typical use of **pandas** is based on the loading of information from files or sources of information for further exploration, transformation and analysis.\n",
    "\n",
    "In this lecture we'll learn how to read comma-separated values files (.csv) and raw text files (.txt) into pandas `DataFrame`s."
   ]
  },
  {
   "cell_type": "code",
   "execution_count": 1,
   "id": "70854f6d-1028-4945-aaca-1fa4229e7a70",
   "metadata": {},
   "outputs": [],
   "source": [
    "import pandas as pd"
   ]
  },
  {
   "cell_type": "markdown",
   "id": "787b7065-1c41-4552-9d49-c5e11ec5f80d",
   "metadata": {},
   "source": [
    "## Reading data with Python\n",
    "\n",
    "As we saw on previous courses we can read data simply using Python.\n",
    "\n",
    "When you want to work with a file, the first thing to do is to open it. This is done by invoking the `open()` built-in function.\n",
    "\n",
    "`open()` has a single required argument that is the path to the file and has a single return, the file object.\n",
    "\n",
    "The `with` statement automatically takes care of closing the file once it leaves the `with` block, even in cases of error."
   ]
  },
  {
   "cell_type": "code",
   "execution_count": 2,
   "id": "0cc25dce-d5ef-4bae-9097-d245a1989fc1",
   "metadata": {},
   "outputs": [
    {
     "name": "stdout",
     "output_type": "stream",
     "text": [
      "<_io.TextIOWrapper name='btc-market-price.csv' mode='r' encoding='cp1252'>\n"
     ]
    }
   ],
   "source": [
    "with open('btc-market-price.csv', 'r') as fp:\n",
    "    print(fp)"
   ]
  },
  {
   "cell_type": "markdown",
   "id": "95dda428-c72d-43bf-9bef-778f5dafd1d8",
   "metadata": {},
   "source": [
    "Once the file is opened, we can read its content as follows:"
   ]
  },
  {
   "cell_type": "code",
   "execution_count": 3,
   "id": "47572c35-932b-4d46-82e5-00d2f09b2686",
   "metadata": {},
   "outputs": [
    {
     "name": "stdout",
     "output_type": "stream",
     "text": [
      "0 2/4/17 0:00,1099.169125\n",
      "\n",
      "1 3/4/17 0:00,1141.813\n",
      "\n",
      "2 4/4/17 0:00,?\n",
      "\n",
      "3 5/4/17 0:00,1133.079314\n",
      "\n",
      "4 6/4/17 0:00,-\n",
      "\n",
      "5 7/4/17 0:00,-\n",
      "\n",
      "6 8/4/17 0:00,1181.149838\n",
      "\n",
      "7 9/4/17 0:00,1208.8005\n",
      "\n",
      "8 10/4/17 0:00,1207.744875\n",
      "\n",
      "9 11/4/17 0:00,1226.617038\n",
      "\n"
     ]
    }
   ],
   "source": [
    "with open('btc-market-price.csv', 'r') as fp:\n",
    "    for index, line in enumerate(fp.readlines()):\n",
    "        # read just first 10 lines\n",
    "        if (index < 10):\n",
    "            print(index, line)"
   ]
  },
  {
   "cell_type": "markdown",
   "id": "d8832cf5-426d-475d-a3be-c435287534d0",
   "metadata": {},
   "source": [
    "How can we process the data from the file using pure Python? It involves a lot of manual work, for example, splitting the values by the correct separator:"
   ]
  },
  {
   "cell_type": "code",
   "execution_count": 4,
   "id": "c6043bf1-29b9-43ec-8caa-a6b5836a06a5",
   "metadata": {},
   "outputs": [
    {
     "name": "stdout",
     "output_type": "stream",
     "text": [
      "2/4/17 0:00: $1099.169125\n",
      "\n",
      "3/4/17 0:00: $1141.813\n",
      "\n",
      "4/4/17 0:00: $?\n",
      "\n",
      "5/4/17 0:00: $1133.079314\n",
      "\n",
      "6/4/17 0:00: $-\n",
      "\n",
      "7/4/17 0:00: $-\n",
      "\n",
      "8/4/17 0:00: $1181.149838\n",
      "\n",
      "9/4/17 0:00: $1208.8005\n",
      "\n",
      "10/4/17 0:00: $1207.744875\n",
      "\n",
      "11/4/17 0:00: $1226.617038\n",
      "\n"
     ]
    }
   ],
   "source": [
    "with open('btc-market-price.csv', 'r') as fp:\n",
    "    for index, line in enumerate(fp.readlines()):\n",
    "        # read just first 10 lines\n",
    "        if (index < 10):\n",
    "            timestamp, price = line.split(',')\n",
    "            print(f\"{timestamp}: ${price}\")"
   ]
  },
  {
   "cell_type": "markdown",
   "id": "88ff7a94-084d-495d-86c9-bdfa9aedf7bb",
   "metadata": {},
   "source": [
    "But what happens if the separator is unknown, like in the file exam_review.csv:"
   ]
  },
  {
   "cell_type": "code",
   "execution_count": 11,
   "id": "36473608-b765-48de-8b08-82e2986a62fb",
   "metadata": {},
   "outputs": [
    {
     "name": "stderr",
     "output_type": "stream",
     "text": [
      "'head' is not recognized as an internal or external command,\n",
      "operable program or batch file.\n"
     ]
    }
   ],
   "source": [
    "!head exam_review.csv"
   ]
  },
  {
   "cell_type": "code",
   "execution_count": 13,
   "id": "37c89bf7-02f7-42bb-bf33-43de337c0ff1",
   "metadata": {},
   "outputs": [
    {
     "data": {
      "text/html": [
       "<div>\n",
       "<style scoped>\n",
       "    .dataframe tbody tr th:only-of-type {\n",
       "        vertical-align: middle;\n",
       "    }\n",
       "\n",
       "    .dataframe tbody tr th {\n",
       "        vertical-align: top;\n",
       "    }\n",
       "\n",
       "    .dataframe thead th {\n",
       "        text-align: right;\n",
       "    }\n",
       "</style>\n",
       "<table border=\"1\" class=\"dataframe\">\n",
       "  <thead>\n",
       "    <tr style=\"text-align: right;\">\n",
       "      <th></th>\n",
       "      <th></th>\n",
       "      <th>first_name&gt;last_name&gt;age&gt;math_score&gt;french_score</th>\n",
       "    </tr>\n",
       "  </thead>\n",
       "  <tbody>\n",
       "    <tr>\n",
       "      <th>Ray&gt;Morley&gt;18&gt;\"68</th>\n",
       "      <th>000\"&gt;\"75</th>\n",
       "      <td>000\"</td>\n",
       "    </tr>\n",
       "    <tr>\n",
       "      <th>Melvin&gt;Scott&gt;24&gt;77&gt;83</th>\n",
       "      <th>NaN</th>\n",
       "      <td>NaN</td>\n",
       "    </tr>\n",
       "    <tr>\n",
       "      <th>Amirah&gt;Haley&gt;22&gt;92&gt;67</th>\n",
       "      <th>NaN</th>\n",
       "      <td>NaN</td>\n",
       "    </tr>\n",
       "    <tr>\n",
       "      <th>Gerard&gt;Mills&gt;19&gt;\"78</th>\n",
       "      <th>000\"&gt;72</th>\n",
       "      <td>NaN</td>\n",
       "    </tr>\n",
       "    <tr>\n",
       "      <th>Amy&gt;Grimes&gt;23&gt;91&gt;81</th>\n",
       "      <th>NaN</th>\n",
       "      <td>NaN</td>\n",
       "    </tr>\n",
       "  </tbody>\n",
       "</table>\n",
       "</div>"
      ],
      "text/plain": [
       "                               first_name>last_name>age>math_score>french_score\n",
       "Ray>Morley>18>\"68     000\">\"75                                             000\"\n",
       "Melvin>Scott>24>77>83 NaN                                                   NaN\n",
       "Amirah>Haley>22>92>67 NaN                                                   NaN\n",
       "Gerard>Mills>19>\"78   000\">72                                               NaN\n",
       "Amy>Grimes>23>91>81   NaN                                                   NaN"
      ]
     },
     "execution_count": 13,
     "metadata": {},
     "output_type": "execute_result"
    }
   ],
   "source": [
    "pd.read_csv('exam_review.csv').head()"
   ]
  },
  {
   "cell_type": "code",
   "execution_count": null,
   "id": "7ae9044a-dab0-44ff-a97f-4d4da28d2fc6",
   "metadata": {},
   "outputs": [],
   "source": []
  }
 ],
 "metadata": {
  "kernelspec": {
   "display_name": "Python 3 (ipykernel)",
   "language": "python",
   "name": "python3"
  },
  "language_info": {
   "codemirror_mode": {
    "name": "ipython",
    "version": 3
   },
   "file_extension": ".py",
   "mimetype": "text/x-python",
   "name": "python",
   "nbconvert_exporter": "python",
   "pygments_lexer": "ipython3",
   "version": "3.11.7"
  }
 },
 "nbformat": 4,
 "nbformat_minor": 5
}

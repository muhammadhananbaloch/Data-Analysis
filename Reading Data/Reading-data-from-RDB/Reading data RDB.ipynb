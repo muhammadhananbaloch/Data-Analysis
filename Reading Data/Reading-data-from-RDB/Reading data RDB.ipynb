{
 "cells": [
  {
   "cell_type": "markdown",
   "id": "bb40a34c-f0ad-4eb8-bd5f-9a82c8f0522f",
   "metadata": {},
   "source": [
    "![rmotr](https://user-images.githubusercontent.com/7065401/52071918-bda15380-2562-11e9-828c-7f95297e4a82.png)\n",
    "<hr style=\"margin-bottom: 40px;\">\n",
    "\n",
    "<img src=\"https://user-images.githubusercontent.com/7065401/68501079-0695df00-023c-11ea-841f-455dac84a089.jpg\"\n",
    "    style=\"width:400px; float: right; margin: 0 40px 40px 40px;\"></img>\n",
    "\n",
    "# Reading data from relational databases\n",
    "\n",
    "In this lesson you will learn how to read SQL queries and relational database tables into `DataFrame` objects using pandas. Also, we'll take a look at different techniques to persist that pandas `DataFrame` objects to database tables."
   ]
  },
  {
   "cell_type": "code",
   "execution_count": 1,
   "id": "8b196edb-401b-48ec-988d-46e423d52057",
   "metadata": {},
   "outputs": [],
   "source": [
    "import pandas as pd"
   ]
  },
  {
   "cell_type": "markdown",
   "id": "ba013479-b252-490c-ad48-7033e28f6c3d",
   "metadata": {},
   "source": [
    "![green-divider](https://user-images.githubusercontent.com/7065401/52071924-c003ad80-2562-11e9-8297-1c6595f8a7ff.png)\n",
    "\n",
    "## Read data from SQL database\n",
    "\n",
    "Reading data from SQL relational databases is fairly simple and pandas support a variety of methods to deal with it.\n",
    "\n",
    "We'll start with an example using SQLite, as it's a builtin Python package, and we don't need anything extra installed."
   ]
  },
  {
   "cell_type": "code",
   "execution_count": 2,
   "id": "90159552-71bc-4bb8-970e-8c7be845270d",
   "metadata": {},
   "outputs": [],
   "source": [
    "import sqlite3"
   ]
  },
  {
   "cell_type": "markdown",
   "id": "b9d67054-6057-45b7-b2e0-eb0bb60b4d15",
   "metadata": {},
   "source": [
    "In order to work with a SQLite database from Python, we first have to connect to it. We can do that using the connect function, which returns a `Connection` object.\n",
    "\n",
    "We'll use [this example database](http://www.sqlitetutorial.net/sqlite-sample-database/)."
   ]
  },
  {
   "cell_type": "code",
   "execution_count": 3,
   "id": "f598c715-e5eb-43b2-a003-f5620e533528",
   "metadata": {},
   "outputs": [],
   "source": [
    "conn = sqlite3.connect('chinook.db')"
   ]
  },
  {
   "cell_type": "markdown",
   "id": "4c8e3b3d-4ed4-41df-bf12-07819b12a7c1",
   "metadata": {},
   "source": [
    "Once we have a `Connection` object, we can then create a `Cursor` object. Cursors allow us to execute SQL queries against a database:"
   ]
  },
  {
   "cell_type": "code",
   "execution_count": 4,
   "id": "042e9710-48e1-4972-8673-57586ab39fc2",
   "metadata": {},
   "outputs": [],
   "source": [
    "cur = conn.cursor()"
   ]
  },
  {
   "cell_type": "markdown",
   "id": "3669a3b7-9ea2-4a3c-8e5e-298895049c9a",
   "metadata": {},
   "source": [
    "The `Cursor` created has a method `execute`, which will receive SQL parameters to run against the database.\n",
    "\n",
    "The code below will fetch the first `5` rows from the `employees` table:"
   ]
  },
  {
   "cell_type": "code",
   "execution_count": 5,
   "id": "1f20a29d-9106-460b-a6d1-9055ebcc38b5",
   "metadata": {},
   "outputs": [
    {
     "data": {
      "text/plain": [
       "<sqlite3.Cursor at 0x256d44035c0>"
      ]
     },
     "execution_count": 5,
     "metadata": {},
     "output_type": "execute_result"
    }
   ],
   "source": [
    "cur.execute('SELECT * FROM employees LIMIT 5;')"
   ]
  },
  {
   "cell_type": "markdown",
   "id": "1c4e5c92-a115-4339-850b-d6a7da62f257",
   "metadata": {},
   "source": [
    "You may have noticed that we didn't assign the result of the above query to a variable. This is because we need to run another command to actually fetch the results.\n",
    "\n",
    "We can use the `fetchall` method to fetch all of the results of a query:"
   ]
  },
  {
   "cell_type": "code",
   "execution_count": 6,
   "id": "6b73c974-1685-4786-b16e-b6873735cf41",
   "metadata": {},
   "outputs": [],
   "source": [
    "results = cur.fetchall()"
   ]
  },
  {
   "cell_type": "code",
   "execution_count": 7,
   "id": "b55f52b7-ac25-4b68-b86d-9e6c98441140",
   "metadata": {},
   "outputs": [
    {
     "data": {
      "text/plain": [
       "[(1,\n",
       "  'Adams',\n",
       "  'Andrew',\n",
       "  'General Manager',\n",
       "  None,\n",
       "  '1962-02-18 00:00:00',\n",
       "  '2002-08-14 00:00:00',\n",
       "  '11120 Jasper Ave NW',\n",
       "  'Edmonton',\n",
       "  'AB',\n",
       "  'Canada',\n",
       "  'T5K 2N1',\n",
       "  '+1 (780) 428-9482',\n",
       "  '+1 (780) 428-3457',\n",
       "  'andrew@chinookcorp.com'),\n",
       " (2,\n",
       "  'Edwards',\n",
       "  'Nancy',\n",
       "  'Sales Manager',\n",
       "  1,\n",
       "  '1958-12-08 00:00:00',\n",
       "  '2002-05-01 00:00:00',\n",
       "  '825 8 Ave SW',\n",
       "  'Calgary',\n",
       "  'AB',\n",
       "  'Canada',\n",
       "  'T2P 2T3',\n",
       "  '+1 (403) 262-3443',\n",
       "  '+1 (403) 262-3322',\n",
       "  'nancy@chinookcorp.com'),\n",
       " (3,\n",
       "  'Peacock',\n",
       "  'Jane',\n",
       "  'Sales Support Agent',\n",
       "  2,\n",
       "  '1973-08-29 00:00:00',\n",
       "  '2002-04-01 00:00:00',\n",
       "  '1111 6 Ave SW',\n",
       "  'Calgary',\n",
       "  'AB',\n",
       "  'Canada',\n",
       "  'T2P 5M5',\n",
       "  '+1 (403) 262-3443',\n",
       "  '+1 (403) 262-6712',\n",
       "  'jane@chinookcorp.com'),\n",
       " (4,\n",
       "  'Park',\n",
       "  'Margaret',\n",
       "  'Sales Support Agent',\n",
       "  2,\n",
       "  '1947-09-19 00:00:00',\n",
       "  '2003-05-03 00:00:00',\n",
       "  '683 10 Street SW',\n",
       "  'Calgary',\n",
       "  'AB',\n",
       "  'Canada',\n",
       "  'T2P 5G3',\n",
       "  '+1 (403) 263-4423',\n",
       "  '+1 (403) 263-4289',\n",
       "  'margaret@chinookcorp.com'),\n",
       " (5,\n",
       "  'Johnson',\n",
       "  'Steve',\n",
       "  'Sales Support Agent',\n",
       "  2,\n",
       "  '1965-03-03 00:00:00',\n",
       "  '2003-10-17 00:00:00',\n",
       "  '7727B 41 Ave',\n",
       "  'Calgary',\n",
       "  'AB',\n",
       "  'Canada',\n",
       "  'T3B 1Y7',\n",
       "  '1 (780) 836-9987',\n",
       "  '1 (780) 836-9543',\n",
       "  'steve@chinookcorp.com')]"
      ]
     },
     "execution_count": 7,
     "metadata": {},
     "output_type": "execute_result"
    }
   ],
   "source": [
    "results"
   ]
  },
  {
   "cell_type": "markdown",
   "id": "06e7535a-6fb2-419c-9350-423e6cf7321d",
   "metadata": {},
   "source": [
    "As you can see, the results are returned as a list of tuples. Each tuple corresponds to a row in the database that we accessed. Dealing with data this way is painful.\n",
    "\n",
    "We'd need to manually add column headers, and manually parse the data. Luckily, the pandas library has an easier way, which we'll look at in the next section."
   ]
  },
  {
   "cell_type": "code",
   "execution_count": 8,
   "id": "88cc9d44-3a61-485f-958c-ded8294312ba",
   "metadata": {},
   "outputs": [],
   "source": [
    "df = pd.DataFrame(results)"
   ]
  },
  {
   "cell_type": "code",
   "execution_count": 9,
   "id": "b45b124d-406e-448d-a52b-5d6b2afefad8",
   "metadata": {},
   "outputs": [
    {
     "data": {
      "text/html": [
       "<div>\n",
       "<style scoped>\n",
       "    .dataframe tbody tr th:only-of-type {\n",
       "        vertical-align: middle;\n",
       "    }\n",
       "\n",
       "    .dataframe tbody tr th {\n",
       "        vertical-align: top;\n",
       "    }\n",
       "\n",
       "    .dataframe thead th {\n",
       "        text-align: right;\n",
       "    }\n",
       "</style>\n",
       "<table border=\"1\" class=\"dataframe\">\n",
       "  <thead>\n",
       "    <tr style=\"text-align: right;\">\n",
       "      <th></th>\n",
       "      <th>0</th>\n",
       "      <th>1</th>\n",
       "      <th>2</th>\n",
       "      <th>3</th>\n",
       "      <th>4</th>\n",
       "      <th>5</th>\n",
       "      <th>6</th>\n",
       "      <th>7</th>\n",
       "      <th>8</th>\n",
       "      <th>9</th>\n",
       "      <th>10</th>\n",
       "      <th>11</th>\n",
       "      <th>12</th>\n",
       "      <th>13</th>\n",
       "      <th>14</th>\n",
       "    </tr>\n",
       "  </thead>\n",
       "  <tbody>\n",
       "    <tr>\n",
       "      <th>0</th>\n",
       "      <td>1</td>\n",
       "      <td>Adams</td>\n",
       "      <td>Andrew</td>\n",
       "      <td>General Manager</td>\n",
       "      <td>NaN</td>\n",
       "      <td>1962-02-18 00:00:00</td>\n",
       "      <td>2002-08-14 00:00:00</td>\n",
       "      <td>11120 Jasper Ave NW</td>\n",
       "      <td>Edmonton</td>\n",
       "      <td>AB</td>\n",
       "      <td>Canada</td>\n",
       "      <td>T5K 2N1</td>\n",
       "      <td>+1 (780) 428-9482</td>\n",
       "      <td>+1 (780) 428-3457</td>\n",
       "      <td>andrew@chinookcorp.com</td>\n",
       "    </tr>\n",
       "    <tr>\n",
       "      <th>1</th>\n",
       "      <td>2</td>\n",
       "      <td>Edwards</td>\n",
       "      <td>Nancy</td>\n",
       "      <td>Sales Manager</td>\n",
       "      <td>1.0</td>\n",
       "      <td>1958-12-08 00:00:00</td>\n",
       "      <td>2002-05-01 00:00:00</td>\n",
       "      <td>825 8 Ave SW</td>\n",
       "      <td>Calgary</td>\n",
       "      <td>AB</td>\n",
       "      <td>Canada</td>\n",
       "      <td>T2P 2T3</td>\n",
       "      <td>+1 (403) 262-3443</td>\n",
       "      <td>+1 (403) 262-3322</td>\n",
       "      <td>nancy@chinookcorp.com</td>\n",
       "    </tr>\n",
       "    <tr>\n",
       "      <th>2</th>\n",
       "      <td>3</td>\n",
       "      <td>Peacock</td>\n",
       "      <td>Jane</td>\n",
       "      <td>Sales Support Agent</td>\n",
       "      <td>2.0</td>\n",
       "      <td>1973-08-29 00:00:00</td>\n",
       "      <td>2002-04-01 00:00:00</td>\n",
       "      <td>1111 6 Ave SW</td>\n",
       "      <td>Calgary</td>\n",
       "      <td>AB</td>\n",
       "      <td>Canada</td>\n",
       "      <td>T2P 5M5</td>\n",
       "      <td>+1 (403) 262-3443</td>\n",
       "      <td>+1 (403) 262-6712</td>\n",
       "      <td>jane@chinookcorp.com</td>\n",
       "    </tr>\n",
       "    <tr>\n",
       "      <th>3</th>\n",
       "      <td>4</td>\n",
       "      <td>Park</td>\n",
       "      <td>Margaret</td>\n",
       "      <td>Sales Support Agent</td>\n",
       "      <td>2.0</td>\n",
       "      <td>1947-09-19 00:00:00</td>\n",
       "      <td>2003-05-03 00:00:00</td>\n",
       "      <td>683 10 Street SW</td>\n",
       "      <td>Calgary</td>\n",
       "      <td>AB</td>\n",
       "      <td>Canada</td>\n",
       "      <td>T2P 5G3</td>\n",
       "      <td>+1 (403) 263-4423</td>\n",
       "      <td>+1 (403) 263-4289</td>\n",
       "      <td>margaret@chinookcorp.com</td>\n",
       "    </tr>\n",
       "    <tr>\n",
       "      <th>4</th>\n",
       "      <td>5</td>\n",
       "      <td>Johnson</td>\n",
       "      <td>Steve</td>\n",
       "      <td>Sales Support Agent</td>\n",
       "      <td>2.0</td>\n",
       "      <td>1965-03-03 00:00:00</td>\n",
       "      <td>2003-10-17 00:00:00</td>\n",
       "      <td>7727B 41 Ave</td>\n",
       "      <td>Calgary</td>\n",
       "      <td>AB</td>\n",
       "      <td>Canada</td>\n",
       "      <td>T3B 1Y7</td>\n",
       "      <td>1 (780) 836-9987</td>\n",
       "      <td>1 (780) 836-9543</td>\n",
       "      <td>steve@chinookcorp.com</td>\n",
       "    </tr>\n",
       "  </tbody>\n",
       "</table>\n",
       "</div>"
      ],
      "text/plain": [
       "   0        1         2                    3    4                    5   \\\n",
       "0   1    Adams    Andrew      General Manager  NaN  1962-02-18 00:00:00   \n",
       "1   2  Edwards     Nancy        Sales Manager  1.0  1958-12-08 00:00:00   \n",
       "2   3  Peacock      Jane  Sales Support Agent  2.0  1973-08-29 00:00:00   \n",
       "3   4     Park  Margaret  Sales Support Agent  2.0  1947-09-19 00:00:00   \n",
       "4   5  Johnson     Steve  Sales Support Agent  2.0  1965-03-03 00:00:00   \n",
       "\n",
       "                    6                    7         8   9       10       11  \\\n",
       "0  2002-08-14 00:00:00  11120 Jasper Ave NW  Edmonton  AB  Canada  T5K 2N1   \n",
       "1  2002-05-01 00:00:00         825 8 Ave SW   Calgary  AB  Canada  T2P 2T3   \n",
       "2  2002-04-01 00:00:00        1111 6 Ave SW   Calgary  AB  Canada  T2P 5M5   \n",
       "3  2003-05-03 00:00:00     683 10 Street SW   Calgary  AB  Canada  T2P 5G3   \n",
       "4  2003-10-17 00:00:00         7727B 41 Ave   Calgary  AB  Canada  T3B 1Y7   \n",
       "\n",
       "                  12                 13                        14  \n",
       "0  +1 (780) 428-9482  +1 (780) 428-3457    andrew@chinookcorp.com  \n",
       "1  +1 (403) 262-3443  +1 (403) 262-3322     nancy@chinookcorp.com  \n",
       "2  +1 (403) 262-3443  +1 (403) 262-6712      jane@chinookcorp.com  \n",
       "3  +1 (403) 263-4423  +1 (403) 263-4289  margaret@chinookcorp.com  \n",
       "4   1 (780) 836-9987   1 (780) 836-9543     steve@chinookcorp.com  "
      ]
     },
     "execution_count": 9,
     "metadata": {},
     "output_type": "execute_result"
    }
   ],
   "source": [
    "df"
   ]
  },
  {
   "cell_type": "markdown",
   "id": "7f26af4e-592d-4085-90f1-834e8d80bd3b",
   "metadata": {},
   "source": [
    "Before we move on, it's good practice to close `Connection` objects and `Cursor` objects that are open. This prevents the SQLite database from being locked. When a SQLite database is locked, you may be unable to update the database, and may get errors. We can close the Cursor and the Connection like this:"
   ]
  },
  {
   "cell_type": "code",
   "execution_count": 10,
   "id": "fb8a6f2e-f46e-4afa-9f0d-502bf459a4f8",
   "metadata": {},
   "outputs": [],
   "source": [
    "cur.close()"
   ]
  },
  {
   "cell_type": "code",
   "execution_count": 11,
   "id": "0595a4d2-8507-4847-8c01-7bc15b5af94a",
   "metadata": {},
   "outputs": [],
   "source": [
    "conn.close()"
   ]
  }
 ],
 "metadata": {
  "kernelspec": {
   "display_name": "Python 3 (ipykernel)",
   "language": "python",
   "name": "python3"
  },
  "language_info": {
   "codemirror_mode": {
    "name": "ipython",
    "version": 3
   },
   "file_extension": ".py",
   "mimetype": "text/x-python",
   "name": "python",
   "nbconvert_exporter": "python",
   "pygments_lexer": "ipython3",
   "version": "3.11.7"
  }
 },
 "nbformat": 4,
 "nbformat_minor": 5
}

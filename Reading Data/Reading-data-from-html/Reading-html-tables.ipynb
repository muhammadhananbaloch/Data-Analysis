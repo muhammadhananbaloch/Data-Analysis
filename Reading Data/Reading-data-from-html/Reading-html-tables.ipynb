{
 "cells": [
  {
   "cell_type": "markdown",
   "id": "8cc6775c-aa6b-4581-8d43-2be1a915a5cf",
   "metadata": {},
   "source": [
    "![rmotr](https://user-images.githubusercontent.com/7065401/52071918-bda15380-2562-11e9-828c-7f95297e4a82.png)\n",
    "<hr style=\"margin-bottom: 40px;\">\n",
    "\n",
    "<img src=\"https://user-images.githubusercontent.com/7065401/68501079-0695df00-023c-11ea-841f-455dac84a089.jpg\"\n",
    "    style=\"width:400px; float: right; margin: 0 40px 40px 40px;\"></img>\n",
    "\n",
    "# Reading HTML tables\n",
    "\n",
    "In this lecture we'll learn how to read and parse HTML tables from websites into a list of `DataFrame` objects to work with."
   ]
  },
  {
   "cell_type": "code",
   "execution_count": 4,
   "id": "2ccf0775-616d-4a7e-8c9c-862244863ab7",
   "metadata": {},
   "outputs": [],
   "source": [
    "import pandas as pd"
   ]
  },
  {
   "cell_type": "markdown",
   "id": "cea1a6a7-5f0a-4fca-a56d-5c379fdcf310",
   "metadata": {},
   "source": [
    "![green-divider](https://user-images.githubusercontent.com/7065401/52071924-c003ad80-2562-11e9-8297-1c6595f8a7ff.png)\n",
    "\n",
    "## Parsing raw HTML strings\n",
    "\n",
    "Another useful pandas method is `read_html()`. This method will read HTML tables from a given URL, a file-like object, or a raw string containing HTML, and return a list of `DataFrame` objects.\n",
    "\n",
    "Let's try to read the following `html_string` into a `DataFrame`."
   ]
  },
  {
   "cell_type": "code",
   "execution_count": 5,
   "id": "9460f303-d740-403f-a096-978ee4fb05fd",
   "metadata": {},
   "outputs": [],
   "source": [
    "html_string = \"\"\"\n",
    "<table>\n",
    "    <thead>\n",
    "      <tr>\n",
    "        <th>Order date</th>\n",
    "        <th>Region</th> \n",
    "        <th>Item</th>\n",
    "        <th>Units</th>\n",
    "        <th>Unit cost</th>\n",
    "      </tr>\n",
    "    </thead>\n",
    "    <tbody>\n",
    "      <tr>\n",
    "        <td>1/6/2018</td>\n",
    "        <td>East</td> \n",
    "        <td>Pencil</td>\n",
    "        <td>95</td>\n",
    "        <td>1.99</td>\n",
    "      </tr>\n",
    "      <tr>\n",
    "        <td>1/23/2018</td>\n",
    "        <td>Central</td> \n",
    "        <td>Binder</td>\n",
    "        <td>50</td>\n",
    "        <td>19.99</td>\n",
    "      </tr>\n",
    "      <tr>\n",
    "        <td>2/9/2018</td>\n",
    "        <td>Central</td> \n",
    "        <td>Pencil</td>\n",
    "        <td>36</td>\n",
    "        <td>4.99</td>\n",
    "      </tr>\n",
    "      <tr>\n",
    "        <td>3/15/2018</td>\n",
    "        <td>West</td> \n",
    "        <td>Pen</td>\n",
    "        <td>27</td>\n",
    "        <td>19.99</td>\n",
    "      </tr>\n",
    "    </tbody>\n",
    "</table>\n",
    "\"\"\""
   ]
  },
  {
   "cell_type": "code",
   "execution_count": 6,
   "id": "9a16a372-b9af-4b14-a679-dfe4b57a839a",
   "metadata": {},
   "outputs": [
    {
     "name": "stderr",
     "output_type": "stream",
     "text": [
      "C:\\Users\\HP\\AppData\\Local\\Temp\\ipykernel_3196\\149234223.py:1: DeprecationWarning: Importing display from IPython.core.display is deprecated since IPython 7.14, please import from IPython display\n",
      "  from IPython.core.display import display, HTML\n"
     ]
    },
    {
     "data": {
      "text/html": [
       "\n",
       "<table>\n",
       "    <thead>\n",
       "      <tr>\n",
       "        <th>Order date</th>\n",
       "        <th>Region</th> \n",
       "        <th>Item</th>\n",
       "        <th>Units</th>\n",
       "        <th>Unit cost</th>\n",
       "      </tr>\n",
       "    </thead>\n",
       "    <tbody>\n",
       "      <tr>\n",
       "        <td>1/6/2018</td>\n",
       "        <td>East</td> \n",
       "        <td>Pencil</td>\n",
       "        <td>95</td>\n",
       "        <td>1.99</td>\n",
       "      </tr>\n",
       "      <tr>\n",
       "        <td>1/23/2018</td>\n",
       "        <td>Central</td> \n",
       "        <td>Binder</td>\n",
       "        <td>50</td>\n",
       "        <td>19.99</td>\n",
       "      </tr>\n",
       "      <tr>\n",
       "        <td>2/9/2018</td>\n",
       "        <td>Central</td> \n",
       "        <td>Pencil</td>\n",
       "        <td>36</td>\n",
       "        <td>4.99</td>\n",
       "      </tr>\n",
       "      <tr>\n",
       "        <td>3/15/2018</td>\n",
       "        <td>West</td> \n",
       "        <td>Pen</td>\n",
       "        <td>27</td>\n",
       "        <td>19.99</td>\n",
       "      </tr>\n",
       "    </tbody>\n",
       "</table>\n"
      ],
      "text/plain": [
       "<IPython.core.display.HTML object>"
      ]
     },
     "metadata": {},
     "output_type": "display_data"
    }
   ],
   "source": [
    "from IPython.core.display import display, HTML\n",
    "display(HTML(html_string))"
   ]
  },
  {
   "cell_type": "code",
   "execution_count": 7,
   "id": "7fbce503-df36-4c4b-a021-debf1e2044e9",
   "metadata": {},
   "outputs": [
    {
     "name": "stderr",
     "output_type": "stream",
     "text": [
      "C:\\Users\\HP\\AppData\\Local\\Temp\\ipykernel_3196\\2234146965.py:1: FutureWarning: Passing literal html to 'read_html' is deprecated and will be removed in a future version. To read from a literal string, wrap it in a 'StringIO' object.\n",
      "  dfs = pd.read_html(html_string)\n"
     ]
    }
   ],
   "source": [
    "dfs = pd.read_html(html_string)"
   ]
  },
  {
   "cell_type": "markdown",
   "id": "e8f90e7f-cbde-4921-8453-3e41d1536698",
   "metadata": {},
   "source": [
    "The `read_html` just returned one `DataFrame` object:"
   ]
  },
  {
   "cell_type": "code",
   "execution_count": 8,
   "id": "7fd9a204-8f5c-4827-a085-4a734db70942",
   "metadata": {},
   "outputs": [
    {
     "data": {
      "text/plain": [
       "1"
      ]
     },
     "execution_count": 8,
     "metadata": {},
     "output_type": "execute_result"
    }
   ],
   "source": [
    "len(dfs)"
   ]
  },
  {
   "cell_type": "code",
   "execution_count": 9,
   "id": "675321b6-afc8-4dab-a50e-fddad4705364",
   "metadata": {},
   "outputs": [
    {
     "data": {
      "text/html": [
       "<div>\n",
       "<style scoped>\n",
       "    .dataframe tbody tr th:only-of-type {\n",
       "        vertical-align: middle;\n",
       "    }\n",
       "\n",
       "    .dataframe tbody tr th {\n",
       "        vertical-align: top;\n",
       "    }\n",
       "\n",
       "    .dataframe thead th {\n",
       "        text-align: right;\n",
       "    }\n",
       "</style>\n",
       "<table border=\"1\" class=\"dataframe\">\n",
       "  <thead>\n",
       "    <tr style=\"text-align: right;\">\n",
       "      <th></th>\n",
       "      <th>Order date</th>\n",
       "      <th>Region</th>\n",
       "      <th>Item</th>\n",
       "      <th>Units</th>\n",
       "      <th>Unit cost</th>\n",
       "    </tr>\n",
       "  </thead>\n",
       "  <tbody>\n",
       "    <tr>\n",
       "      <th>0</th>\n",
       "      <td>1/6/2018</td>\n",
       "      <td>East</td>\n",
       "      <td>Pencil</td>\n",
       "      <td>95</td>\n",
       "      <td>1.99</td>\n",
       "    </tr>\n",
       "    <tr>\n",
       "      <th>1</th>\n",
       "      <td>1/23/2018</td>\n",
       "      <td>Central</td>\n",
       "      <td>Binder</td>\n",
       "      <td>50</td>\n",
       "      <td>19.99</td>\n",
       "    </tr>\n",
       "    <tr>\n",
       "      <th>2</th>\n",
       "      <td>2/9/2018</td>\n",
       "      <td>Central</td>\n",
       "      <td>Pencil</td>\n",
       "      <td>36</td>\n",
       "      <td>4.99</td>\n",
       "    </tr>\n",
       "    <tr>\n",
       "      <th>3</th>\n",
       "      <td>3/15/2018</td>\n",
       "      <td>West</td>\n",
       "      <td>Pen</td>\n",
       "      <td>27</td>\n",
       "      <td>19.99</td>\n",
       "    </tr>\n",
       "  </tbody>\n",
       "</table>\n",
       "</div>"
      ],
      "text/plain": [
       "  Order date   Region    Item  Units  Unit cost\n",
       "0   1/6/2018     East  Pencil     95       1.99\n",
       "1  1/23/2018  Central  Binder     50      19.99\n",
       "2   2/9/2018  Central  Pencil     36       4.99\n",
       "3  3/15/2018     West     Pen     27      19.99"
      ]
     },
     "execution_count": 9,
     "metadata": {},
     "output_type": "execute_result"
    }
   ],
   "source": [
    "df = dfs[0]\n",
    "\n",
    "df"
   ]
  },
  {
   "cell_type": "markdown",
   "id": "61cf43d2-76e1-4f22-ac9b-d72d7fa43004",
   "metadata": {},
   "source": [
    "Previous `DataFrame` looks quite similar to the raw HTML table, but now we have a `DataFrame` object, so we can apply any pandas operation we want to it."
   ]
  },
  {
   "cell_type": "code",
   "execution_count": 10,
   "id": "6e9039d2-7230-4dc4-99b7-b2c427e3db6c",
   "metadata": {},
   "outputs": [
    {
     "data": {
      "text/html": [
       "<div>\n",
       "<style scoped>\n",
       "    .dataframe tbody tr th:only-of-type {\n",
       "        vertical-align: middle;\n",
       "    }\n",
       "\n",
       "    .dataframe tbody tr th {\n",
       "        vertical-align: top;\n",
       "    }\n",
       "\n",
       "    .dataframe thead th {\n",
       "        text-align: right;\n",
       "    }\n",
       "</style>\n",
       "<table border=\"1\" class=\"dataframe\">\n",
       "  <thead>\n",
       "    <tr style=\"text-align: right;\">\n",
       "      <th></th>\n",
       "      <th>Order date</th>\n",
       "      <th>Region</th>\n",
       "      <th>Item</th>\n",
       "      <th>Units</th>\n",
       "      <th>Unit cost</th>\n",
       "    </tr>\n",
       "  </thead>\n",
       "  <tbody>\n",
       "    <tr>\n",
       "      <th>1</th>\n",
       "      <td>1/23/2018</td>\n",
       "      <td>Central</td>\n",
       "      <td>Binder</td>\n",
       "      <td>50</td>\n",
       "      <td>19.99</td>\n",
       "    </tr>\n",
       "    <tr>\n",
       "      <th>2</th>\n",
       "      <td>2/9/2018</td>\n",
       "      <td>Central</td>\n",
       "      <td>Pencil</td>\n",
       "      <td>36</td>\n",
       "      <td>4.99</td>\n",
       "    </tr>\n",
       "  </tbody>\n",
       "</table>\n",
       "</div>"
      ],
      "text/plain": [
       "  Order date   Region    Item  Units  Unit cost\n",
       "1  1/23/2018  Central  Binder     50      19.99\n",
       "2   2/9/2018  Central  Pencil     36       4.99"
      ]
     },
     "execution_count": 10,
     "metadata": {},
     "output_type": "execute_result"
    }
   ],
   "source": [
    "df.loc[df['Region'] == 'Central' ]"
   ]
  },
  {
   "cell_type": "code",
   "execution_count": 11,
   "id": "4b74402e-3092-4a4f-8fcf-1934ef4a262c",
   "metadata": {},
   "outputs": [
    {
     "data": {
      "text/html": [
       "<div>\n",
       "<style scoped>\n",
       "    .dataframe tbody tr th:only-of-type {\n",
       "        vertical-align: middle;\n",
       "    }\n",
       "\n",
       "    .dataframe tbody tr th {\n",
       "        vertical-align: top;\n",
       "    }\n",
       "\n",
       "    .dataframe thead th {\n",
       "        text-align: right;\n",
       "    }\n",
       "</style>\n",
       "<table border=\"1\" class=\"dataframe\">\n",
       "  <thead>\n",
       "    <tr style=\"text-align: right;\">\n",
       "      <th></th>\n",
       "      <th>Order date</th>\n",
       "      <th>Region</th>\n",
       "      <th>Item</th>\n",
       "      <th>Units</th>\n",
       "      <th>Unit cost</th>\n",
       "    </tr>\n",
       "  </thead>\n",
       "  <tbody>\n",
       "    <tr>\n",
       "      <th>0</th>\n",
       "      <td>1/6/2018</td>\n",
       "      <td>East</td>\n",
       "      <td>Pencil</td>\n",
       "      <td>95</td>\n",
       "      <td>1.99</td>\n",
       "    </tr>\n",
       "    <tr>\n",
       "      <th>1</th>\n",
       "      <td>1/23/2018</td>\n",
       "      <td>Central</td>\n",
       "      <td>Binder</td>\n",
       "      <td>50</td>\n",
       "      <td>19.99</td>\n",
       "    </tr>\n",
       "    <tr>\n",
       "      <th>2</th>\n",
       "      <td>2/9/2018</td>\n",
       "      <td>Central</td>\n",
       "      <td>Pencil</td>\n",
       "      <td>36</td>\n",
       "      <td>4.99</td>\n",
       "    </tr>\n",
       "  </tbody>\n",
       "</table>\n",
       "</div>"
      ],
      "text/plain": [
       "  Order date   Region    Item  Units  Unit cost\n",
       "0   1/6/2018     East  Pencil     95       1.99\n",
       "1  1/23/2018  Central  Binder     50      19.99\n",
       "2   2/9/2018  Central  Pencil     36       4.99"
      ]
     },
     "execution_count": 11,
     "metadata": {},
     "output_type": "execute_result"
    }
   ],
   "source": [
    "df.loc[df['Units'] > 35]"
   ]
  },
  {
   "cell_type": "markdown",
   "id": "1c8d508c-adfe-4886-aa26-ee68a5c49e93",
   "metadata": {},
   "source": [
    "### Defining header\n",
    "\n",
    "Pandas will automatically find the header to use thanks to the <thead> tag.\n",
    "    \n",
    "But in many cases we'll find wrong or incomplete tables that make the `read_html` method parse the tables in a wrong way without the proper headers.\n",
    "\n",
    "To fix them we can use the `header` parameter."
   ]
  },
  {
   "cell_type": "code",
   "execution_count": 12,
   "id": "19becb69-094d-48e1-86d7-8e40d334e766",
   "metadata": {},
   "outputs": [],
   "source": [
    "html_string = \"\"\"\n",
    "<table>\n",
    "  <tr>\n",
    "    <td>Order date</td>\n",
    "    <td>Region</td> \n",
    "    <td>Item</td>\n",
    "    <td>Units</td>\n",
    "    <td>Unit cost</td>\n",
    "  </tr>\n",
    "  <tr>\n",
    "    <td>1/6/2018</td>\n",
    "    <td>East</td> \n",
    "    <td>Pencil</td>\n",
    "    <td>95</td>\n",
    "    <td>1.99</td>\n",
    "  </tr>\n",
    "  <tr>\n",
    "    <td>1/23/2018</td>\n",
    "    <td>Central</td> \n",
    "    <td>Binder</td>\n",
    "    <td>50</td>\n",
    "    <td>19.99</td>\n",
    "  </tr>\n",
    "  <tr>\n",
    "    <td>2/9/2018</td>\n",
    "    <td>Central</td> \n",
    "    <td>Pencil</td>\n",
    "    <td>36</td>\n",
    "    <td>4.99</td>\n",
    "  </tr>\n",
    "  <tr>\n",
    "    <td>3/15/2018</td>\n",
    "    <td>West</td> \n",
    "    <td>Pen</td>\n",
    "    <td>27</td>\n",
    "    <td>19.99</td>\n",
    "  </tr>\n",
    "</table>\n",
    "\"\"\""
   ]
  },
  {
   "cell_type": "code",
   "execution_count": 13,
   "id": "02e2772f-f077-4c44-b005-a3394b0982bf",
   "metadata": {},
   "outputs": [
    {
     "data": {
      "text/plain": [
       "[0]"
      ]
     },
     "execution_count": 13,
     "metadata": {},
     "output_type": "execute_result"
    }
   ],
   "source": [
    "[0]"
   ]
  },
  {
   "cell_type": "markdown",
   "id": "9ff551b8-3e6e-472d-801e-3ae9fa2f929c",
   "metadata": {},
   "source": [
    "In this case, we'll need to pass the row number to use as header using the `header` parameter."
   ]
  },
  {
   "cell_type": "code",
   "execution_count": 14,
   "id": "22654875-24f5-43ee-9b36-ac018399756d",
   "metadata": {},
   "outputs": [
    {
     "name": "stderr",
     "output_type": "stream",
     "text": [
      "C:\\Users\\HP\\AppData\\Local\\Temp\\ipykernel_3196\\3156000096.py:1: FutureWarning: Passing literal html to 'read_html' is deprecated and will be removed in a future version. To read from a literal string, wrap it in a 'StringIO' object.\n",
      "  pd.read_html(html_string, header=0)[0]\n"
     ]
    },
    {
     "data": {
      "text/html": [
       "<div>\n",
       "<style scoped>\n",
       "    .dataframe tbody tr th:only-of-type {\n",
       "        vertical-align: middle;\n",
       "    }\n",
       "\n",
       "    .dataframe tbody tr th {\n",
       "        vertical-align: top;\n",
       "    }\n",
       "\n",
       "    .dataframe thead th {\n",
       "        text-align: right;\n",
       "    }\n",
       "</style>\n",
       "<table border=\"1\" class=\"dataframe\">\n",
       "  <thead>\n",
       "    <tr style=\"text-align: right;\">\n",
       "      <th></th>\n",
       "      <th>Order date</th>\n",
       "      <th>Region</th>\n",
       "      <th>Item</th>\n",
       "      <th>Units</th>\n",
       "      <th>Unit cost</th>\n",
       "    </tr>\n",
       "  </thead>\n",
       "  <tbody>\n",
       "    <tr>\n",
       "      <th>0</th>\n",
       "      <td>1/6/2018</td>\n",
       "      <td>East</td>\n",
       "      <td>Pencil</td>\n",
       "      <td>95</td>\n",
       "      <td>1.99</td>\n",
       "    </tr>\n",
       "    <tr>\n",
       "      <th>1</th>\n",
       "      <td>1/23/2018</td>\n",
       "      <td>Central</td>\n",
       "      <td>Binder</td>\n",
       "      <td>50</td>\n",
       "      <td>19.99</td>\n",
       "    </tr>\n",
       "    <tr>\n",
       "      <th>2</th>\n",
       "      <td>2/9/2018</td>\n",
       "      <td>Central</td>\n",
       "      <td>Pencil</td>\n",
       "      <td>36</td>\n",
       "      <td>4.99</td>\n",
       "    </tr>\n",
       "    <tr>\n",
       "      <th>3</th>\n",
       "      <td>3/15/2018</td>\n",
       "      <td>West</td>\n",
       "      <td>Pen</td>\n",
       "      <td>27</td>\n",
       "      <td>19.99</td>\n",
       "    </tr>\n",
       "  </tbody>\n",
       "</table>\n",
       "</div>"
      ],
      "text/plain": [
       "  Order date   Region    Item  Units  Unit cost\n",
       "0   1/6/2018     East  Pencil     95       1.99\n",
       "1  1/23/2018  Central  Binder     50      19.99\n",
       "2   2/9/2018  Central  Pencil     36       4.99\n",
       "3  3/15/2018     West     Pen     27      19.99"
      ]
     },
     "execution_count": 14,
     "metadata": {},
     "output_type": "execute_result"
    }
   ],
   "source": [
    "pd.read_html(html_string, header=0)[0]"
   ]
  },
  {
   "cell_type": "markdown",
   "id": "bb11ae25-c7ed-4bce-a43b-f378638ee680",
   "metadata": {},
   "source": [
    "![green-divider](https://user-images.githubusercontent.com/7065401/52071924-c003ad80-2562-11e9-8297-1c6595f8a7ff.png)\n",
    "\n",
    "## Parsing HTML tables from the web\n",
    "\n",
    "Now that we know how `read_html` works, go one step beyond and try to parse HTML tables directly from an URL.\n",
    "\n",
    "To do that we'll call the `read_html` method with an URL as paramter."
   ]
  },
  {
   "cell_type": "markdown",
   "id": "fb578941-b443-4e33-ade3-b955dd844110",
   "metadata": {},
   "source": [
    "### Simple example"
   ]
  },
  {
   "cell_type": "code",
   "execution_count": 15,
   "id": "01d4205f-a985-48ca-a935-9ddad1357a4b",
   "metadata": {},
   "outputs": [],
   "source": [
    "html_url = \"https://www.basketball-reference.com/leagues/NBA_2019_per_game.html\""
   ]
  },
  {
   "cell_type": "code",
   "execution_count": 16,
   "id": "146d5675-9c84-4056-9051-f51a23acf996",
   "metadata": {},
   "outputs": [],
   "source": [
    "nba_tables = pd.read_html(html_url)"
   ]
  },
  {
   "cell_type": "code",
   "execution_count": 17,
   "id": "3d443366-058a-4317-965d-043397843af8",
   "metadata": {},
   "outputs": [
    {
     "data": {
      "text/plain": [
       "1"
      ]
     },
     "execution_count": 17,
     "metadata": {},
     "output_type": "execute_result"
    }
   ],
   "source": [
    "len(nba_tables)"
   ]
  },
  {
   "cell_type": "code",
   "execution_count": 18,
   "id": "0fe89d47-f19b-4ea8-b1fd-d56052420352",
   "metadata": {},
   "outputs": [],
   "source": [
    "nba = nba_tables[0]"
   ]
  },
  {
   "cell_type": "code",
   "execution_count": 19,
   "id": "76c2c785-12d3-45d6-b962-29103ce5f212",
   "metadata": {},
   "outputs": [
    {
     "data": {
      "text/html": [
       "<div>\n",
       "<style scoped>\n",
       "    .dataframe tbody tr th:only-of-type {\n",
       "        vertical-align: middle;\n",
       "    }\n",
       "\n",
       "    .dataframe tbody tr th {\n",
       "        vertical-align: top;\n",
       "    }\n",
       "\n",
       "    .dataframe thead th {\n",
       "        text-align: right;\n",
       "    }\n",
       "</style>\n",
       "<table border=\"1\" class=\"dataframe\">\n",
       "  <thead>\n",
       "    <tr style=\"text-align: right;\">\n",
       "      <th></th>\n",
       "      <th>Rk</th>\n",
       "      <th>Player</th>\n",
       "      <th>Pos</th>\n",
       "      <th>Age</th>\n",
       "      <th>Tm</th>\n",
       "      <th>G</th>\n",
       "      <th>GS</th>\n",
       "      <th>MP</th>\n",
       "      <th>FG</th>\n",
       "      <th>FGA</th>\n",
       "      <th>...</th>\n",
       "      <th>FT%</th>\n",
       "      <th>ORB</th>\n",
       "      <th>DRB</th>\n",
       "      <th>TRB</th>\n",
       "      <th>AST</th>\n",
       "      <th>STL</th>\n",
       "      <th>BLK</th>\n",
       "      <th>TOV</th>\n",
       "      <th>PF</th>\n",
       "      <th>PTS</th>\n",
       "    </tr>\n",
       "  </thead>\n",
       "  <tbody>\n",
       "    <tr>\n",
       "      <th>0</th>\n",
       "      <td>1</td>\n",
       "      <td>Álex Abrines</td>\n",
       "      <td>SG</td>\n",
       "      <td>25</td>\n",
       "      <td>OKC</td>\n",
       "      <td>31</td>\n",
       "      <td>2</td>\n",
       "      <td>19.0</td>\n",
       "      <td>1.8</td>\n",
       "      <td>5.1</td>\n",
       "      <td>...</td>\n",
       "      <td>.923</td>\n",
       "      <td>0.2</td>\n",
       "      <td>1.4</td>\n",
       "      <td>1.5</td>\n",
       "      <td>0.6</td>\n",
       "      <td>0.5</td>\n",
       "      <td>0.2</td>\n",
       "      <td>0.5</td>\n",
       "      <td>1.7</td>\n",
       "      <td>5.3</td>\n",
       "    </tr>\n",
       "    <tr>\n",
       "      <th>1</th>\n",
       "      <td>2</td>\n",
       "      <td>Quincy Acy</td>\n",
       "      <td>PF</td>\n",
       "      <td>28</td>\n",
       "      <td>PHO</td>\n",
       "      <td>10</td>\n",
       "      <td>0</td>\n",
       "      <td>12.3</td>\n",
       "      <td>0.4</td>\n",
       "      <td>1.8</td>\n",
       "      <td>...</td>\n",
       "      <td>.700</td>\n",
       "      <td>0.3</td>\n",
       "      <td>2.2</td>\n",
       "      <td>2.5</td>\n",
       "      <td>0.8</td>\n",
       "      <td>0.1</td>\n",
       "      <td>0.4</td>\n",
       "      <td>0.4</td>\n",
       "      <td>2.4</td>\n",
       "      <td>1.7</td>\n",
       "    </tr>\n",
       "    <tr>\n",
       "      <th>2</th>\n",
       "      <td>3</td>\n",
       "      <td>Jaylen Adams</td>\n",
       "      <td>PG</td>\n",
       "      <td>22</td>\n",
       "      <td>ATL</td>\n",
       "      <td>34</td>\n",
       "      <td>1</td>\n",
       "      <td>12.6</td>\n",
       "      <td>1.1</td>\n",
       "      <td>3.2</td>\n",
       "      <td>...</td>\n",
       "      <td>.778</td>\n",
       "      <td>0.3</td>\n",
       "      <td>1.4</td>\n",
       "      <td>1.8</td>\n",
       "      <td>1.9</td>\n",
       "      <td>0.4</td>\n",
       "      <td>0.1</td>\n",
       "      <td>0.8</td>\n",
       "      <td>1.3</td>\n",
       "      <td>3.2</td>\n",
       "    </tr>\n",
       "    <tr>\n",
       "      <th>3</th>\n",
       "      <td>4</td>\n",
       "      <td>Steven Adams</td>\n",
       "      <td>C</td>\n",
       "      <td>25</td>\n",
       "      <td>OKC</td>\n",
       "      <td>80</td>\n",
       "      <td>80</td>\n",
       "      <td>33.4</td>\n",
       "      <td>6.0</td>\n",
       "      <td>10.1</td>\n",
       "      <td>...</td>\n",
       "      <td>.500</td>\n",
       "      <td>4.9</td>\n",
       "      <td>4.6</td>\n",
       "      <td>9.5</td>\n",
       "      <td>1.6</td>\n",
       "      <td>1.5</td>\n",
       "      <td>1.0</td>\n",
       "      <td>1.7</td>\n",
       "      <td>2.6</td>\n",
       "      <td>13.9</td>\n",
       "    </tr>\n",
       "    <tr>\n",
       "      <th>4</th>\n",
       "      <td>5</td>\n",
       "      <td>Bam Adebayo</td>\n",
       "      <td>C</td>\n",
       "      <td>21</td>\n",
       "      <td>MIA</td>\n",
       "      <td>82</td>\n",
       "      <td>28</td>\n",
       "      <td>23.3</td>\n",
       "      <td>3.4</td>\n",
       "      <td>5.9</td>\n",
       "      <td>...</td>\n",
       "      <td>.735</td>\n",
       "      <td>2.0</td>\n",
       "      <td>5.3</td>\n",
       "      <td>7.3</td>\n",
       "      <td>2.2</td>\n",
       "      <td>0.9</td>\n",
       "      <td>0.8</td>\n",
       "      <td>1.5</td>\n",
       "      <td>2.5</td>\n",
       "      <td>8.9</td>\n",
       "    </tr>\n",
       "  </tbody>\n",
       "</table>\n",
       "<p>5 rows × 30 columns</p>\n",
       "</div>"
      ],
      "text/plain": [
       "  Rk        Player Pos Age   Tm   G  GS    MP   FG   FGA  ...   FT%  ORB  DRB  \\\n",
       "0  1  Álex Abrines  SG  25  OKC  31   2  19.0  1.8   5.1  ...  .923  0.2  1.4   \n",
       "1  2    Quincy Acy  PF  28  PHO  10   0  12.3  0.4   1.8  ...  .700  0.3  2.2   \n",
       "2  3  Jaylen Adams  PG  22  ATL  34   1  12.6  1.1   3.2  ...  .778  0.3  1.4   \n",
       "3  4  Steven Adams   C  25  OKC  80  80  33.4  6.0  10.1  ...  .500  4.9  4.6   \n",
       "4  5   Bam Adebayo   C  21  MIA  82  28  23.3  3.4   5.9  ...  .735  2.0  5.3   \n",
       "\n",
       "   TRB  AST  STL  BLK  TOV   PF   PTS  \n",
       "0  1.5  0.6  0.5  0.2  0.5  1.7   5.3  \n",
       "1  2.5  0.8  0.1  0.4  0.4  2.4   1.7  \n",
       "2  1.8  1.9  0.4  0.1  0.8  1.3   3.2  \n",
       "3  9.5  1.6  1.5  1.0  1.7  2.6  13.9  \n",
       "4  7.3  2.2  0.9  0.8  1.5  2.5   8.9  \n",
       "\n",
       "[5 rows x 30 columns]"
      ]
     },
     "execution_count": 19,
     "metadata": {},
     "output_type": "execute_result"
    }
   ],
   "source": [
    "nba.head()"
   ]
  },
  {
   "cell_type": "markdown",
   "id": "b8cc7556-418c-4f4c-b8a5-e28f7178745f",
   "metadata": {},
   "source": [
    "### Complex example\n",
    "\n",
    "We can also use the `requests` module to get HTML code from an URL to parse it into `DataFrame` objects.\n",
    "\n",
    "If we look at the given URL we can see multiple tables about The Simpsons TV show.\n",
    "\n",
    "We want to keep the table with information about each season."
   ]
  },
  {
   "cell_type": "code",
   "execution_count": 36,
   "id": "21ed0ed9-a834-48af-ab2b-45a73014efa3",
   "metadata": {},
   "outputs": [],
   "source": [
    "import requests\n",
    "\n",
    "html_url = \"https://en.wikipedia.org/wiki/The_Simpsons\""
   ]
  },
  {
   "cell_type": "code",
   "execution_count": 37,
   "id": "4335e2b1-8fe4-4c18-9b88-92bdc9c83e8d",
   "metadata": {},
   "outputs": [
    {
     "name": "stderr",
     "output_type": "stream",
     "text": [
      "C:\\Users\\HP\\AppData\\Local\\Temp\\ipykernel_3196\\1363786754.py:3: FutureWarning: Passing literal html to 'read_html' is deprecated and will be removed in a future version. To read from a literal string, wrap it in a 'StringIO' object.\n",
      "  wiki_tables = pd.read_html(r.text, header=0)\n"
     ]
    }
   ],
   "source": [
    "r = requests.get(html_url)\n",
    "\n",
    "wiki_tables = pd.read_html(r.text, header=0)"
   ]
  },
  {
   "cell_type": "code",
   "execution_count": 38,
   "id": "da2d5a98-1a28-49d5-990b-e3fd15cca1cd",
   "metadata": {},
   "outputs": [
    {
     "data": {
      "text/plain": [
       "48"
      ]
     },
     "execution_count": 38,
     "metadata": {},
     "output_type": "execute_result"
    }
   ],
   "source": [
    "len(wiki_tables)"
   ]
  },
  {
   "cell_type": "code",
   "execution_count": 39,
   "id": "5e4d9b7e-eb1f-4b82-8062-a2efdc829542",
   "metadata": {},
   "outputs": [],
   "source": [
    "simpsons = wiki_tables[2]"
   ]
  },
  {
   "cell_type": "code",
   "execution_count": 40,
   "id": "1e98deb9-b155-48d1-a870-18bed27ffe45",
   "metadata": {},
   "outputs": [
    {
     "data": {
      "text/html": [
       "<div>\n",
       "<style scoped>\n",
       "    .dataframe tbody tr th:only-of-type {\n",
       "        vertical-align: middle;\n",
       "    }\n",
       "\n",
       "    .dataframe tbody tr th {\n",
       "        vertical-align: top;\n",
       "    }\n",
       "\n",
       "    .dataframe thead th {\n",
       "        text-align: right;\n",
       "    }\n",
       "</style>\n",
       "<table border=\"1\" class=\"dataframe\">\n",
       "  <thead>\n",
       "    <tr style=\"text-align: right;\">\n",
       "      <th></th>\n",
       "      <th>Season</th>\n",
       "      <th>Season.1</th>\n",
       "      <th>No. of episodes</th>\n",
       "      <th>Originally aired</th>\n",
       "      <th>Originally aired.1</th>\n",
       "      <th>Originally aired.2</th>\n",
       "      <th>Viewership</th>\n",
       "      <th>Viewership.1</th>\n",
       "      <th>Viewership.2</th>\n",
       "    </tr>\n",
       "  </thead>\n",
       "  <tbody>\n",
       "    <tr>\n",
       "      <th>0</th>\n",
       "      <td>Season</td>\n",
       "      <td>Season</td>\n",
       "      <td>No. of episodes</td>\n",
       "      <td>Season premiere</td>\n",
       "      <td>Season finale</td>\n",
       "      <td>Time slot (ET)</td>\n",
       "      <td>Avg. viewers (in millions)</td>\n",
       "      <td>Most watched episode</td>\n",
       "      <td>Most watched episode</td>\n",
       "    </tr>\n",
       "    <tr>\n",
       "      <th>1</th>\n",
       "      <td>Season</td>\n",
       "      <td>Season</td>\n",
       "      <td>No. of episodes</td>\n",
       "      <td>Season premiere</td>\n",
       "      <td>Season finale</td>\n",
       "      <td>Time slot (ET)</td>\n",
       "      <td>Avg. viewers (in millions)</td>\n",
       "      <td>Viewers (millions)</td>\n",
       "      <td>Episode title</td>\n",
       "    </tr>\n",
       "    <tr>\n",
       "      <th>2</th>\n",
       "      <td>1</td>\n",
       "      <td>1989–90</td>\n",
       "      <td>13</td>\n",
       "      <td>December 17, 1989</td>\n",
       "      <td>May 13, 1990</td>\n",
       "      <td>Sunday 8:30 pm</td>\n",
       "      <td>27.8</td>\n",
       "      <td>33.5[168]</td>\n",
       "      <td>\"Life on the Fast Lane\"</td>\n",
       "    </tr>\n",
       "    <tr>\n",
       "      <th>3</th>\n",
       "      <td>2</td>\n",
       "      <td>1990–91</td>\n",
       "      <td>22</td>\n",
       "      <td>October 11, 1990</td>\n",
       "      <td>July 11, 1991</td>\n",
       "      <td>Thursday 8:00 pm</td>\n",
       "      <td>24.4</td>\n",
       "      <td>33.6[169]</td>\n",
       "      <td>\"Bart Gets an 'F'\"</td>\n",
       "    </tr>\n",
       "    <tr>\n",
       "      <th>4</th>\n",
       "      <td>3</td>\n",
       "      <td>1991–92</td>\n",
       "      <td>24</td>\n",
       "      <td>September 19, 1991</td>\n",
       "      <td>August 27, 1992</td>\n",
       "      <td>Thursday 8:00 pm</td>\n",
       "      <td>21.8</td>\n",
       "      <td>25.5[170]</td>\n",
       "      <td>\"Colonel Homer\"</td>\n",
       "    </tr>\n",
       "  </tbody>\n",
       "</table>\n",
       "</div>"
      ],
      "text/plain": [
       "   Season Season.1  No. of episodes    Originally aired Originally aired.1  \\\n",
       "0  Season   Season  No. of episodes     Season premiere      Season finale   \n",
       "1  Season   Season  No. of episodes     Season premiere      Season finale   \n",
       "2       1  1989–90               13   December 17, 1989       May 13, 1990   \n",
       "3       2  1990–91               22    October 11, 1990      July 11, 1991   \n",
       "4       3  1991–92               24  September 19, 1991    August 27, 1992   \n",
       "\n",
       "  Originally aired.2                  Viewership          Viewership.1  \\\n",
       "0     Time slot (ET)  Avg. viewers (in millions)  Most watched episode   \n",
       "1     Time slot (ET)  Avg. viewers (in millions)    Viewers (millions)   \n",
       "2     Sunday 8:30 pm                        27.8             33.5[168]   \n",
       "3   Thursday 8:00 pm                        24.4             33.6[169]   \n",
       "4   Thursday 8:00 pm                        21.8             25.5[170]   \n",
       "\n",
       "              Viewership.2  \n",
       "0     Most watched episode  \n",
       "1            Episode title  \n",
       "2  \"Life on the Fast Lane\"  \n",
       "3       \"Bart Gets an 'F'\"  \n",
       "4          \"Colonel Homer\"  "
      ]
     },
     "execution_count": 40,
     "metadata": {},
     "output_type": "execute_result"
    }
   ],
   "source": [
    "simpsons.head()"
   ]
  },
  {
   "cell_type": "markdown",
   "id": "d24bb402-7776-4e31-8283-1e841c2198b7",
   "metadata": {},
   "source": [
    "Quick clean on the table: remove extra header rows and set `Season` as index."
   ]
  },
  {
   "cell_type": "code",
   "execution_count": 41,
   "id": "257b1043-e5d0-493e-88f6-b724d05d4925",
   "metadata": {},
   "outputs": [],
   "source": [
    "simpsons.drop([0,1], inplace=True)"
   ]
  },
  {
   "cell_type": "code",
   "execution_count": 43,
   "id": "2b761938-9816-4d7f-9e39-a8fdedd12abb",
   "metadata": {},
   "outputs": [],
   "source": [
    "simpsons.set_index('Season', inplace=True)"
   ]
  },
  {
   "cell_type": "markdown",
   "id": "fdd2c422-c47a-4425-ba53-e77ec637cc7d",
   "metadata": {},
   "source": [
    "Which season has the lowest number of episodes?"
   ]
  },
  {
   "cell_type": "code",
   "execution_count": 44,
   "id": "2d0ff081-4c7f-4a98-b550-d0ecba75154b",
   "metadata": {},
   "outputs": [
    {
     "data": {
      "text/plain": [
       "array(['13', '22', '24', '25', '23', '21', '20', '18', 'TBA'],\n",
       "      dtype=object)"
      ]
     },
     "execution_count": 44,
     "metadata": {},
     "output_type": "execute_result"
    }
   ],
   "source": [
    "simpsons['No. of episodes'].unique()"
   ]
  },
  {
   "cell_type": "code",
   "execution_count": 45,
   "id": "5d095861-5e6f-41b2-9a5c-4ee38874ac74",
   "metadata": {},
   "outputs": [],
   "source": [
    "simpsons = simpsons.loc[simpsons['No. of episodes'] != 'TBA']"
   ]
  },
  {
   "cell_type": "code",
   "execution_count": 47,
   "id": "af84b642-9da2-4581-92c9-53db9e5e36ee",
   "metadata": {},
   "outputs": [
    {
     "data": {
      "text/plain": [
       "'13'"
      ]
     },
     "execution_count": 47,
     "metadata": {},
     "output_type": "execute_result"
    }
   ],
   "source": [
    "min_season = simpsons['No. of episodes'].min()\n",
    "\n",
    "min_season"
   ]
  },
  {
   "cell_type": "code",
   "execution_count": 53,
   "id": "3d0d421f-a74c-4671-be2a-1db349e6ef52",
   "metadata": {},
   "outputs": [
    {
     "data": {
      "text/html": [
       "<div>\n",
       "<style scoped>\n",
       "    .dataframe tbody tr th:only-of-type {\n",
       "        vertical-align: middle;\n",
       "    }\n",
       "\n",
       "    .dataframe tbody tr th {\n",
       "        vertical-align: top;\n",
       "    }\n",
       "\n",
       "    .dataframe thead th {\n",
       "        text-align: right;\n",
       "    }\n",
       "</style>\n",
       "<table border=\"1\" class=\"dataframe\">\n",
       "  <thead>\n",
       "    <tr style=\"text-align: right;\">\n",
       "      <th></th>\n",
       "      <th>Season.1</th>\n",
       "      <th>No. of episodes</th>\n",
       "      <th>Originally aired</th>\n",
       "      <th>Originally aired.1</th>\n",
       "      <th>Originally aired.2</th>\n",
       "      <th>Viewership</th>\n",
       "      <th>Viewership.1</th>\n",
       "      <th>Viewership.2</th>\n",
       "    </tr>\n",
       "    <tr>\n",
       "      <th>Season</th>\n",
       "      <th></th>\n",
       "      <th></th>\n",
       "      <th></th>\n",
       "      <th></th>\n",
       "      <th></th>\n",
       "      <th></th>\n",
       "      <th></th>\n",
       "      <th></th>\n",
       "    </tr>\n",
       "  </thead>\n",
       "  <tbody>\n",
       "    <tr>\n",
       "      <th>1</th>\n",
       "      <td>1989–90</td>\n",
       "      <td>13</td>\n",
       "      <td>December 17, 1989</td>\n",
       "      <td>May 13, 1990</td>\n",
       "      <td>Sunday 8:30 pm</td>\n",
       "      <td>27.8</td>\n",
       "      <td>33.5[168]</td>\n",
       "      <td>\"Life on the Fast Lane\"</td>\n",
       "    </tr>\n",
       "  </tbody>\n",
       "</table>\n",
       "</div>"
      ],
      "text/plain": [
       "       Season.1 No. of episodes   Originally aired Originally aired.1  \\\n",
       "Season                                                                  \n",
       "1       1989–90              13  December 17, 1989       May 13, 1990   \n",
       "\n",
       "       Originally aired.2 Viewership Viewership.1             Viewership.2  \n",
       "Season                                                                      \n",
       "1          Sunday 8:30 pm       27.8    33.5[168]  \"Life on the Fast Lane\"  "
      ]
     },
     "execution_count": 53,
     "metadata": {},
     "output_type": "execute_result"
    }
   ],
   "source": [
    "simpsons.loc[simpsons['No. of episodes'] == min_season]"
   ]
  },
  {
   "cell_type": "markdown",
   "id": "508d7d4f-53f8-485d-ac43-4c102a9f270e",
   "metadata": {},
   "source": [
    "![green-divider](https://user-images.githubusercontent.com/7065401/52071924-c003ad80-2562-11e9-8297-1c6595f8a7ff.png)\n",
    "\n",
    "## Save to CSV file\n",
    "\n",
    "Finally save the `DataFrame` to a CSV file as we saw on previous lectures."
   ]
  },
  {
   "cell_type": "code",
   "execution_count": 55,
   "id": "b59a1636-ed0b-46c6-b580-44cf4ce6aaf1",
   "metadata": {},
   "outputs": [
    {
     "data": {
      "text/html": [
       "<div>\n",
       "<style scoped>\n",
       "    .dataframe tbody tr th:only-of-type {\n",
       "        vertical-align: middle;\n",
       "    }\n",
       "\n",
       "    .dataframe tbody tr th {\n",
       "        vertical-align: top;\n",
       "    }\n",
       "\n",
       "    .dataframe thead th {\n",
       "        text-align: right;\n",
       "    }\n",
       "</style>\n",
       "<table border=\"1\" class=\"dataframe\">\n",
       "  <thead>\n",
       "    <tr style=\"text-align: right;\">\n",
       "      <th></th>\n",
       "      <th>Season.1</th>\n",
       "      <th>No. of episodes</th>\n",
       "      <th>Originally aired</th>\n",
       "      <th>Originally aired.1</th>\n",
       "      <th>Originally aired.2</th>\n",
       "      <th>Viewership</th>\n",
       "      <th>Viewership.1</th>\n",
       "      <th>Viewership.2</th>\n",
       "    </tr>\n",
       "    <tr>\n",
       "      <th>Season</th>\n",
       "      <th></th>\n",
       "      <th></th>\n",
       "      <th></th>\n",
       "      <th></th>\n",
       "      <th></th>\n",
       "      <th></th>\n",
       "      <th></th>\n",
       "      <th></th>\n",
       "    </tr>\n",
       "  </thead>\n",
       "  <tbody>\n",
       "    <tr>\n",
       "      <th>1</th>\n",
       "      <td>1989–90</td>\n",
       "      <td>13</td>\n",
       "      <td>December 17, 1989</td>\n",
       "      <td>May 13, 1990</td>\n",
       "      <td>Sunday 8:30 pm</td>\n",
       "      <td>27.8</td>\n",
       "      <td>33.5[168]</td>\n",
       "      <td>\"Life on the Fast Lane\"</td>\n",
       "    </tr>\n",
       "    <tr>\n",
       "      <th>2</th>\n",
       "      <td>1990–91</td>\n",
       "      <td>22</td>\n",
       "      <td>October 11, 1990</td>\n",
       "      <td>July 11, 1991</td>\n",
       "      <td>Thursday 8:00 pm</td>\n",
       "      <td>24.4</td>\n",
       "      <td>33.6[169]</td>\n",
       "      <td>\"Bart Gets an 'F'\"</td>\n",
       "    </tr>\n",
       "    <tr>\n",
       "      <th>3</th>\n",
       "      <td>1991–92</td>\n",
       "      <td>24</td>\n",
       "      <td>September 19, 1991</td>\n",
       "      <td>August 27, 1992</td>\n",
       "      <td>Thursday 8:00 pm</td>\n",
       "      <td>21.8</td>\n",
       "      <td>25.5[170]</td>\n",
       "      <td>\"Colonel Homer\"</td>\n",
       "    </tr>\n",
       "    <tr>\n",
       "      <th>4</th>\n",
       "      <td>1992–93</td>\n",
       "      <td>22</td>\n",
       "      <td>September 24, 1992</td>\n",
       "      <td>May 13, 1993</td>\n",
       "      <td>Thursday 8:00 pm</td>\n",
       "      <td>22.4</td>\n",
       "      <td>28.6[171]</td>\n",
       "      <td>\"Lisa's First Word\"</td>\n",
       "    </tr>\n",
       "    <tr>\n",
       "      <th>5</th>\n",
       "      <td>1993–94</td>\n",
       "      <td>22</td>\n",
       "      <td>September 30, 1993</td>\n",
       "      <td>May 19, 1994</td>\n",
       "      <td>Thursday 8:00 pm</td>\n",
       "      <td>18.9</td>\n",
       "      <td>24.0[172]</td>\n",
       "      <td>\"Treehouse of Horror IV\"</td>\n",
       "    </tr>\n",
       "  </tbody>\n",
       "</table>\n",
       "</div>"
      ],
      "text/plain": [
       "       Season.1 No. of episodes    Originally aired Originally aired.1  \\\n",
       "Season                                                                   \n",
       "1       1989–90              13   December 17, 1989       May 13, 1990   \n",
       "2       1990–91              22    October 11, 1990      July 11, 1991   \n",
       "3       1991–92              24  September 19, 1991    August 27, 1992   \n",
       "4       1992–93              22  September 24, 1992       May 13, 1993   \n",
       "5       1993–94              22  September 30, 1993       May 19, 1994   \n",
       "\n",
       "       Originally aired.2 Viewership Viewership.1              Viewership.2  \n",
       "Season                                                                       \n",
       "1          Sunday 8:30 pm       27.8    33.5[168]   \"Life on the Fast Lane\"  \n",
       "2        Thursday 8:00 pm       24.4    33.6[169]        \"Bart Gets an 'F'\"  \n",
       "3        Thursday 8:00 pm       21.8    25.5[170]           \"Colonel Homer\"  \n",
       "4        Thursday 8:00 pm       22.4    28.6[171]       \"Lisa's First Word\"  \n",
       "5        Thursday 8:00 pm       18.9    24.0[172]  \"Treehouse of Horror IV\"  "
      ]
     },
     "execution_count": 55,
     "metadata": {},
     "output_type": "execute_result"
    }
   ],
   "source": [
    "simpsons.head()"
   ]
  },
  {
   "cell_type": "code",
   "execution_count": 56,
   "id": "92d35592-d81d-4f09-bae6-97fbd68b83a4",
   "metadata": {},
   "outputs": [],
   "source": [
    "simpsons.to_csv('out.csv')"
   ]
  },
  {
   "cell_type": "code",
   "execution_count": 58,
   "id": "b972444e-f498-4571-ab67-f8704cd723c9",
   "metadata": {},
   "outputs": [
    {
     "data": {
      "text/html": [
       "<div>\n",
       "<style scoped>\n",
       "    .dataframe tbody tr th:only-of-type {\n",
       "        vertical-align: middle;\n",
       "    }\n",
       "\n",
       "    .dataframe tbody tr th {\n",
       "        vertical-align: top;\n",
       "    }\n",
       "\n",
       "    .dataframe thead th {\n",
       "        text-align: right;\n",
       "    }\n",
       "</style>\n",
       "<table border=\"1\" class=\"dataframe\">\n",
       "  <thead>\n",
       "    <tr style=\"text-align: right;\">\n",
       "      <th></th>\n",
       "      <th>Season.1</th>\n",
       "      <th>No. of episodes</th>\n",
       "      <th>Originally aired</th>\n",
       "      <th>Originally aired.1</th>\n",
       "      <th>Originally aired.2</th>\n",
       "      <th>Viewership</th>\n",
       "      <th>Viewership.1</th>\n",
       "      <th>Viewership.2</th>\n",
       "    </tr>\n",
       "    <tr>\n",
       "      <th>Season</th>\n",
       "      <th></th>\n",
       "      <th></th>\n",
       "      <th></th>\n",
       "      <th></th>\n",
       "      <th></th>\n",
       "      <th></th>\n",
       "      <th></th>\n",
       "      <th></th>\n",
       "    </tr>\n",
       "  </thead>\n",
       "  <tbody>\n",
       "    <tr>\n",
       "      <th>1</th>\n",
       "      <td>1989–90</td>\n",
       "      <td>13</td>\n",
       "      <td>December 17, 1989</td>\n",
       "      <td>May 13, 1990</td>\n",
       "      <td>Sunday 8:30 pm</td>\n",
       "      <td>27.8</td>\n",
       "      <td>33.5[168]</td>\n",
       "      <td>\"Life on the Fast Lane\"</td>\n",
       "    </tr>\n",
       "    <tr>\n",
       "      <th>2</th>\n",
       "      <td>1990–91</td>\n",
       "      <td>22</td>\n",
       "      <td>October 11, 1990</td>\n",
       "      <td>July 11, 1991</td>\n",
       "      <td>Thursday 8:00 pm</td>\n",
       "      <td>24.4</td>\n",
       "      <td>33.6[169]</td>\n",
       "      <td>\"Bart Gets an 'F'\"</td>\n",
       "    </tr>\n",
       "    <tr>\n",
       "      <th>3</th>\n",
       "      <td>1991–92</td>\n",
       "      <td>24</td>\n",
       "      <td>September 19, 1991</td>\n",
       "      <td>August 27, 1992</td>\n",
       "      <td>Thursday 8:00 pm</td>\n",
       "      <td>21.8</td>\n",
       "      <td>25.5[170]</td>\n",
       "      <td>\"Colonel Homer\"</td>\n",
       "    </tr>\n",
       "    <tr>\n",
       "      <th>4</th>\n",
       "      <td>1992–93</td>\n",
       "      <td>22</td>\n",
       "      <td>September 24, 1992</td>\n",
       "      <td>May 13, 1993</td>\n",
       "      <td>Thursday 8:00 pm</td>\n",
       "      <td>22.4</td>\n",
       "      <td>28.6[171]</td>\n",
       "      <td>\"Lisa's First Word\"</td>\n",
       "    </tr>\n",
       "    <tr>\n",
       "      <th>5</th>\n",
       "      <td>1993–94</td>\n",
       "      <td>22</td>\n",
       "      <td>September 30, 1993</td>\n",
       "      <td>May 19, 1994</td>\n",
       "      <td>Thursday 8:00 pm</td>\n",
       "      <td>18.9</td>\n",
       "      <td>24.0[172]</td>\n",
       "      <td>\"Treehouse of Horror IV\"</td>\n",
       "    </tr>\n",
       "  </tbody>\n",
       "</table>\n",
       "</div>"
      ],
      "text/plain": [
       "       Season.1  No. of episodes    Originally aired Originally aired.1  \\\n",
       "Season                                                                    \n",
       "1       1989–90               13   December 17, 1989       May 13, 1990   \n",
       "2       1990–91               22    October 11, 1990      July 11, 1991   \n",
       "3       1991–92               24  September 19, 1991    August 27, 1992   \n",
       "4       1992–93               22  September 24, 1992       May 13, 1993   \n",
       "5       1993–94               22  September 30, 1993       May 19, 1994   \n",
       "\n",
       "       Originally aired.2 Viewership Viewership.1              Viewership.2  \n",
       "Season                                                                       \n",
       "1          Sunday 8:30 pm       27.8    33.5[168]   \"Life on the Fast Lane\"  \n",
       "2        Thursday 8:00 pm       24.4    33.6[169]        \"Bart Gets an 'F'\"  \n",
       "3        Thursday 8:00 pm       21.8    25.5[170]           \"Colonel Homer\"  \n",
       "4        Thursday 8:00 pm       22.4    28.6[171]       \"Lisa's First Word\"  \n",
       "5        Thursday 8:00 pm       18.9    24.0[172]  \"Treehouse of Horror IV\"  "
      ]
     },
     "execution_count": 58,
     "metadata": {},
     "output_type": "execute_result"
    }
   ],
   "source": [
    "pd.read_csv('out.csv', index_col='Season').head()"
   ]
  },
  {
   "cell_type": "code",
   "execution_count": null,
   "id": "6716cd3c-3211-426c-8216-3ee4dd1b9313",
   "metadata": {},
   "outputs": [],
   "source": []
  }
 ],
 "metadata": {
  "kernelspec": {
   "display_name": "Python 3 (ipykernel)",
   "language": "python",
   "name": "python3"
  },
  "language_info": {
   "codemirror_mode": {
    "name": "ipython",
    "version": 3
   },
   "file_extension": ".py",
   "mimetype": "text/x-python",
   "name": "python",
   "nbconvert_exporter": "python",
   "pygments_lexer": "ipython3",
   "version": "3.11.7"
  }
 },
 "nbformat": 4,
 "nbformat_minor": 5
}

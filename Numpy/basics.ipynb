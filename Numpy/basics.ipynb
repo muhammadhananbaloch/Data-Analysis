{
 "cells": [
  {
   "cell_type": "markdown",
   "id": "54bbe1fc-2ed5-4806-a9e5-d005514c7221",
   "metadata": {},
   "source": [
    "## Load in Numpy (remember to pip instal numpy first)"
   ]
  },
  {
   "cell_type": "code",
   "execution_count": 2,
   "id": "c6ef1cf4-e6f9-46af-9c1e-657b412678f9",
   "metadata": {},
   "outputs": [],
   "source": [
    "import numpy as np\n",
    "import sys"
   ]
  },
  {
   "cell_type": "markdown",
   "id": "e643bde4-5ba8-452c-8267-a6f168798c12",
   "metadata": {},
   "source": [
    "## The Basics"
   ]
  },
  {
   "cell_type": "code",
   "execution_count": 19,
   "id": "0eceafec-d94c-41ad-8afc-abb44211c4e8",
   "metadata": {},
   "outputs": [
    {
     "name": "stdout",
     "output_type": "stream",
     "text": [
      "[1 2 3]\n"
     ]
    }
   ],
   "source": [
    "a = np.array([1, 2, 3], dtype='int32')\n",
    "print(a)"
   ]
  },
  {
   "cell_type": "code",
   "execution_count": 5,
   "id": "0cb33723-62a8-4391-a24f-f7fd445a8fc3",
   "metadata": {},
   "outputs": [
    {
     "name": "stdout",
     "output_type": "stream",
     "text": [
      "[[9. 8. 7.]\n",
      " [6. 5. 4.]]\n"
     ]
    }
   ],
   "source": [
    "b = np.array([[9.0, 8.0, 7.0], [6.0, 5.0, 4.0]])\n",
    "print(b)"
   ]
  },
  {
   "cell_type": "code",
   "execution_count": 8,
   "id": "1ed681b0-b80a-4462-8edd-4b75ac97ffe6",
   "metadata": {},
   "outputs": [
    {
     "name": "stdout",
     "output_type": "stream",
     "text": [
      "1\n",
      "2\n"
     ]
    }
   ],
   "source": [
    "# Get Dimension\n",
    "print(a.ndim)\n",
    "print(b.ndim)"
   ]
  },
  {
   "cell_type": "code",
   "execution_count": 11,
   "id": "8cc3a9fb-9ebd-4c64-b34d-ccf1877c2a34",
   "metadata": {},
   "outputs": [
    {
     "name": "stdout",
     "output_type": "stream",
     "text": [
      "(3,)\n",
      "(2, 3)\n"
     ]
    }
   ],
   "source": [
    "# Get shape\n",
    "print(a.shape)\n",
    "print(b.shape)"
   ]
  },
  {
   "cell_type": "code",
   "execution_count": 16,
   "id": "44c2df91-7502-4c2b-ac6c-dec3b6093dd0",
   "metadata": {},
   "outputs": [
    {
     "data": {
      "text/plain": [
       "dtype('int16')"
      ]
     },
     "execution_count": 16,
     "metadata": {},
     "output_type": "execute_result"
    }
   ],
   "source": [
    "# Get Type\n",
    "a.dtype"
   ]
  },
  {
   "cell_type": "code",
   "execution_count": 17,
   "id": "9e499da3-d9d1-45bc-b474-a7045080c73d",
   "metadata": {},
   "outputs": [],
   "source": [
    "# Get size"
   ]
  },
  {
   "cell_type": "code",
   "execution_count": 27,
   "id": "73d5605b-2b6f-4041-afb6-1b191a1ac22d",
   "metadata": {},
   "outputs": [
    {
     "data": {
      "text/plain": [
       "4"
      ]
     },
     "execution_count": 27,
     "metadata": {},
     "output_type": "execute_result"
    }
   ],
   "source": [
    "# Get Size\n",
    "a.itemsize"
   ]
  },
  {
   "cell_type": "code",
   "execution_count": 29,
   "id": "7c94efb2-e601-4cb3-97c4-51414eee5d7c",
   "metadata": {},
   "outputs": [
    {
     "name": "stdout",
     "output_type": "stream",
     "text": [
      "12\n",
      "12\n"
     ]
    }
   ],
   "source": [
    "# Get total size\n",
    "print(a.size * a.itemsize)\n",
    "#or\n",
    "print(a.nbytes)"
   ]
  }
 ],
 "metadata": {
  "kernelspec": {
   "display_name": "Python 3 (ipykernel)",
   "language": "python",
   "name": "python3"
  },
  "language_info": {
   "codemirror_mode": {
    "name": "ipython",
    "version": 3
   },
   "file_extension": ".py",
   "mimetype": "text/x-python",
   "name": "python",
   "nbconvert_exporter": "python",
   "pygments_lexer": "ipython3",
   "version": "3.11.7"
  }
 },
 "nbformat": 4,
 "nbformat_minor": 5
}
